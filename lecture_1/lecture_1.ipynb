{
 "cells": [
  {
   "cell_type": "markdown",
   "metadata": {},
   "source": [
    "### Motivation Examples\n",
    "#### Automating Routine Tasks\n",
    "#### Data Analysis and Visualisations\n",
    "#### Building Simple Games\n",
    "#### Web Scraping and Information Gathering\n",
    "#### Creating Your Personal Assistant"
   ]
  },
  {
   "cell_type": "code",
   "execution_count": 1,
   "metadata": {},
   "outputs": [
    {
     "name": "stdout",
     "output_type": "stream",
     "text": [
      "Hello, world!\n"
     ]
    }
   ],
   "source": [
    "# Print a greeting message\n",
    "print(\"Hello, world!\")\n"
   ]
  },
  {
   "cell_type": "code",
   "execution_count": 2,
   "metadata": {},
   "outputs": [
    {
     "name": "stdout",
     "output_type": "stream",
     "text": [
      "The sum is: 8\n"
     ]
    }
   ],
   "source": [
    "# Add two numbers and print the result\n",
    "a = 5\n",
    "b = 3\n",
    "sum = a + b\n",
    "print(\"The sum is:\", sum)\n"
   ]
  },
  {
   "cell_type": "code",
   "execution_count": 3,
   "metadata": {},
   "outputs": [
    {
     "name": "stdout",
     "output_type": "stream",
     "text": [
      "Hello, michal!\n"
     ]
    }
   ],
   "source": [
    "# Ask the user for their name and greet them\n",
    "name = input(\"What is your name? \")\n",
    "print(\"Hello, \" + name + \"!\")\n"
   ]
  },
  {
   "cell_type": "code",
   "execution_count": 4,
   "metadata": {},
   "outputs": [
    {
     "name": "stdout",
     "output_type": "stream",
     "text": [
      "The number is positive.\n"
     ]
    }
   ],
   "source": [
    "# Check if a number is positive or negative\n",
    "number = float(input(\"Enter a number: \"))\n",
    "if number > 0:\n",
    "    print(\"The number is positive.\")\n",
    "elif number < 0:\n",
    "    print(\"The number is negative.\")\n",
    "else:\n",
    "    print(\"The number is zero.\")\n"
   ]
  },
  {
   "cell_type": "code",
   "execution_count": 5,
   "metadata": {},
   "outputs": [
    {
     "name": "stdout",
     "output_type": "stream",
     "text": [
      "apple\n",
      "banana\n",
      "cherry\n"
     ]
    }
   ],
   "source": [
    "# Create a list of fruits and print each fruit\n",
    "fruits = [\"apple\", \"banana\", \"cherry\"]\n",
    "for fruit in fruits:\n",
    "    print(fruit)\n"
   ]
  },
  {
   "cell_type": "code",
   "execution_count": 6,
   "metadata": {},
   "outputs": [
    {
     "name": "stdout",
     "output_type": "stream",
     "text": [
      "The circumference of the circle is: 15.707963267948966\n",
      "The area of the circle is: 19.634954084936208\n"
     ]
    }
   ],
   "source": [
    "import math\n",
    "\n",
    "# Read diameter from user\n",
    "diameter = float(input(\"Enter the diameter of the circle: \"))\n",
    "\n",
    "# Calculate radius\n",
    "radius = diameter / 2\n",
    "\n",
    "# Calculate circumference\n",
    "circumference = 2 * math.pi * radius\n",
    "\n",
    "# Calculate area\n",
    "area = math.pi * (radius ** 2)\n",
    "\n",
    "# Print the results\n",
    "print(f\"The circumference of the circle is: {circumference}\")\n",
    "print(f\"The area of the circle is: {area}\")\n"
   ]
  },
  {
   "cell_type": "code",
   "execution_count": 8,
   "metadata": {},
   "outputs": [
    {
     "name": "stdout",
     "output_type": "stream",
     "text": [
      "String to Integer: 100\n",
      "String to Float: 100.0\n",
      "Integer to Boolean: True\n",
      "Float to Boolean: True\n",
      "String to Boolean: True\n",
      "Float to Integer: 3\n"
     ]
    }
   ],
   "source": [
    "# Creating variables with different data types\n",
    "int_var = 42              # Integer\n",
    "float_var = 3.14         # Float\n",
    "bool_var = True          # Boolean\n",
    "str_var = \"100\"          # String\n",
    "\n",
    "# Retyping (converting)\n",
    "\n",
    "# String to number (integer in this case, but could also be converted to float)\n",
    "int_from_str = int(str_var)  # Converting string to integer\n",
    "float_from_str = float(str_var)  # Converting string to float\n",
    "\n",
    "# Various types to boolean\n",
    "bool_from_int = bool(int_var)  # True for any int other than 0\n",
    "bool_from_float = bool(float_var)  # True for any float other than 0.0\n",
    "bool_from_str = bool(str_var)  # True for any string other than empty \"\"\n",
    "\n",
    "# Float to int\n",
    "int_from_float = int(float_var)  # This will truncate the decimal part\n",
    "\n",
    "# Printing out the results\n",
    "print(f\"String to Integer: {int_from_str}\")\n",
    "print(f\"String to Float: {float_from_str}\")\n",
    "print(f\"Integer to Boolean: {bool_from_int}\")\n",
    "print(f\"Float to Boolean: {bool_from_float}\")\n",
    "print(f\"String to Boolean: {bool_from_str}\")\n",
    "print(f\"Float to Integer: {int_from_float}\")\n",
    "\n"
   ]
  },
  {
   "cell_type": "code",
   "execution_count": 14,
   "metadata": {},
   "outputs": [
    {
     "name": "stdout",
     "output_type": "stream",
     "text": [
      "' \" ' \"\n",
      "\\n'\n",
      "The length of your name is: 3\n",
      "Your name with the first letter capitalized: Mic\n"
     ]
    }
   ],
   "source": [
    "# Output special characters to the console\n",
    "print('\\' \" \\' \"')\n",
    "\n",
    "# Output new line character\n",
    "print('\\\\n\\'')\n",
    "\n",
    "# Read user's name and print out its length\n",
    "name = input(\"Enter your name: \")\n",
    "print(f\"The length of your name is: {len(name)}\")\n",
    "\n",
    "# Read name as input and capitalize the first letter\n",
    "name_capitalized = input(\"Enter your name again: \").capitalize()\n",
    "print(f\"Your name with the first letter capitalized: {name_capitalized}\")\n"
   ]
  },
  {
   "cell_type": "code",
   "execution_count": 15,
   "metadata": {},
   "outputs": [
    {
     "name": "stdout",
     "output_type": "stream",
     "text": [
      "The letter 'M' is in the name.\n"
     ]
    }
   ],
   "source": [
    "# Zjistěte jestli se v zadaném jméně vyskytuje písmeno “M” \n",
    "name = input(\"Enter a name: \")\n",
    "if \"M\" in name or \"m\" in name:\n",
    "    print(\"The letter 'M' is in the name.\")\n",
    "else:\n",
    "    print(\"The letter 'M' is not in the name.\")\n"
   ]
  },
  {
   "cell_type": "code",
   "execution_count": 17,
   "metadata": {},
   "outputs": [
    {
     "name": "stdout",
     "output_type": "stream",
     "text": [
      "The modified name is: tbots\n"
     ]
    }
   ],
   "source": [
    "# Nahraďte v zadaném jméně všechny “a” za “b”\n",
    "name = input(\"Enter a name: \")\n",
    "modified_name = name.replace(\"a\", \"b\")\n",
    "print(f\"The modified name is: {modified_name}\")\n"
   ]
  },
  {
   "cell_type": "code",
   "execution_count": 19,
   "metadata": {},
   "outputs": [
    {
     "name": "stdout",
     "output_type": "stream",
     "text": [
      "Text without whitespaces: taots\n"
     ]
    }
   ],
   "source": [
    "# Ze zadaného textu odstraňte všechny bílé znaky (mezery, taby, nové řádky)\n",
    "text = input(\"Enter some text: \")\n",
    "text_no_whitespaces = \"\".join(text.split())\n",
    "print(f\"Text without whitespaces: {text_no_whitespaces}\")\n"
   ]
  },
  {
   "cell_type": "code",
   "execution_count": 20,
   "metadata": {},
   "outputs": [
    {
     "name": "stdout",
     "output_type": "stream",
     "text": [
      "Modified string: reasta$tuj $aots\n"
     ]
    }
   ],
   "source": [
    "# Napište program, který v zadaném stringu zamění všechny výskyty prvního znaku za $, první znak však zůstane zachován např. restartuj router -> resta$tuj $oute$\n",
    "text = input(\"Enter a string: \")\n",
    "if text:  # Check if text is not empty\n",
    "    first_char = text[0]\n",
    "    modified_text = first_char + text[1:].replace(first_char, '$')\n",
    "    print(f\"Modified string: {modified_text}\")\n",
    "else:\n",
    "    print(\"The input string is empty.\")\n"
   ]
  },
  {
   "cell_type": "markdown",
   "metadata": {},
   "source": [
    "### Řetězce - string slicing\n"
   ]
  },
  {
   "cell_type": "code",
   "execution_count": 21,
   "metadata": {},
   "outputs": [
    {
     "name": "stdout",
     "output_type": "stream",
     "text": [
      "Poslední polovina textu je: cus\n"
     ]
    }
   ],
   "source": [
    "# Načtěte od uživatele vstup a vypište jen poslední polovinu:\n",
    "text = input(\"Zadejte text: \")\n",
    "half_index = len(text) // 2\n",
    "print(\"Poslední polovina textu je:\", text[half_index:])\n"
   ]
  },
  {
   "cell_type": "code",
   "execution_count": 23,
   "metadata": {},
   "outputs": [
    {
     "name": "stdout",
     "output_type": "stream",
     "text": [
      "Bc. Petr Novák\n",
      "Jméno bez titulu: Petr Novák\n"
     ]
    }
   ],
   "source": [
    "# Uložte do proměnné vaše jméno s titulem, který získáte za 2 roky:\n",
    "full_name_with_title = \"Bc. Petr Novák\"\n",
    "print(full_name_with_title)\n",
    "\n",
    "# Vypište jméno bez titulu pomocí string slicing:\n",
    "name_without_title = full_name_with_title[4:]  # Odstranění prvních čtyř znaků (Bc. a mezera)\n",
    "print(\"Jméno bez titulu:\", name_without_title)\n"
   ]
  },
  {
   "cell_type": "code",
   "execution_count": 24,
   "metadata": {},
   "outputs": [
    {
     "name": "stdout",
     "output_type": "stream",
     "text": [
      "Poslední znak jména: k\n"
     ]
    }
   ],
   "source": [
    "# Vypište poslední znak vašeho jména:\n",
    "last_character = name_without_title[-1]  # -1 index pro poslední znak\n",
    "print(\"Poslední znak jména:\", last_character)\n"
   ]
  },
  {
   "cell_type": "code",
   "execution_count": 26,
   "metadata": {},
   "outputs": [
    {
     "name": "stdout",
     "output_type": "stream",
     "text": [
      "titul: Bc., jmeno: Petr, prijmeni: Novák\n"
     ]
    }
   ],
   "source": [
    "# Pomoci slice stringu uložte váš budoucí titul, jméno a příjmení do 3 různých proměnných:\n",
    "title = full_name_with_title[:3]  # První tři znaky pro titul\n",
    "name = full_name_with_title[4:].split()[0]  # Rozdělení stringu na slova a výběr prvního\n",
    "surname = full_name_with_title[4:].split()[1]  # Rozdělení stringu na slova a výběr druhého\n",
    "print(f\"titul: {title}, jmeno: {name}, prijmeni: {surname}\")"
   ]
  },
  {
   "cell_type": "code",
   "execution_count": 27,
   "metadata": {},
   "outputs": [
    {
     "name": "stdout",
     "output_type": "stream",
     "text": [
      "Každý druhý znak jména: Pt\n"
     ]
    }
   ],
   "source": [
    "# Vypište každý druhý znak vašeho jména:\n",
    "every_second_char = name[::2]  # Výběr každého druhého znaku\n",
    "print(\"Každý druhý znak jména:\", every_second_char)\n"
   ]
  },
  {
   "cell_type": "code",
   "execution_count": 28,
   "metadata": {},
   "outputs": [
    {
     "name": "stdout",
     "output_type": "stream",
     "text": [
      "Jméno opačně: rteP\n"
     ]
    }
   ],
   "source": [
    "# Vypište vaše jméno opačně:\n",
    "name_reversed = name[::-1]  # Obrácení stringu\n",
    "print(\"Jméno opačně:\", name_reversed)\n"
   ]
  },
  {
   "cell_type": "code",
   "execution_count": 30,
   "metadata": {},
   "outputs": [
    {
     "name": "stdout",
     "output_type": "stream",
     "text": [
      "Ahoj, Bc. Petr Novák!\n"
     ]
    }
   ],
   "source": [
    "# Vypište pozdrav za pomocí proměnných z předchozího příkladu:\n",
    "print(f\"Ahoj, {title} {name} {surname}!\")\n"
   ]
  },
  {
   "cell_type": "code",
   "execution_count": 31,
   "metadata": {},
   "outputs": [
    {
     "name": "stdout",
     "output_type": "stream",
     "text": [
      "Hodnota π na dvě desetinná místa: 3.14\n"
     ]
    }
   ],
   "source": [
    "# Uložení čísla π do proměnné a výpis jen na dvě desetinná místa pomocí f-strings:\n",
    "pi = 3.1415926\n",
    "print(f\"Hodnota π na dvě desetinná místa: {pi:.2f}\")\n"
   ]
  },
  {
   "cell_type": "code",
   "execution_count": 32,
   "metadata": {},
   "outputs": [
    {
     "name": "stdout",
     "output_type": "stream",
     "text": [
      "Zarovnaný string: ********Petr********\n"
     ]
    }
   ],
   "source": [
    "# Zarovnání stringu uloženého v proměnné tak, aby byl vždy 20 znaků dlouhý a hodnota byla uprostřed. Prázdné místa budou vyplněna hvězdičkami:\n",
    "centered_string = f\"{name:^20}\".replace(' ', '*')  # Nahrazení mezer hvězdičkami\n",
    "print(\"Zarovnaný string:\", centered_string)\n"
   ]
  },
  {
   "cell_type": "code",
   "execution_count": 43,
   "metadata": {},
   "outputs": [
    {
     "name": "stdout",
     "output_type": "stream",
     "text": [
      "Předmět             Známka    Počet kreditů  \n",
      "ZOO                 A         5              \n",
      "ALGO                B         6              \n",
      "TZI                 C         5              \n"
     ]
    }
   ],
   "source": [
    "# Vytvořte a vypište zarovnanou tabulku vašich známek z minulého semestru\n",
    "# Definice známek a jejich atributů\n",
    "grades = [\n",
    "    {\"subject\": \"ZOO\", \"grade\": \"A\", \"credits\": 5},\n",
    "    {\"subject\": \"ALGO\", \"grade\": \"B\", \"credits\": 6},\n",
    "    {\"subject\": \"TZI\", \"grade\": \"C\", \"credits\": 5}\n",
    "]\n",
    "\n",
    "# Výpis hlavičky tabulky\n",
    "print(f\"{'Předmět':<20}{'Známka':<10}{'Počet kreditů':<15}\")\n",
    "\n",
    "# Výpis dat známek\n",
    "for grade in grades:\n",
    "    print(f\"{grade['subject']:<20}{grade['grade']:<10}{grade['credits']:<15}\")\n"
   ]
  },
  {
   "cell_type": "code",
   "execution_count": 45,
   "metadata": {},
   "outputs": [
    {
     "name": "stdout",
     "output_type": "stream",
     "text": [
      "  |   |  \n",
      "-----\n",
      "  |   |  \n",
      "-----\n",
      "  |   |  \n",
      "-----\n",
      "Invalid input. Please enter a number from 1 to 9.\n",
      "X |   |  \n",
      "-----\n",
      "  |   |  \n",
      "-----\n",
      "  |   |  \n",
      "-----\n",
      "X |   |  \n",
      "-----\n",
      "  | O |  \n",
      "-----\n",
      "  |   |  \n",
      "-----\n",
      "X |   |  \n",
      "-----\n",
      "  | O | X\n",
      "-----\n",
      "  |   |  \n",
      "-----\n",
      "X |   |  \n",
      "-----\n",
      "  | O | X\n",
      "-----\n",
      "  | O |  \n",
      "-----\n",
      "This cell is already taken. Please try again.\n",
      "X |   |  \n",
      "-----\n",
      "X | O | X\n",
      "-----\n",
      "  | O |  \n",
      "-----\n"
     ]
    },
    {
     "ename": "KeyboardInterrupt",
     "evalue": "Interrupted by user",
     "output_type": "error",
     "traceback": [
      "\u001b[0;31m---------------------------------------------------------------------------\u001b[0m",
      "\u001b[0;31mKeyboardInterrupt\u001b[0m                         Traceback (most recent call last)",
      "Cell \u001b[0;32mIn[45], line 56\u001b[0m\n\u001b[1;32m     52\u001b[0m             \u001b[38;5;28;01mbreak\u001b[39;00m\n\u001b[1;32m     54\u001b[0m         current_player \u001b[38;5;241m=\u001b[39m \u001b[38;5;124m\"\u001b[39m\u001b[38;5;124mO\u001b[39m\u001b[38;5;124m\"\u001b[39m \u001b[38;5;28;01mif\u001b[39;00m current_player \u001b[38;5;241m==\u001b[39m \u001b[38;5;124m\"\u001b[39m\u001b[38;5;124mX\u001b[39m\u001b[38;5;124m\"\u001b[39m \u001b[38;5;28;01melse\u001b[39;00m \u001b[38;5;124m\"\u001b[39m\u001b[38;5;124mX\u001b[39m\u001b[38;5;124m\"\u001b[39m\n\u001b[0;32m---> 56\u001b[0m \u001b[43mplay_game\u001b[49m\u001b[43m(\u001b[49m\u001b[43m)\u001b[49m\n",
      "Cell \u001b[0;32mIn[45], line 42\u001b[0m, in \u001b[0;36mplay_game\u001b[0;34m()\u001b[0m\n\u001b[1;32m     40\u001b[0m \u001b[38;5;28;01mwhile\u001b[39;00m \u001b[38;5;28;01mTrue\u001b[39;00m:\n\u001b[1;32m     41\u001b[0m     print_board(board)\n\u001b[0;32m---> 42\u001b[0m     move \u001b[38;5;241m=\u001b[39m \u001b[43mget_player_move\u001b[49m\u001b[43m(\u001b[49m\u001b[43mboard\u001b[49m\u001b[43m,\u001b[49m\u001b[43m \u001b[49m\u001b[43mcurrent_player\u001b[49m\u001b[43m)\u001b[49m\n\u001b[1;32m     43\u001b[0m     board[move \u001b[38;5;241m/\u001b[39m\u001b[38;5;241m/\u001b[39m \u001b[38;5;241m3\u001b[39m][move \u001b[38;5;241m%\u001b[39m \u001b[38;5;241m3\u001b[39m] \u001b[38;5;241m=\u001b[39m current_player\n\u001b[1;32m     45\u001b[0m     \u001b[38;5;28;01mif\u001b[39;00m check_win(board):\n",
      "Cell \u001b[0;32mIn[45], line 26\u001b[0m, in \u001b[0;36mget_player_move\u001b[0;34m(board, player)\u001b[0m\n\u001b[1;32m     24\u001b[0m \u001b[38;5;28;01mwhile\u001b[39;00m \u001b[38;5;28;01mTrue\u001b[39;00m:\n\u001b[1;32m     25\u001b[0m     \u001b[38;5;28;01mtry\u001b[39;00m:\n\u001b[0;32m---> 26\u001b[0m         move \u001b[38;5;241m=\u001b[39m \u001b[38;5;28mint\u001b[39m(\u001b[38;5;28;43minput\u001b[39;49m\u001b[43m(\u001b[49m\u001b[38;5;124;43mf\u001b[39;49m\u001b[38;5;124;43m\"\u001b[39;49m\u001b[38;5;124;43mPlayer \u001b[39;49m\u001b[38;5;132;43;01m{\u001b[39;49;00m\u001b[43mplayer\u001b[49m\u001b[38;5;132;43;01m}\u001b[39;49;00m\u001b[38;5;124;43m, enter your move (1-9): \u001b[39;49m\u001b[38;5;124;43m\"\u001b[39;49m\u001b[43m)\u001b[49m) \u001b[38;5;241m-\u001b[39m \u001b[38;5;241m1\u001b[39m\n\u001b[1;32m     27\u001b[0m         \u001b[38;5;28;01mif\u001b[39;00m move \u001b[38;5;241m<\u001b[39m \u001b[38;5;241m0\u001b[39m \u001b[38;5;129;01mor\u001b[39;00m move \u001b[38;5;241m>\u001b[39m \u001b[38;5;241m8\u001b[39m:\n\u001b[1;32m     28\u001b[0m             \u001b[38;5;28mprint\u001b[39m(\u001b[38;5;124m\"\u001b[39m\u001b[38;5;124mInvalid move. Please try again.\u001b[39m\u001b[38;5;124m\"\u001b[39m)\n",
      "File \u001b[0;32m~/.local/lib/python3.9/site-packages/ipykernel/kernelbase.py:1187\u001b[0m, in \u001b[0;36mKernel.raw_input\u001b[0;34m(self, prompt)\u001b[0m\n\u001b[1;32m   1185\u001b[0m     msg \u001b[38;5;241m=\u001b[39m \u001b[38;5;124m\"\u001b[39m\u001b[38;5;124mraw_input was called, but this frontend does not support input requests.\u001b[39m\u001b[38;5;124m\"\u001b[39m\n\u001b[1;32m   1186\u001b[0m     \u001b[38;5;28;01mraise\u001b[39;00m StdinNotImplementedError(msg)\n\u001b[0;32m-> 1187\u001b[0m \u001b[38;5;28;01mreturn\u001b[39;00m \u001b[38;5;28;43mself\u001b[39;49m\u001b[38;5;241;43m.\u001b[39;49m\u001b[43m_input_request\u001b[49m\u001b[43m(\u001b[49m\n\u001b[1;32m   1188\u001b[0m \u001b[43m    \u001b[49m\u001b[38;5;28;43mstr\u001b[39;49m\u001b[43m(\u001b[49m\u001b[43mprompt\u001b[49m\u001b[43m)\u001b[49m\u001b[43m,\u001b[49m\n\u001b[1;32m   1189\u001b[0m \u001b[43m    \u001b[49m\u001b[38;5;28;43mself\u001b[39;49m\u001b[38;5;241;43m.\u001b[39;49m\u001b[43m_parent_ident\u001b[49m\u001b[43m[\u001b[49m\u001b[38;5;124;43m\"\u001b[39;49m\u001b[38;5;124;43mshell\u001b[39;49m\u001b[38;5;124;43m\"\u001b[39;49m\u001b[43m]\u001b[49m\u001b[43m,\u001b[49m\n\u001b[1;32m   1190\u001b[0m \u001b[43m    \u001b[49m\u001b[38;5;28;43mself\u001b[39;49m\u001b[38;5;241;43m.\u001b[39;49m\u001b[43mget_parent\u001b[49m\u001b[43m(\u001b[49m\u001b[38;5;124;43m\"\u001b[39;49m\u001b[38;5;124;43mshell\u001b[39;49m\u001b[38;5;124;43m\"\u001b[39;49m\u001b[43m)\u001b[49m\u001b[43m,\u001b[49m\n\u001b[1;32m   1191\u001b[0m \u001b[43m    \u001b[49m\u001b[43mpassword\u001b[49m\u001b[38;5;241;43m=\u001b[39;49m\u001b[38;5;28;43;01mFalse\u001b[39;49;00m\u001b[43m,\u001b[49m\n\u001b[1;32m   1192\u001b[0m \u001b[43m\u001b[49m\u001b[43m)\u001b[49m\n",
      "File \u001b[0;32m~/.local/lib/python3.9/site-packages/ipykernel/kernelbase.py:1230\u001b[0m, in \u001b[0;36mKernel._input_request\u001b[0;34m(self, prompt, ident, parent, password)\u001b[0m\n\u001b[1;32m   1227\u001b[0m \u001b[38;5;28;01mexcept\u001b[39;00m \u001b[38;5;167;01mKeyboardInterrupt\u001b[39;00m:\n\u001b[1;32m   1228\u001b[0m     \u001b[38;5;66;03m# re-raise KeyboardInterrupt, to truncate traceback\u001b[39;00m\n\u001b[1;32m   1229\u001b[0m     msg \u001b[38;5;241m=\u001b[39m \u001b[38;5;124m\"\u001b[39m\u001b[38;5;124mInterrupted by user\u001b[39m\u001b[38;5;124m\"\u001b[39m\n\u001b[0;32m-> 1230\u001b[0m     \u001b[38;5;28;01mraise\u001b[39;00m \u001b[38;5;167;01mKeyboardInterrupt\u001b[39;00m(msg) \u001b[38;5;28;01mfrom\u001b[39;00m \u001b[38;5;28mNone\u001b[39m\n\u001b[1;32m   1231\u001b[0m \u001b[38;5;28;01mexcept\u001b[39;00m \u001b[38;5;167;01mException\u001b[39;00m:\n\u001b[1;32m   1232\u001b[0m     \u001b[38;5;28mself\u001b[39m\u001b[38;5;241m.\u001b[39mlog\u001b[38;5;241m.\u001b[39mwarning(\u001b[38;5;124m\"\u001b[39m\u001b[38;5;124mInvalid Message:\u001b[39m\u001b[38;5;124m\"\u001b[39m, exc_info\u001b[38;5;241m=\u001b[39m\u001b[38;5;28;01mTrue\u001b[39;00m)\n",
      "\u001b[0;31mKeyboardInterrupt\u001b[0m: Interrupted by user"
     ]
    }
   ],
   "source": [
    "def print_board(board):\n",
    "    for row in board:\n",
    "        print(\" | \".join(row))\n",
    "        print(\"-\" * 5)\n",
    "\n",
    "def check_win(board):\n",
    "    # Check horizontal, vertical, and diagonal for win\n",
    "    for i in range(3):\n",
    "        if board[i][0] == board[i][1] == board[i][2] != \" \":  # Check rows\n",
    "            return True\n",
    "        if board[0][i] == board[1][i] == board[2][i] != \" \":  # Check columns\n",
    "            return True\n",
    "    if board[0][0] == board[1][1] == board[2][2] != \" \" or board[0][2] == board[1][1] == board[2][0] != \" \":  # Check diagonals\n",
    "        return True\n",
    "    return False\n",
    "\n",
    "def check_draw(board):\n",
    "    for row in board:\n",
    "        if \" \" in row:\n",
    "            return False\n",
    "    return True\n",
    "\n",
    "def get_player_move(board, player):\n",
    "    while True:\n",
    "        try:\n",
    "            move = int(input(f\"Player {player}, enter your move (1-9): \")) - 1\n",
    "            if move < 0 or move > 8:\n",
    "                print(\"Invalid move. Please try again.\")\n",
    "            elif board[move // 3][move % 3] != \" \":\n",
    "                print(\"This cell is already taken. Please try again.\")\n",
    "            else:\n",
    "                return move\n",
    "        except ValueError:\n",
    "            print(\"Invalid input. Please enter a number from 1 to 9.\")\n",
    "\n",
    "def play_game():\n",
    "    board = [[\" \" for _ in range(3)] for _ in range(3)]\n",
    "    current_player = \"X\"\n",
    "\n",
    "    while True:\n",
    "        print_board(board)\n",
    "        move = get_player_move(board, current_player)\n",
    "        board[move // 3][move % 3] = current_player\n",
    "\n",
    "        if check_win(board):\n",
    "            print_board(board)\n",
    "            print(f\"Player {current_player} wins!\")\n",
    "            break\n",
    "        if check_draw(board):\n",
    "            print_board(board)\n",
    "            print(\"It's a draw!\")\n",
    "            break\n",
    "\n",
    "        current_player = \"O\" if current_player == \"X\" else \"X\"\n",
    "\n",
    "play_game()\n"
   ]
  },
  {
   "cell_type": "code",
   "execution_count": null,
   "metadata": {},
   "outputs": [],
   "source": []
  }
 ],
 "metadata": {
  "kernelspec": {
   "display_name": "Python 3",
   "language": "python",
   "name": "python3"
  },
  "language_info": {
   "codemirror_mode": {
    "name": "ipython",
    "version": 3
   },
   "file_extension": ".py",
   "mimetype": "text/x-python",
   "name": "python",
   "nbconvert_exporter": "python",
   "pygments_lexer": "ipython3",
   "version": "3.9.5"
  }
 },
 "nbformat": 4,
 "nbformat_minor": 2
}
