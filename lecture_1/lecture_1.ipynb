{
 "cells": [
  {
   "cell_type": "markdown",
   "metadata": {},
   "source": [
    "### Motivation Examples\n",
    "#### Automating Routine Tasks\n",
    "#### Data Analysis and Visualisations\n",
    "#### Building Simple Games\n",
    "#### Web Scraping and Information Gathering\n",
    "#### Creating Your Personal Assistant"
   ]
  },
  {
   "cell_type": "code",
   "execution_count": 1,
   "metadata": {},
   "outputs": [
    {
     "name": "stdout",
     "output_type": "stream",
     "text": [
      "Hello, world!\n"
     ]
    }
   ],
   "source": [
    "# Print a greeting message\n",
    "print(\"Hello, world!\")\n"
   ]
  },
  {
   "cell_type": "code",
   "execution_count": 2,
   "metadata": {},
   "outputs": [
    {
     "name": "stdout",
     "output_type": "stream",
     "text": [
      "The sum is: 8\n"
     ]
    }
   ],
   "source": [
    "# Add two numbers and print the result\n",
    "a = 5\n",
    "b = 3\n",
    "sum = a + b\n",
    "print(\"The sum is:\", sum)\n"
   ]
  },
  {
   "cell_type": "code",
   "execution_count": 3,
   "metadata": {},
   "outputs": [
    {
     "name": "stdout",
     "output_type": "stream",
     "text": [
      "Hello, michal!\n"
     ]
    }
   ],
   "source": [
    "# Ask the user for their name and greet them\n",
    "name = input(\"What is your name? \")\n",
    "print(\"Hello, \" + name + \"!\")\n"
   ]
  },
  {
   "cell_type": "code",
   "execution_count": 4,
   "metadata": {},
   "outputs": [
    {
     "name": "stdout",
     "output_type": "stream",
     "text": [
      "The number is positive.\n"
     ]
    }
   ],
   "source": [
    "# Check if a number is positive or negative\n",
    "number = float(input(\"Enter a number: \"))\n",
    "if number > 0:\n",
    "    print(\"The number is positive.\")\n",
    "elif number < 0:\n",
    "    print(\"The number is negative.\")\n",
    "else:\n",
    "    print(\"The number is zero.\")\n"
   ]
  },
  {
   "cell_type": "code",
   "execution_count": 5,
   "metadata": {},
   "outputs": [
    {
     "name": "stdout",
     "output_type": "stream",
     "text": [
      "apple\n",
      "banana\n",
      "cherry\n"
     ]
    }
   ],
   "source": [
    "# Create a list of fruits and print each fruit\n",
    "fruits = [\"apple\", \"banana\", \"cherry\"]\n",
    "for fruit in fruits:\n",
    "    print(fruit)\n"
   ]
  },
  {
   "cell_type": "code",
   "execution_count": 6,
   "metadata": {},
   "outputs": [
    {
     "name": "stdout",
     "output_type": "stream",
     "text": [
      "The circumference of the circle is: 15.707963267948966\n",
      "The area of the circle is: 19.634954084936208\n"
     ]
    }
   ],
   "source": [
    "import math\n",
    "\n",
    "# Read diameter from user\n",
    "diameter = float(input(\"Enter the diameter of the circle: \"))\n",
    "\n",
    "# Calculate radius\n",
    "radius = diameter / 2\n",
    "\n",
    "# Calculate circumference\n",
    "circumference = 2 * math.pi * radius\n",
    "\n",
    "# Calculate area\n",
    "area = math.pi * (radius ** 2)\n",
    "\n",
    "# Print the results\n",
    "print(f\"The circumference of the circle is: {circumference}\")\n",
    "print(f\"The area of the circle is: {area}\")\n"
   ]
  },
  {
   "cell_type": "code",
   "execution_count": 8,
   "metadata": {},
   "outputs": [
    {
     "name": "stdout",
     "output_type": "stream",
     "text": [
      "String to Integer: 100\n",
      "String to Float: 100.0\n",
      "Integer to Boolean: True\n",
      "Float to Boolean: True\n",
      "String to Boolean: True\n",
      "Float to Integer: 3\n"
     ]
    }
   ],
   "source": [
    "# Creating variables with different data types\n",
    "int_var = 42              # Integer\n",
    "float_var = 3.14         # Float\n",
    "bool_var = True          # Boolean\n",
    "str_var = \"100\"          # String\n",
    "\n",
    "# Retyping (converting)\n",
    "\n",
    "# String to number (integer in this case, but could also be converted to float)\n",
    "int_from_str = int(str_var)  # Converting string to integer\n",
    "float_from_str = float(str_var)  # Converting string to float\n",
    "\n",
    "# Various types to boolean\n",
    "bool_from_int = bool(int_var)  # True for any int other than 0\n",
    "bool_from_float = bool(float_var)  # True for any float other than 0.0\n",
    "bool_from_str = bool(str_var)  # True for any string other than empty \"\"\n",
    "\n",
    "# Float to int\n",
    "int_from_float = int(float_var)  # This will truncate the decimal part\n",
    "\n",
    "# Printing out the results\n",
    "print(f\"String to Integer: {int_from_str}\")\n",
    "print(f\"String to Float: {float_from_str}\")\n",
    "print(f\"Integer to Boolean: {bool_from_int}\")\n",
    "print(f\"Float to Boolean: {bool_from_float}\")\n",
    "print(f\"String to Boolean: {bool_from_str}\")\n",
    "print(f\"Float to Integer: {int_from_float}\")\n",
    "\n"
   ]
  },
  {
   "cell_type": "code",
   "execution_count": 14,
   "metadata": {},
   "outputs": [
    {
     "name": "stdout",
     "output_type": "stream",
     "text": [
      "' \" ' \"\n",
      "\\n'\n",
      "The length of your name is: 3\n",
      "Your name with the first letter capitalized: Mic\n"
     ]
    }
   ],
   "source": [
    "# Output special characters to the console\n",
    "print('\\' \" \\' \"')\n",
    "\n",
    "# Output new line character\n",
    "print('\\\\n\\'')\n",
    "\n",
    "# Read user's name and print out its length\n",
    "name = input(\"Enter your name: \")\n",
    "print(f\"The length of your name is: {len(name)}\")\n",
    "\n",
    "# Read name as input and capitalize the first letter\n",
    "name_capitalized = input(\"Enter your name again: \").capitalize()\n",
    "print(f\"Your name with the first letter capitalized: {name_capitalized}\")\n"
   ]
  },
  {
   "cell_type": "code",
   "execution_count": 15,
   "metadata": {},
   "outputs": [
    {
     "name": "stdout",
     "output_type": "stream",
     "text": [
      "The letter 'M' is in the name.\n"
     ]
    }
   ],
   "source": [
    "# Zjistěte jestli se v zadaném jméně vyskytuje písmeno “M” \n",
    "name = input(\"Enter a name: \")\n",
    "if \"M\" in name or \"m\" in name:\n",
    "    print(\"The letter 'M' is in the name.\")\n",
    "else:\n",
    "    print(\"The letter 'M' is not in the name.\")\n"
   ]
  },
  {
   "cell_type": "code",
   "execution_count": 17,
   "metadata": {},
   "outputs": [
    {
     "name": "stdout",
     "output_type": "stream",
     "text": [
      "The modified name is: tbots\n"
     ]
    }
   ],
   "source": [
    "# Nahraďte v zadaném jméně všechny “a” za “b”\n",
    "name = input(\"Enter a name: \")\n",
    "modified_name = name.replace(\"a\", \"b\")\n",
    "print(f\"The modified name is: {modified_name}\")\n"
   ]
  },
  {
   "cell_type": "code",
   "execution_count": 19,
   "metadata": {},
   "outputs": [
    {
     "name": "stdout",
     "output_type": "stream",
     "text": [
      "Text without whitespaces: taots\n"
     ]
    }
   ],
   "source": [
    "# Ze zadaného textu odstraňte všechny bílé znaky (mezery, taby, nové řádky)\n",
    "text = input(\"Enter some text: \")\n",
    "text_no_whitespaces = \"\".join(text.split())\n",
    "print(f\"Text without whitespaces: {text_no_whitespaces}\")\n"
   ]
  },
  {
   "cell_type": "code",
   "execution_count": 20,
   "metadata": {},
   "outputs": [
    {
     "name": "stdout",
     "output_type": "stream",
     "text": [
      "Modified string: reasta$tuj $aots\n"
     ]
    }
   ],
   "source": [
    "# Napište program, který v zadaném stringu zamění všechny výskyty prvního znaku za $, první znak však zůstane zachován např. restartuj router -> resta$tuj $oute$\n",
    "text = input(\"Enter a string: \")\n",
    "if text:  # Check if text is not empty\n",
    "    first_char = text[0]\n",
    "    modified_text = first_char + text[1:].replace(first_char, '$')\n",
    "    print(f\"Modified string: {modified_text}\")\n",
    "else:\n",
    "    print(\"The input string is empty.\")\n"
   ]
  },
  {
   "cell_type": "markdown",
   "metadata": {},
   "source": [
    "### Řetězce - string slicing\n"
   ]
  },
  {
   "cell_type": "code",
   "execution_count": 21,
   "metadata": {},
   "outputs": [
    {
     "name": "stdout",
     "output_type": "stream",
     "text": [
      "Poslední polovina textu je: cus\n"
     ]
    }
   ],
   "source": [
    "# Načtěte od uživatele vstup a vypište jen poslední polovinu:\n",
    "text = input(\"Zadejte text: \")\n",
    "half_index = len(text) // 2\n",
    "print(\"Poslední polovina textu je:\", text[half_index:])\n"
   ]
  },
  {
   "cell_type": "code",
   "execution_count": 23,
   "metadata": {},
   "outputs": [
    {
     "name": "stdout",
     "output_type": "stream",
     "text": [
      "Bc. Petr Novák\n",
      "Jméno bez titulu: Petr Novák\n"
     ]
    }
   ],
   "source": [
    "# Uložte do proměnné vaše jméno s titulem, který získáte za 2 roky:\n",
    "full_name_with_title = \"Bc. Petr Novák\"\n",
    "print(full_name_with_title)\n",
    "\n",
    "# Vypište jméno bez titulu pomocí string slicing:\n",
    "name_without_title = full_name_with_title[4:]  # Odstranění prvních čtyř znaků (Bc. a mezera)\n",
    "print(\"Jméno bez titulu:\", name_without_title)\n"
   ]
  },
  {
   "cell_type": "code",
   "execution_count": 24,
   "metadata": {},
   "outputs": [
    {
     "name": "stdout",
     "output_type": "stream",
     "text": [
      "Poslední znak jména: k\n"
     ]
    }
   ],
   "source": [
    "# Vypište poslední znak vašeho jména:\n",
    "last_character = name_without_title[-1]  # -1 index pro poslední znak\n",
    "print(\"Poslední znak jména:\", last_character)\n"
   ]
  },
  {
   "cell_type": "code",
   "execution_count": 26,
   "metadata": {},
   "outputs": [
    {
     "name": "stdout",
     "output_type": "stream",
     "text": [
      "titul: Bc., jmeno: Petr, prijmeni: Novák\n"
     ]
    }
   ],
   "source": [
    "# Pomoci slice stringu uložte váš budoucí titul, jméno a příjmení do 3 různých proměnných:\n",
    "title = full_name_with_title[:3]  # První tři znaky pro titul\n",
    "name = full_name_with_title[4:].split()[0]  # Rozdělení stringu na slova a výběr prvního\n",
    "surname = full_name_with_title[4:].split()[1]  # Rozdělení stringu na slova a výběr druhého\n",
    "print(f\"titul: {title}, jmeno: {name}, prijmeni: {surname}\")"
   ]
  },
  {
   "cell_type": "code",
   "execution_count": 27,
   "metadata": {},
   "outputs": [
    {
     "name": "stdout",
     "output_type": "stream",
     "text": [
      "Každý druhý znak jména: Pt\n"
     ]
    }
   ],
   "source": [
    "# Vypište každý druhý znak vašeho jména:\n",
    "every_second_char = name[::2]  # Výběr každého druhého znaku\n",
    "print(\"Každý druhý znak jména:\", every_second_char)\n"
   ]
  },
  {
   "cell_type": "code",
   "execution_count": 28,
   "metadata": {},
   "outputs": [
    {
     "name": "stdout",
     "output_type": "stream",
     "text": [
      "Jméno opačně: rteP\n"
     ]
    }
   ],
   "source": [
    "# Vypište vaše jméno opačně:\n",
    "name_reversed = name[::-1]  # Obrácení stringu\n",
    "print(\"Jméno opačně:\", name_reversed)\n"
   ]
  },
  {
   "cell_type": "code",
   "execution_count": 30,
   "metadata": {},
   "outputs": [
    {
     "name": "stdout",
     "output_type": "stream",
     "text": [
      "Ahoj, Bc. Petr Novák!\n"
     ]
    }
   ],
   "source": [
    "# Vypište pozdrav za pomocí proměnných z předchozího příkladu:\n",
    "print(f\"Ahoj, {title} {name} {surname}!\")\n"
   ]
  },
  {
   "cell_type": "code",
   "execution_count": 31,
   "metadata": {},
   "outputs": [
    {
     "name": "stdout",
     "output_type": "stream",
     "text": [
      "Hodnota π na dvě desetinná místa: 3.14\n"
     ]
    }
   ],
   "source": [
    "# Uložení čísla π do proměnné a výpis jen na dvě desetinná místa pomocí f-strings:\n",
    "pi = 3.1415926\n",
    "print(f\"Hodnota π na dvě desetinná místa: {pi:.2f}\")\n"
   ]
  },
  {
   "cell_type": "code",
   "execution_count": 32,
   "metadata": {},
   "outputs": [
    {
     "name": "stdout",
     "output_type": "stream",
     "text": [
      "Zarovnaný string: ********Petr********\n"
     ]
    }
   ],
   "source": [
    "# Zarovnání stringu uloženého v proměnné tak, aby byl vždy 20 znaků dlouhý a hodnota byla uprostřed. Prázdné místa budou vyplněna hvězdičkami:\n",
    "centered_string = f\"{name:^20}\".replace(' ', '*')  # Nahrazení mezer hvězdičkami\n",
    "print(\"Zarovnaný string:\", centered_string)\n"
   ]
  },
  {
   "cell_type": "code",
   "execution_count": 42,
   "metadata": {},
   "outputs": [
    {
     "name": "stdout",
     "output_type": "stream",
     "text": [
      "PředmětZnámka    Počet kreditů  \n",
      "ZOO  A         5              \n",
      "ALGO B         6              \n",
      "TZI  C         5              \n"
     ]
    }
   ],
   "source": [
    "# Vytvořte a vypište zarovnanou tabulku vašich známek z minulého semestru\n",
    "# Definice známek a jejich atributů\n",
    "grades = [\n",
    "    {\"subject\": \"ZOO\", \"grade\": \"A\", \"credits\": 5},\n",
    "    {\"subject\": \"ALGO\", \"grade\": \"B\", \"credits\": 6},\n",
    "    {\"subject\": \"TZI\", \"grade\": \"C\", \"credits\": 5}\n",
    "]\n",
    "\n",
    "# Výpis hlavičky tabulky\n",
    "print(f\"{'Předmět':<20}{'Známka':<10}{'Počet kreditů':<15}\")\n",
    "\n",
    "# Výpis dat známek\n",
    "for grade in grades:\n",
    "    print(f\"{grade['subject']:<20}{grade['grade']:<10}{grade['credits']:<15}\")\n"
   ]
  },
  {
   "cell_type": "code",
   "execution_count": null,
   "metadata": {},
   "outputs": [],
   "source": []
  }
 ],
 "metadata": {
  "kernelspec": {
   "display_name": "Python 3",
   "language": "python",
   "name": "python3"
  },
  "language_info": {
   "codemirror_mode": {
    "name": "ipython",
    "version": 3
   },
   "file_extension": ".py",
   "mimetype": "text/x-python",
   "name": "python",
   "nbconvert_exporter": "python",
   "pygments_lexer": "ipython3",
   "version": "3.9.5"
  }
 },
 "nbformat": 4,
 "nbformat_minor": 2
}
