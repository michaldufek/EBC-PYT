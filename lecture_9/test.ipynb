{
 "cells": [
  {
   "cell_type": "code",
   "execution_count": 7,
   "metadata": {},
   "outputs": [
    {
     "name": "stdout",
     "output_type": "stream",
     "text": [
      "say_hello is being run\n",
      "Hello!\n"
     ]
    }
   ],
   "source": [
    "def log_function(func):\n",
    "    def wrapper():\n",
    "        print(f\"{func.__name__} is being run\")\n",
    "        return func()\n",
    "    return wrapper\n",
    "\n",
    "@log_function\n",
    "def say_hello():\n",
    "    print(\"Hello!\")\n",
    "\n",
    "say_hello()"
   ]
  },
  {
   "cell_type": "code",
   "execution_count": 8,
   "metadata": {},
   "outputs": [
    {
     "name": "stdout",
     "output_type": "stream",
     "text": [
      "greet is being run with arguments ('Alice',) and keyword arguments {}\n",
      "Hello, Alice!\n",
      "greet is being run with arguments ('Bob',) and keyword arguments {'greeting': 'Howdy'}\n",
      "Howdy, Bob!\n"
     ]
    }
   ],
   "source": [
    "def log_function(func):\n",
    "    def wrapper(*args, **kwargs):\n",
    "        print(f\"{func.__name__} is being run with arguments {args} and keyword arguments {kwargs}\")\n",
    "        return func(*args, **kwargs)\n",
    "    return wrapper\n",
    "\n",
    "@log_function\n",
    "def greet(name, greeting=\"Hello\"):\n",
    "    print(f\"{greeting}, {name}!\")\n",
    "\n",
    "greet(\"Alice\")\n",
    "greet(\"Bob\", greeting=\"Howdy\")"
   ]
  },
  {
   "cell_type": "code",
   "execution_count": 9,
   "metadata": {},
   "outputs": [
    {
     "name": "stdout",
     "output_type": "stream",
     "text": [
      "Hello\n",
      "Hello\n",
      "Hello\n"
     ]
    }
   ],
   "source": [
    "def repeat(times):\n",
    "    def decorator(func):\n",
    "        def wrapper(*args, **kwargs):\n",
    "            for _ in range(times):\n",
    "                result = func(*args, **kwargs)\n",
    "            return result\n",
    "        return wrapper\n",
    "    return decorator\n",
    "\n",
    "@repeat(times=3)\n",
    "def say_message(message):\n",
    "    print(message)\n",
    "\n",
    "say_message(\"Hello\")"
   ]
  },
  {
   "cell_type": "code",
   "execution_count": 10,
   "metadata": {},
   "outputs": [
    {
     "name": "stdout",
     "output_type": "stream",
     "text": [
      "Alice\n",
      "Bob\n"
     ]
    }
   ],
   "source": [
    "class Person:\n",
    "    def __init__(self, name):\n",
    "        self._name = name\n",
    "\n",
    "    @property\n",
    "    def name(self):\n",
    "        return self._name\n",
    "\n",
    "    @name.setter\n",
    "    def name(self, value):\n",
    "        if not isinstance(value, str):\n",
    "            raise ValueError(\"Name must be a string\")\n",
    "        self._name = value\n",
    "\n",
    "# Example usage\n",
    "p = Person(\"Alice\")\n",
    "print(p.name)  # Accesses the getter\n",
    "p.name = \"Bob\" # Accesses the setter\n",
    "print(p.name)"
   ]
  },
  {
   "cell_type": "code",
   "execution_count": 11,
   "metadata": {},
   "outputs": [
    {
     "name": "stdout",
     "output_type": "stream",
     "text": [
      "Alice\n",
      "Deleting name...\n",
      "'Person' object has no attribute '_name'\n"
     ]
    }
   ],
   "source": [
    "class Person:\n",
    "    def __init__(self, name):\n",
    "        self._name = name\n",
    "\n",
    "    @property\n",
    "    def name(self):\n",
    "        return self._name\n",
    "\n",
    "    @name.setter\n",
    "    def name(self, value):\n",
    "        if not isinstance(value, str):\n",
    "            raise ValueError(\"Name must be a string\")\n",
    "        self._name = value\n",
    "\n",
    "    @name.deleter\n",
    "    def name(self):\n",
    "        print(\"Deleting name...\")\n",
    "        del self._name\n",
    "\n",
    "# Example usage\n",
    "p = Person(\"Alice\")\n",
    "print(p.name)\n",
    "del p.name\n",
    "try:\n",
    "    print(p.name)  # This will raise an error because _name is deleted\n",
    "except AttributeError as e:\n",
    "    print(e)"
   ]
  },
  {
   "cell_type": "code",
   "execution_count": 12,
   "metadata": {},
   "outputs": [
    {
     "name": "stdout",
     "output_type": "stream",
     "text": [
      "55\n"
     ]
    }
   ],
   "source": [
    "class Fibonacci:\n",
    "    def __init__(self, n):\n",
    "        self.n = n\n",
    "        self._fib_cache = {}\n",
    "\n",
    "    @property\n",
    "    def fib(self):\n",
    "        if self.n not in self._fib_cache:\n",
    "            self._fib_cache[self.n] = self._calculate_fib(self.n)\n",
    "        return self._fib_cache[self.n]\n",
    "\n",
    "    def _calculate_fib(self, x):\n",
    "        if x == 0: return 0\n",
    "        elif x == 1: return 1\n",
    "        else: return self._calculate_fib(x-1) + self._calculate_fib(x-2)\n",
    "\n",
    "# Example usage\n",
    "f = Fibonacci(10)\n",
    "print(f.fib)  # The result is calculated and cached\n"
   ]
  },
  {
   "cell_type": "code",
   "execution_count": null,
   "metadata": {},
   "outputs": [],
   "source": [
    "class Account:\n",
    "    def __init__(self, owner, amount):\n",
    "        self.owner = owner\n",
    "        self._amount = amount  # Private attribute\n",
    "\n",
    "    @property\n",
    "    def amount(self):\n",
    "        print(f\"Accessing the balance for {self.owner}\")\n",
    "        return self._amount\n",
    "\n",
    "    @amount.setter\n",
    "    def amount(self, value):\n",
    "        if not isinstance(value, (int, float)):\n",
    "            raise ValueError(\"Amount must be a number\")\n",
    "        if value < 0:\n",
    "            raise ValueError(\"Amount cannot be negative\")\n",
    "        print(f\"Updating the balance for {self.owner}\")\n",
    "        self._amount = value\n",
    "\n",
    "# Example usage\n",
    "acc = Account(\"Alice\", 100)\n",
    "print(acc.amount)  # Accesses the getter\n",
    "acc.amount = 200   # Accesses the setter\n",
    "print(acc.amount)\n"
   ]
  }
 ],
 "metadata": {
  "kernelspec": {
   "display_name": ".venv",
   "language": "python",
   "name": "python3"
  },
  "language_info": {
   "codemirror_mode": {
    "name": "ipython",
    "version": 3
   },
   "file_extension": ".py",
   "mimetype": "text/x-python",
   "name": "python",
   "nbconvert_exporter": "python",
   "pygments_lexer": "ipython3",
   "version": "3.10.12"
  }
 },
 "nbformat": 4,
 "nbformat_minor": 2
}
