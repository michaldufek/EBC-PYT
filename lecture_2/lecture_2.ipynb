{
 "cells": [
  {
   "cell_type": "markdown",
   "metadata": {},
   "source": [
    "### List"
   ]
  },
  {
   "cell_type": "code",
   "execution_count": 1,
   "metadata": {},
   "outputs": [
    {
     "name": "stdout",
     "output_type": "stream",
     "text": [
      "['apple', 'banana', 'cherry', 'apple']\n",
      "['apple', 'banana', 'cherry', 'apple', 'orange']\n",
      "['apple', 'cherry', 'apple', 'orange']\n"
     ]
    }
   ],
   "source": [
    "# Creating a list of fruits\n",
    "fruits = [\"apple\", \"banana\", \"cherry\", \"apple\"]\n",
    "print(fruits)\n",
    "\n",
    "# Adding an element\n",
    "fruits.append(\"orange\")\n",
    "print(fruits)\n",
    "\n",
    "# Removing an element\n",
    "fruits.remove(\"banana\")\n",
    "print(fruits)\n"
   ]
  },
  {
   "cell_type": "code",
   "execution_count": 2,
   "metadata": {},
   "outputs": [
    {
     "name": "stdout",
     "output_type": "stream",
     "text": [
      "Popped item: 4\n",
      "After pop: [1, 2, 3]\n",
      "Popped first item: 1\n",
      "After popping first item: [2, 3]\n"
     ]
    }
   ],
   "source": [
    "# Pop the last item\n",
    "numbers = [1, 2, 3, 4]\n",
    "popped_item = numbers.pop()\n",
    "print(\"Popped item:\", popped_item)\n",
    "print(\"After pop:\", numbers)\n",
    "\n",
    "# Pop the first item (index 0)\n",
    "popped_first = numbers.pop(0)\n",
    "print(\"Popped first item:\", popped_first)\n",
    "print(\"After popping first item:\", numbers)\n"
   ]
  },
  {
   "cell_type": "code",
   "execution_count": 3,
   "metadata": {},
   "outputs": [
    {
     "name": "stdout",
     "output_type": "stream",
     "text": [
      "Length of the list: 2\n"
     ]
    }
   ],
   "source": [
    "# Get the length of the list\n",
    "length = len(numbers)\n",
    "print(\"Length of the list:\", length)\n"
   ]
  },
  {
   "cell_type": "code",
   "execution_count": 4,
   "metadata": {},
   "outputs": [
    {
     "name": "stdout",
     "output_type": "stream",
     "text": [
      "Unsorted list: [3, 1, 4, 1, 5, 9, 2, 6]\n",
      "Sorted list: [1, 1, 2, 3, 4, 5, 6, 9]\n",
      "Sorted list (descending): [9, 6, 5, 4, 3, 2, 1, 1]\n"
     ]
    }
   ],
   "source": [
    "# Create a list of numbers\n",
    "unsorted_numbers = [3, 1, 4, 1, 5, 9, 2, 6]\n",
    "print(\"Unsorted list:\", unsorted_numbers)\n",
    "\n",
    "# Sort the list\n",
    "unsorted_numbers.sort()\n",
    "print(\"Sorted list:\", unsorted_numbers)\n",
    "\n",
    "# Sort the list in descending order\n",
    "unsorted_numbers.sort(reverse=True)\n",
    "print(\"Sorted list (descending):\", unsorted_numbers)\n"
   ]
  },
  {
   "cell_type": "code",
   "execution_count": 5,
   "metadata": {},
   "outputs": [
    {
     "name": "stdout",
     "output_type": "stream",
     "text": [
      "Original list: ['a', 'b', 'c', 'd', 'e']\n",
      "Reversed list: ['e', 'd', 'c', 'b', 'a']\n"
     ]
    }
   ],
   "source": [
    "# Create a list\n",
    "alphabets = ['a', 'b', 'c', 'd', 'e']\n",
    "print(\"Original list:\", alphabets)\n",
    "\n",
    "# Reverse the list\n",
    "alphabets.reverse()\n",
    "print(\"Reversed list:\", alphabets)\n"
   ]
  },
  {
   "cell_type": "markdown",
   "metadata": {},
   "source": [
    "range()"
   ]
  },
  {
   "cell_type": "code",
   "execution_count": 6,
   "metadata": {},
   "outputs": [
    {
     "name": "stdout",
     "output_type": "stream",
     "text": [
      "0\n",
      "1\n",
      "2\n",
      "3\n",
      "4\n"
     ]
    }
   ],
   "source": [
    "# Generate numbers from 0 to 4\n",
    "for i in range(5):\n",
    "    print(i)"
   ]
  },
  {
   "cell_type": "code",
   "execution_count": 7,
   "metadata": {},
   "outputs": [
    {
     "name": "stdout",
     "output_type": "stream",
     "text": [
      "2\n",
      "3\n",
      "4\n",
      "5\n",
      "6\n"
     ]
    }
   ],
   "source": [
    "# Generate numbers from 2 to 6\n",
    "for i in range(2, 7):\n",
    "    print(i)\n"
   ]
  },
  {
   "cell_type": "code",
   "execution_count": 8,
   "metadata": {},
   "outputs": [
    {
     "name": "stdout",
     "output_type": "stream",
     "text": [
      "10\n",
      "9\n",
      "8\n",
      "7\n",
      "6\n",
      "5\n",
      "4\n",
      "3\n",
      "2\n",
      "1\n"
     ]
    }
   ],
   "source": [
    "# Count backwards from 10 to 1\n",
    "for i in range(10, 0, -1):\n",
    "    print(i)\n"
   ]
  },
  {
   "cell_type": "code",
   "execution_count": 9,
   "metadata": {},
   "outputs": [
    {
     "name": "stdout",
     "output_type": "stream",
     "text": [
      "[0, 1, 2, 3, 4]\n"
     ]
    }
   ],
   "source": [
    "# Create a list of numbers from 0 to 4\n",
    "number_list = list(range(5))\n",
    "print(number_list)"
   ]
  },
  {
   "cell_type": "code",
   "execution_count": 10,
   "metadata": {},
   "outputs": [
    {
     "name": "stdout",
     "output_type": "stream",
     "text": [
      "Index 0: apple\n",
      "Index 1: banana\n",
      "Index 2: cherry\n"
     ]
    }
   ],
   "source": [
    "# Iterating through a list with an index\n",
    "fruits = ['apple', 'banana', 'cherry']\n",
    "for i in range(len(fruits)):\n",
    "    print(f\"Index {i}: {fruits[i]}\")\n"
   ]
  },
  {
   "cell_type": "code",
   "execution_count": 12,
   "metadata": {},
   "outputs": [
    {
     "name": "stdout",
     "output_type": "stream",
     "text": [
      "Squares: [0, 1, 4, 9, 16, 25, 36, 49, 64, 81]\n",
      "Even numbers: [0, 2, 4, 6, 8, 10, 12, 14, 16, 18]\n"
     ]
    }
   ],
   "source": [
    "# List Comprehensions\n",
    "# Squares of numbers from 0 to 9\n",
    "squares = [x ** 2 for x in range(10)]\n",
    "print(\"Squares:\", squares)\n",
    "\n",
    "# Filter list to include only even numbers\n",
    "even_numbers = [x for x in range(20) if x % 2 == 0]\n",
    "print(\"Even numbers:\", even_numbers)\n"
   ]
  },
  {
   "cell_type": "code",
   "execution_count": 13,
   "metadata": {},
   "outputs": [
    {
     "name": "stdout",
     "output_type": "stream",
     "text": [
      "Matrix: [[1, 2, 3, 4], [5, 6, 7, 8], [9, 10, 11, 12]]\n"
     ]
    }
   ],
   "source": [
    "# Nested List Comprehensions\n",
    "# Create a 3x4 matrix using a list comprehension\n",
    "matrix = [[1 + 4 * i + j for j in range(4)] for i in range(3)]\n",
    "print(\"Matrix:\", matrix)\n"
   ]
  },
  {
   "cell_type": "code",
   "execution_count": 14,
   "metadata": {},
   "outputs": [
    {
     "name": "stdout",
     "output_type": "stream",
     "text": [
      "First three items: [10, 20, 30]\n",
      "Last three items: [80, 90, 100]\n",
      "Items from index 3 to 5: [40, 50, 60]\n",
      "Every other item: [10, 30, 50, 70, 90]\n"
     ]
    }
   ],
   "source": [
    "#  List Slicing\n",
    "# Slicing lists\n",
    "numbers = [10, 20, 30, 40, 50, 60, 70, 80, 90, 100]\n",
    "print(\"First three items:\", numbers[:3])\n",
    "print(\"Last three items:\", numbers[-3:])\n",
    "print(\"Items from index 3 to 5:\", numbers[3:6])\n",
    "print(\"Every other item:\", numbers[::2])\n"
   ]
  },
  {
   "cell_type": "code",
   "execution_count": 15,
   "metadata": {},
   "outputs": [
    {
     "name": "stdout",
     "output_type": "stream",
     "text": [
      "Merged list: [1, 2, 3, 4, 5, 6]\n",
      "List one after extending: [1, 2, 3, 4, 5, 6]\n"
     ]
    }
   ],
   "source": [
    "# Merging and Extending Lists\n",
    "# Merging lists\n",
    "list_one = [1, 2, 3]\n",
    "list_two = [4, 5, 6]\n",
    "merged_list = list_one + list_two\n",
    "print(\"Merged list:\", merged_list)\n",
    "\n",
    "# Extending a list\n",
    "list_one.extend(list_two)\n",
    "print(\"List one after extending:\", list_one)\n"
   ]
  },
  {
   "cell_type": "code",
   "execution_count": 16,
   "metadata": {},
   "outputs": [
    {
     "name": "stdout",
     "output_type": "stream",
     "text": [
      "Fruits after insertion: ['apple', 'orange', 'banana', 'cherry']\n",
      "Fruits after removal: ['apple', 'orange', 'cherry']\n"
     ]
    }
   ],
   "source": [
    "# Inserting and Removing Elements\n",
    "# Inserting into a list\n",
    "fruits = ['apple', 'banana', 'cherry']\n",
    "fruits.insert(1, 'orange')  # Insert 'orange' at position 1\n",
    "print(\"Fruits after insertion:\", fruits)\n",
    "\n",
    "# Removing from a list\n",
    "fruits.remove('banana')  # Remove 'banana'\n",
    "print(\"Fruits after removal:\", fruits)\n"
   ]
  },
  {
   "cell_type": "code",
   "execution_count": 18,
   "metadata": {},
   "outputs": [
    {
     "name": "stdout",
     "output_type": "stream",
     "text": [
      "String from list: Python\n",
      "List from string: ['H', 'e', 'l', 'l', 'o']\n"
     ]
    }
   ],
   "source": [
    "# List to String and Vice Versa\n",
    "# Convert list of characters into a string\n",
    "char_list = ['P', 'y', 't', 'h', 'o', 'n']\n",
    "str_from_list = ''.join(char_list)\n",
    "print(\"String from list:\", str_from_list)\n",
    "\n",
    "# Convert string to list of characters\n",
    "str_to_list = list(\"Hello\")\n",
    "print(\"List from string:\", str_to_list)\n"
   ]
  },
  {
   "cell_type": "markdown",
   "metadata": {},
   "source": [
    "### Dictionaries -- Basic Operations"
   ]
  },
  {
   "cell_type": "code",
   "execution_count": 19,
   "metadata": {},
   "outputs": [
    {
     "name": "stdout",
     "output_type": "stream",
     "text": [
      "{'name': 'Alice', 'age': 30, 'city': 'New York'}\n"
     ]
    }
   ],
   "source": [
    "# Creating a dictionary\n",
    "person = {\"name\": \"Alice\", \"age\": 30, \"city\": \"New York\"}\n",
    "print(person)\n"
   ]
  },
  {
   "cell_type": "code",
   "execution_count": 20,
   "metadata": {},
   "outputs": [
    {
     "name": "stdout",
     "output_type": "stream",
     "text": [
      "Name: Alice\n",
      "Age: 30\n"
     ]
    }
   ],
   "source": [
    "# Accessing item\n",
    "print(\"Name:\", person[\"name\"])\n",
    "print(\"Age:\", person.get(\"age\"))\n"
   ]
  },
  {
   "cell_type": "code",
   "execution_count": 21,
   "metadata": {},
   "outputs": [
    {
     "name": "stdout",
     "output_type": "stream",
     "text": [
      "After adding email: {'name': 'Alice', 'age': 30, 'city': 'New York', 'email': 'alice@example.com'}\n",
      "After updating age: {'name': 'Alice', 'age': 31, 'city': 'New York', 'email': 'alice@example.com'}\n"
     ]
    }
   ],
   "source": [
    "#Adding and Updating Items:\n",
    "# Adding a new item\n",
    "person[\"email\"] = \"alice@example.com\"\n",
    "print(\"After adding email:\", person)\n",
    "\n",
    "# Updating an item\n",
    "person[\"age\"] = 31\n",
    "print(\"After updating age:\", person)\n"
   ]
  },
  {
   "cell_type": "code",
   "execution_count": 23,
   "metadata": {},
   "outputs": [
    {
     "name": "stdout",
     "output_type": "stream",
     "text": [
      "After removing city: {'name': 'Alice', 'age': 31, 'email': 'alice@example.com'}\n",
      "Removed item: ('email', 'alice@example.com')\n",
      "After popitem: {'name': 'Alice', 'age': 31}\n"
     ]
    }
   ],
   "source": [
    "# Removing Items:\n",
    "# Removing an item\n",
    "del person[\"city\"]\n",
    "print(\"After removing city:\", person)\n",
    "\n",
    "# Removing last inserted item\n",
    "removed_item = person.popitem()\n",
    "print(\"Removed item:\", removed_item)\n",
    "print(\"After popitem:\", person)\n"
   ]
  },
  {
   "cell_type": "code",
   "execution_count": 25,
   "metadata": {},
   "outputs": [
    {
     "name": "stdout",
     "output_type": "stream",
     "text": [
      "Reversed person: {'Alice': 'name', 31: 'age'}\n"
     ]
    }
   ],
   "source": [
    "# Dictionary Comprehensions\n",
    "# Creating a new dictionary where key and value are inverted\n",
    "reversed_person = {value: key for key, value in person.items()}\n",
    "print(\"Reversed person:\", reversed_person)\n"
   ]
  },
  {
   "cell_type": "code",
   "execution_count": 26,
   "metadata": {},
   "outputs": [
    {
     "name": "stdout",
     "output_type": "stream",
     "text": [
      "After merging: {'name': 'Alice', 'age': 31, 'gender': 'Female', 'married': False}\n"
     ]
    }
   ],
   "source": [
    "# Merging Dictionaries\n",
    "# Merging dictionaries\n",
    "additional_info = {\"gender\": \"Female\", \"married\": False}\n",
    "person.update(additional_info)\n",
    "print(\"After merging:\", person)\n"
   ]
  },
  {
   "cell_type": "code",
   "execution_count": 27,
   "metadata": {},
   "outputs": [
    {
     "name": "stdout",
     "output_type": "stream",
     "text": [
      "name\n",
      "age\n",
      "gender\n",
      "married\n",
      "Alice\n",
      "31\n",
      "Female\n",
      "False\n",
      "name : Alice\n",
      "age : 31\n",
      "gender : Female\n",
      "married : False\n"
     ]
    }
   ],
   "source": [
    "# Iterating Through Dictionaries\n",
    "# Iterating through keys\n",
    "for key in person:\n",
    "    print(key)\n",
    "\n",
    "# Iterating through values\n",
    "for value in person.values():\n",
    "    print(value)\n",
    "\n",
    "# Iterating through key-value pairs\n",
    "for key, value in person.items():\n",
    "    print(key, \":\", value)\n"
   ]
  },
  {
   "cell_type": "code",
   "execution_count": 28,
   "metadata": {},
   "outputs": [
    {
     "name": "stdout",
     "output_type": "stream",
     "text": [
      "Family: {'Alice': {'age': 30, 'job': 'Developer'}, 'Bob': {'age': 25, 'job': 'Designer'}}\n",
      "Alice's job: Developer\n"
     ]
    }
   ],
   "source": [
    "# Nested Dictionaries\n",
    "# Nested dictionaries\n",
    "family = {\n",
    "    \"Alice\": {\"age\": 30, \"job\": \"Developer\"},\n",
    "    \"Bob\": {\"age\": 25, \"job\": \"Designer\"}\n",
    "}\n",
    "print(\"Family:\", family)\n",
    "\n",
    "# Accessing items in a nested dictionary\n",
    "print(\"Alice's job:\", family[\"Alice\"][\"job\"])\n"
   ]
  },
  {
   "cell_type": "code",
   "execution_count": 29,
   "metadata": {},
   "outputs": [
    {
     "name": "stdout",
     "output_type": "stream",
     "text": [
      "Alice's salary: Not available\n"
     ]
    }
   ],
   "source": [
    "# Using get() to Avoid KeyErrors\n",
    "# Safely accessing a value\n",
    "print(\"Alice's salary:\", family[\"Alice\"].get(\"salary\", \"Not available\"))\n"
   ]
  },
  {
   "cell_type": "code",
   "execution_count": 30,
   "metadata": {},
   "outputs": [
    {
     "name": "stdout",
     "output_type": "stream",
     "text": [
      "Sorted by key: {'age': 31, 'gender': 'Female', 'married': False, 'name': 'Alice'}\n"
     ]
    },
    {
     "ename": "TypeError",
     "evalue": "'<' not supported between instances of 'int' and 'str'",
     "output_type": "error",
     "traceback": [
      "\u001b[0;31m---------------------------------------------------------------------------\u001b[0m",
      "\u001b[0;31mTypeError\u001b[0m                                 Traceback (most recent call last)",
      "Cell \u001b[0;32mIn[30], line 7\u001b[0m\n\u001b[1;32m      4\u001b[0m \u001b[38;5;28mprint\u001b[39m(\u001b[38;5;124m\"\u001b[39m\u001b[38;5;124mSorted by key:\u001b[39m\u001b[38;5;124m\"\u001b[39m, sorted_by_key)\n\u001b[1;32m      6\u001b[0m \u001b[38;5;66;03m# Sorting by values (requires a custom sort function)\u001b[39;00m\n\u001b[0;32m----> 7\u001b[0m sorted_by_value \u001b[38;5;241m=\u001b[39m \u001b[38;5;28mdict\u001b[39m(\u001b[38;5;28;43msorted\u001b[39;49m\u001b[43m(\u001b[49m\u001b[43mperson\u001b[49m\u001b[38;5;241;43m.\u001b[39;49m\u001b[43mitems\u001b[49m\u001b[43m(\u001b[49m\u001b[43m)\u001b[49m\u001b[43m,\u001b[49m\u001b[43m \u001b[49m\u001b[43mkey\u001b[49m\u001b[38;5;241;43m=\u001b[39;49m\u001b[38;5;28;43;01mlambda\u001b[39;49;00m\u001b[43m \u001b[49m\u001b[43mitem\u001b[49m\u001b[43m:\u001b[49m\u001b[43m \u001b[49m\u001b[43mitem\u001b[49m\u001b[43m[\u001b[49m\u001b[38;5;241;43m1\u001b[39;49m\u001b[43m]\u001b[49m\u001b[43m)\u001b[49m)\n\u001b[1;32m      8\u001b[0m \u001b[38;5;28mprint\u001b[39m(\u001b[38;5;124m\"\u001b[39m\u001b[38;5;124mSorted by value:\u001b[39m\u001b[38;5;124m\"\u001b[39m, sorted_by_value)\n",
      "\u001b[0;31mTypeError\u001b[0m: '<' not supported between instances of 'int' and 'str'"
     ]
    }
   ],
   "source": [
    "# Sorting Dictionaries\n",
    "# Sorting by keys\n"
   ]
  },
  {
   "cell_type": "code",
   "execution_count": null,
   "metadata": {},
   "outputs": [],
   "source": []
  }
 ],
 "metadata": {
  "kernelspec": {
   "display_name": "Python 3",
   "language": "python",
   "name": "python3"
  },
  "language_info": {
   "codemirror_mode": {
    "name": "ipython",
    "version": 3
   },
   "file_extension": ".py",
   "mimetype": "text/x-python",
   "name": "python",
   "nbconvert_exporter": "python",
   "pygments_lexer": "ipython3",
   "version": "3.9.5"
  }
 },
 "nbformat": 4,
 "nbformat_minor": 2
}
