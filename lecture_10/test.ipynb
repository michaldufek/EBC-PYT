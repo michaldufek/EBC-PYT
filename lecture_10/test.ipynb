{
 "cells": [
  {
   "cell_type": "code",
   "execution_count": 2,
   "metadata": {},
   "outputs": [],
   "source": [
    "import numpy as np"
   ]
  },
  {
   "cell_type": "code",
   "execution_count": 3,
   "metadata": {},
   "outputs": [
    {
     "name": "stdout",
     "output_type": "stream",
     "text": [
      "1D Array: [1 2 3 4 5]\n",
      "2D Array:\n",
      " [[1 2 3]\n",
      " [4 5 6]]\n",
      "Element at (1, 1): 5\n",
      "Modified Array:\n",
      " [[ 1  2 10]\n",
      " [ 4  5  6]]\n"
     ]
    }
   ],
   "source": [
    "# Creating and manipulation Arrays.\n",
    "import numpy as np\n",
    "\n",
    "# Creating a 1D array\n",
    "arr1 = np.array([1, 2, 3, 4, 5])\n",
    "print(\"1D Array:\", arr1)\n",
    "\n",
    "# Creating a 2D array\n",
    "arr2 = np.array([[1, 2, 3], [4, 5, 6]])\n",
    "print(\"2D Array:\\n\", arr2)\n",
    "\n",
    "# Accessing elements in the array\n",
    "element = arr2[1, 1]\n",
    "print(\"Element at (1, 1):\", element)\n",
    "\n",
    "# Modifying elements\n",
    "arr2[0, 2] = 10\n",
    "print(\"Modified Array:\\n\", arr2)"
   ]
  },
  {
   "cell_type": "code",
   "execution_count": 4,
   "metadata": {},
   "outputs": [
    {
     "name": "stdout",
     "output_type": "stream",
     "text": [
      "Element-wise Sum: [5 7 9]\n",
      "Element-wise Product: [ 4 10 18]\n",
      "Scaled Array: [2 4 6]\n"
     ]
    }
   ],
   "source": [
    "# Array operations.\n",
    "# Element-wise operations\n",
    "arr3 = np.array([1, 2, 3])\n",
    "arr4 = np.array([4, 5, 6])\n",
    "\n",
    "sum_array = arr3 + arr4\n",
    "print(\"Element-wise Sum:\", sum_array)\n",
    "\n",
    "product_array = arr3 * arr4\n",
    "print(\"Element-wise Product:\", product_array)\n",
    "\n",
    "# Scalar multiplication\n",
    "scaled_array = arr3 * 2\n",
    "print(\"Scaled Array:\", scaled_array)\n"
   ]
  },
  {
   "cell_type": "code",
   "execution_count": 5,
   "metadata": {},
   "outputs": [
    {
     "name": "stdout",
     "output_type": "stream",
     "text": [
      "Range Array: [0 2 4 6 8]\n",
      "Mean: 4.0\n",
      "Standard Deviation: 2.8284271247461903\n"
     ]
    }
   ],
   "source": [
    "# Generating a range of values\n",
    "# Generating a range of values\n",
    "range_array = np.arange(0, 10, 2)\n",
    "print(\"Range Array:\", range_array)\n",
    "\n",
    "# Statistical functions\n",
    "mean_val = np.mean(range_array)\n",
    "print(\"Mean:\", mean_val)\n",
    "\n",
    "std_val = np.std(range_array)\n",
    "print(\"Standard Deviation:\", std_val)"
   ]
  },
  {
   "cell_type": "code",
   "execution_count": 6,
   "metadata": {},
   "outputs": [
    {
     "name": "stdout",
     "output_type": "stream",
     "text": [
      "Matrix Product:\n",
      " [[19 22]\n",
      " [43 50]]\n",
      "Inverse Matrix:\n",
      " [[-2.   1. ]\n",
      " [ 1.5 -0.5]]\n"
     ]
    }
   ],
   "source": [
    "# Linear algebra operations\n",
    "# Matrix multiplication\n",
    "matrix1 = np.array([[1, 2], [3, 4]])\n",
    "matrix2 = np.array([[5, 6], [7, 8]])\n",
    "\n",
    "product_matrix = np.dot(matrix1, matrix2)\n",
    "print(\"Matrix Product:\\n\", product_matrix)\n",
    "\n",
    "# Inverse of a matrix\n",
    "inverse_matrix = np.linalg.inv(matrix1)\n",
    "print(\"Inverse Matrix:\\n\", inverse_matrix)\n"
   ]
  },
  {
   "cell_type": "code",
   "execution_count": 7,
   "metadata": {},
   "outputs": [
    {
     "name": "stdout",
     "output_type": "stream",
     "text": [
      "Broadcasted Array:\n",
      " [[3 4 5]\n",
      " [6 7 8]]\n"
     ]
    }
   ],
   "source": [
    "# Broadcasting allows operations between arrays of different shapes\n",
    "arr5 = np.array([[1, 2, 3], [4, 5, 6]])\n",
    "scalar = 2\n",
    "\n",
    "broadcasted_array = arr5 + scalar\n",
    "print(\"Broadcasted Array:\\n\", broadcasted_array)"
   ]
  },
  {
   "cell_type": "code",
   "execution_count": 8,
   "metadata": {},
   "outputs": [
    {
     "name": "stdout",
     "output_type": "stream",
     "text": [
      "Elements greater than 5: [ 6  7  8  9 10]\n",
      "Array after modifying elements greater than 5:\n",
      " [ 1  2  3  4  5 -1 -1 -1 -1 -1]\n",
      "Even numbers in the array: [2 4]\n"
     ]
    }
   ],
   "source": [
    "# Masking\n",
    "import numpy as np\n",
    "\n",
    "# Creating an array of integers\n",
    "data = np.array([1, 2, 3, 4, 5, 6, 7, 8, 9, 10])\n",
    "\n",
    "# Creating a mask to select elements greater than 5\n",
    "mask = data > 5\n",
    "\n",
    "# Applying the mask to filter the array\n",
    "filtered_data = data[mask]\n",
    "print(\"Elements greater than 5:\", filtered_data)\n",
    "\n",
    "# Modifying elements that meet the condition\n",
    "data[mask] = -1\n",
    "print(\"Array after modifying elements greater than 5:\\n\", data)\n",
    "\n",
    "# Using a different condition to filter the array\n",
    "even_mask = data % 2 == 0\n",
    "even_data = data[even_mask]\n",
    "print(\"Even numbers in the array:\", even_data)"
   ]
  },
  {
   "cell_type": "code",
   "execution_count": 10,
   "metadata": {},
   "outputs": [
    {
     "data": {
      "text/plain": [
       "array([ 1,  2,  3,  4,  5, -1, -1, -1, -1, -1])"
      ]
     },
     "execution_count": 10,
     "metadata": {},
     "output_type": "execute_result"
    }
   ],
   "source": [
    "# Masking of 2D tensors.\n",
    "import numpy as np\n",
    "\n",
    "# Creating a 2D array of integers\n",
    "array_2d = np.array([[3, 7, 1], [8, 5, 4], [2, 9, 6]])\n",
    "\n",
    "print(\"Original 2D Array:\\n\", array_2d)\n",
    "\n",
    "# Creating a mask to filter elements greater than 5\n",
    "mask = array_2d > 5\n",
    "\n",
    "print(\"Mask for elements > 5:\\n\", mask)\n",
    "\n",
    "# Applying the mask to extract elements greater than 5\n",
    "filtered_elements = array_2d[mask]\n",
    "print(\"Filtered Elements (greater than 5):\", filtered_elements)\n",
    "\n",
    "# Modifying the array to replace elements greater than 5 with 0\n",
    "array_2d[mask] = 0\n",
    "print(\"Array after replacing elements > 5 with 0:\\n\", array_2d)\n",
    "\n",
    "# Creating another mask for elements less than or equal to 2\n",
    "low_mask = array_2d <= 2\n",
    "\n",
    "# Extracting elements less than or equal to 2\n",
    "low_elements = array_2d[low_mask]\n",
    "print(\"Elements less than or equal to 2:\", low_elements)\n"
   ]
  },
  {
   "cell_type": "markdown",
   "metadata": {},
   "source": [
    "Exercise 1: Array Operations\n",
    "\n",
    "    Create a 1D array of integers from 1 to 10.\n",
    "    Square each element in the array.\n",
    "    Replace all even numbers with their negative values.\n",
    "    Create a new array consisting of elements that are divisible by 3."
   ]
  },
  {
   "cell_type": "code",
   "execution_count": 11,
   "metadata": {},
   "outputs": [
    {
     "name": "stdout",
     "output_type": "stream",
     "text": [
      "Original Array: [ 1  2  3  4  5  6  7  8  9 10]\n",
      "Squared Array: [  1   4   9  16  25  36  49  64  81 100]\n",
      "Array after replacing even numbers: [   1   -4    9  -16   25  -36   49  -64   81 -100]\n",
      "Array of elements divisible by 3: [  9 -36  81]\n"
     ]
    }
   ],
   "source": [
    "import numpy as np\n",
    "\n",
    "arr = np.arange(1, 11)\n",
    "print(\"Original Array:\", arr)\n",
    "\n",
    "squared_arr = arr**2\n",
    "print(\"Squared Array:\", squared_arr)\n",
    "\n",
    "squared_arr[squared_arr % 2 == 0] = -squared_arr[squared_arr % 2 == 0]\n",
    "print(\"Array after replacing even numbers:\", squared_arr)\n",
    "\n",
    "divisible_by_3 = squared_arr[squared_arr % 3 == 0]\n",
    "print(\"Array of elements divisible by 3:\", divisible_by_3)"
   ]
  },
  {
   "cell_type": "markdown",
   "metadata": {},
   "source": [
    "Exercise 2: 2D Array Manipulation\n",
    "\n",
    "    Create a 4x4 matrix with values from 1 to 16.\n",
    "    Extract the diagonal elements from this matrix.\n",
    "    Replace all values in the matrix that are greater than 10 with the value 100.\n",
    "    Calculate the sum of all elements in the modified matrix."
   ]
  },
  {
   "cell_type": "code",
   "execution_count": 12,
   "metadata": {},
   "outputs": [
    {
     "name": "stdout",
     "output_type": "stream",
     "text": [
      "Original Matrix:\n",
      " [[ 1  2  3  4]\n",
      " [ 5  6  7  8]\n",
      " [ 9 10 11 12]\n",
      " [13 14 15 16]]\n",
      "Diagonal Elements: [ 1  6 11 16]\n",
      "Matrix after replacing values > 10:\n",
      " [[  1   2   3   4]\n",
      " [  5   6   7   8]\n",
      " [  9  10 100 100]\n",
      " [100 100 100 100]]\n",
      "Sum of elements in the modified matrix: 655\n"
     ]
    }
   ],
   "source": [
    "matrix = np.arange(1, 17).reshape(4, 4)\n",
    "print(\"Original Matrix:\\n\", matrix)\n",
    "\n",
    "diagonal_elements = np.diag(matrix)\n",
    "print(\"Diagonal Elements:\", diagonal_elements)\n",
    "\n",
    "matrix[matrix > 10] = 100\n",
    "print(\"Matrix after replacing values > 10:\\n\", matrix)\n",
    "\n",
    "matrix_sum = np.sum(matrix)\n",
    "print(\"Sum of elements in the modified matrix:\", matrix_sum)"
   ]
  },
  {
   "cell_type": "markdown",
   "metadata": {},
   "source": [
    "Exercise 3: Statistical Analysis\n",
    "\n",
    "    Generate an array of 100 random integers between 1 and 50.\n",
    "    Find and print the median and standard deviation of the array.\n",
    "    Create a mask to filter out elements that are greater than the median.\n",
    "    Calculate and print the mean of the remaining elements."
   ]
  },
  {
   "cell_type": "code",
   "execution_count": 13,
   "metadata": {},
   "outputs": [
    {
     "name": "stdout",
     "output_type": "stream",
     "text": [
      "Random Array: [46  6  9 15 36  6 50 30 36 29 36 27 31 26 48 35 27 24  6 19  3 47  8  1\n",
      " 47  3 26  3 23 16 36 28  4 30 31 27 16 36 38  2 29  9 16 15 17 40 29 31\n",
      "  3 50 23 41 28 28 45 47 10 36 17  7 36  2  2 38 50 27 31 38 19 39 30 25\n",
      " 19 33 17 32  4 50 14 35 39 23 48 42 41 44 29 35 50 35  4 16  8 30 28 39\n",
      "  5 21  3  2]\n",
      "Median: 28.0\n",
      "Standard Deviation: 14.546680033602168\n",
      "Filtered Array (elements <= median): [ 6  9 15  6 27 26 27 24  6 19  3  8  1  3 26  3 23 16 28  4 27 16  2  9\n",
      " 16 15 17  3 23 28 28 10 17  7  2  2 27 19 25 19 17  4 14 23  4 16  8 28\n",
      "  5 21  3  2]\n",
      "Mean of remaining elements: 14.173076923076923\n"
     ]
    }
   ],
   "source": [
    "arr = np.random.randint(1, 51, 100)\n",
    "print(\"Random Array:\", arr)\n",
    "\n",
    "median_val = np.median(arr)\n",
    "std_dev = np.std(arr)\n",
    "print(\"Median:\", median_val)\n",
    "print(\"Standard Deviation:\", std_dev)\n",
    "\n",
    "mask = arr <= median_val\n",
    "filtered_arr = arr[mask]\n",
    "print(\"Filtered Array (elements <= median):\", filtered_arr)\n",
    "\n",
    "mean_val = np.mean(filtered_arr)\n",
    "print(\"Mean of remaining elements:\", mean_val)"
   ]
  },
  {
   "cell_type": "markdown",
   "metadata": {},
   "source": [
    "Pandas"
   ]
  },
  {
   "cell_type": "code",
   "execution_count": 3,
   "metadata": {},
   "outputs": [
    {
     "name": "stdout",
     "output_type": "stream",
     "text": [
      "DataFrame:\n",
      "       Name  Age         City\n",
      "0    Alice   25     New York\n",
      "1      Bob   30  Los Angeles\n",
      "2  Charlie   35      Chicago\n",
      "3    Daisy   28      Houston\n"
     ]
    }
   ],
   "source": [
    "import pandas as pd\n",
    "\n",
    "# Creating a dictionary to serve as a basis for a DataFrame\n",
    "data = {\n",
    "    \"Name\": [\"Alice\", \"Bob\", \"Charlie\", \"Daisy\"],\n",
    "    \"Age\": [25, 30, 35, 28],\n",
    "    \"City\": [\"New York\", \"Los Angeles\", \"Chicago\", \"Houston\"]\n",
    "}\n",
    "\n",
    "# Converting the dictionary into a DataFrame\n",
    "df = pd.DataFrame(data)\n",
    "print(\"DataFrame:\\n\", df)\n"
   ]
  },
  {
   "cell_type": "code",
   "execution_count": 4,
   "metadata": {},
   "outputs": [
    {
     "data": {
      "text/html": [
       "<div>\n",
       "<style scoped>\n",
       "    .dataframe tbody tr th:only-of-type {\n",
       "        vertical-align: middle;\n",
       "    }\n",
       "\n",
       "    .dataframe tbody tr th {\n",
       "        vertical-align: top;\n",
       "    }\n",
       "\n",
       "    .dataframe thead th {\n",
       "        text-align: right;\n",
       "    }\n",
       "</style>\n",
       "<table border=\"1\" class=\"dataframe\">\n",
       "  <thead>\n",
       "    <tr style=\"text-align: right;\">\n",
       "      <th></th>\n",
       "      <th>Date</th>\n",
       "      <th>Factor_Q1</th>\n",
       "      <th>Factor_Q2</th>\n",
       "      <th>Factor_Q3</th>\n",
       "      <th>Factor_Q4</th>\n",
       "      <th>Factor_Q5</th>\n",
       "      <th>Log_Return_Q1</th>\n",
       "      <th>Log_Return_Q2</th>\n",
       "      <th>Log_Return_Q3</th>\n",
       "      <th>Log_Return_Q4</th>\n",
       "      <th>Log_Return_Q5</th>\n",
       "      <th>FM_Return</th>\n",
       "      <th>Factor</th>\n",
       "    </tr>\n",
       "  </thead>\n",
       "  <tbody>\n",
       "    <tr>\n",
       "      <th>0</th>\n",
       "      <td>2005-02-01</td>\n",
       "      <td>-0.238804</td>\n",
       "      <td>-0.167792</td>\n",
       "      <td>-0.121682</td>\n",
       "      <td>-0.082391</td>\n",
       "      <td>-0.018199</td>\n",
       "      <td>0.031642</td>\n",
       "      <td>0.010321</td>\n",
       "      <td>-0.000042</td>\n",
       "      <td>0.026990</td>\n",
       "      <td>0.037901</td>\n",
       "      <td>-0.006258</td>\n",
       "      <td>SUV_Std_err_last_resid_8_cum_5_weeks</td>\n",
       "    </tr>\n",
       "    <tr>\n",
       "      <th>1</th>\n",
       "      <td>2005-03-01</td>\n",
       "      <td>-0.238804</td>\n",
       "      <td>-0.167792</td>\n",
       "      <td>-0.121682</td>\n",
       "      <td>-0.082391</td>\n",
       "      <td>-0.018199</td>\n",
       "      <td>-0.039783</td>\n",
       "      <td>-0.034819</td>\n",
       "      <td>-0.034888</td>\n",
       "      <td>-0.023540</td>\n",
       "      <td>-0.018477</td>\n",
       "      <td>-0.021306</td>\n",
       "      <td>SUV_Std_err_last_resid_8_cum_5_weeks</td>\n",
       "    </tr>\n",
       "    <tr>\n",
       "      <th>2</th>\n",
       "      <td>2005-04-01</td>\n",
       "      <td>-3.982844</td>\n",
       "      <td>-1.154890</td>\n",
       "      <td>0.057727</td>\n",
       "      <td>1.447256</td>\n",
       "      <td>3.829073</td>\n",
       "      <td>-0.007111</td>\n",
       "      <td>-0.013162</td>\n",
       "      <td>-0.015170</td>\n",
       "      <td>-0.035782</td>\n",
       "      <td>-0.013125</td>\n",
       "      <td>0.006014</td>\n",
       "      <td>SUV_Std_err_last_resid_8_cum_5_weeks</td>\n",
       "    </tr>\n",
       "    <tr>\n",
       "      <th>3</th>\n",
       "      <td>2005-04-29</td>\n",
       "      <td>-1.772963</td>\n",
       "      <td>-0.294469</td>\n",
       "      <td>0.902213</td>\n",
       "      <td>2.288168</td>\n",
       "      <td>3.790824</td>\n",
       "      <td>0.060334</td>\n",
       "      <td>0.073816</td>\n",
       "      <td>0.034209</td>\n",
       "      <td>0.086809</td>\n",
       "      <td>0.041302</td>\n",
       "      <td>0.019032</td>\n",
       "      <td>SUV_Std_err_last_resid_8_cum_5_weeks</td>\n",
       "    </tr>\n",
       "    <tr>\n",
       "      <th>4</th>\n",
       "      <td>2005-06-01</td>\n",
       "      <td>-0.238804</td>\n",
       "      <td>-0.167792</td>\n",
       "      <td>-0.121682</td>\n",
       "      <td>-0.082391</td>\n",
       "      <td>-0.018199</td>\n",
       "      <td>-0.018143</td>\n",
       "      <td>-0.003745</td>\n",
       "      <td>-0.006286</td>\n",
       "      <td>-0.007655</td>\n",
       "      <td>-0.009064</td>\n",
       "      <td>-0.009079</td>\n",
       "      <td>SUV_Std_err_last_resid_8_cum_5_weeks</td>\n",
       "    </tr>\n",
       "    <tr>\n",
       "      <th>...</th>\n",
       "      <td>...</td>\n",
       "      <td>...</td>\n",
       "      <td>...</td>\n",
       "      <td>...</td>\n",
       "      <td>...</td>\n",
       "      <td>...</td>\n",
       "      <td>...</td>\n",
       "      <td>...</td>\n",
       "      <td>...</td>\n",
       "      <td>...</td>\n",
       "      <td>...</td>\n",
       "      <td>...</td>\n",
       "      <td>...</td>\n",
       "    </tr>\n",
       "    <tr>\n",
       "      <th>451</th>\n",
       "      <td>2023-09-01</td>\n",
       "      <td>-0.025277</td>\n",
       "      <td>-0.006232</td>\n",
       "      <td>-0.002051</td>\n",
       "      <td>0.000607</td>\n",
       "      <td>0.006659</td>\n",
       "      <td>-0.029729</td>\n",
       "      <td>-0.045873</td>\n",
       "      <td>-0.069451</td>\n",
       "      <td>-0.038060</td>\n",
       "      <td>-0.047868</td>\n",
       "      <td>0.018138</td>\n",
       "      <td>OperCashFlowToMarketCap_Change_66</td>\n",
       "    </tr>\n",
       "    <tr>\n",
       "      <th>452</th>\n",
       "      <td>2023-09-29</td>\n",
       "      <td>-0.013225</td>\n",
       "      <td>-0.001381</td>\n",
       "      <td>0.001849</td>\n",
       "      <td>0.004868</td>\n",
       "      <td>0.019690</td>\n",
       "      <td>-0.052471</td>\n",
       "      <td>-0.006385</td>\n",
       "      <td>0.001813</td>\n",
       "      <td>-0.020584</td>\n",
       "      <td>-0.015335</td>\n",
       "      <td>-0.037136</td>\n",
       "      <td>OperCashFlowToMarketCap_Change_66</td>\n",
       "    </tr>\n",
       "    <tr>\n",
       "      <th>453</th>\n",
       "      <td>2023-11-01</td>\n",
       "      <td>-0.004120</td>\n",
       "      <td>0.002228</td>\n",
       "      <td>0.005348</td>\n",
       "      <td>0.011851</td>\n",
       "      <td>0.038026</td>\n",
       "      <td>0.063683</td>\n",
       "      <td>0.082388</td>\n",
       "      <td>0.076499</td>\n",
       "      <td>0.100449</td>\n",
       "      <td>0.099414</td>\n",
       "      <td>-0.035731</td>\n",
       "      <td>OperCashFlowToMarketCap_Change_66</td>\n",
       "    </tr>\n",
       "    <tr>\n",
       "      <th>454</th>\n",
       "      <td>2023-12-01</td>\n",
       "      <td>-0.017099</td>\n",
       "      <td>-0.003023</td>\n",
       "      <td>0.000153</td>\n",
       "      <td>0.003316</td>\n",
       "      <td>0.016579</td>\n",
       "      <td>0.056196</td>\n",
       "      <td>0.055020</td>\n",
       "      <td>0.035580</td>\n",
       "      <td>0.046132</td>\n",
       "      <td>0.039151</td>\n",
       "      <td>0.017045</td>\n",
       "      <td>OperCashFlowToMarketCap_Change_66</td>\n",
       "    </tr>\n",
       "    <tr>\n",
       "      <th>455</th>\n",
       "      <td>2023-12-29</td>\n",
       "      <td>-0.036460</td>\n",
       "      <td>-0.007993</td>\n",
       "      <td>-0.004328</td>\n",
       "      <td>-0.001057</td>\n",
       "      <td>0.011870</td>\n",
       "      <td>0.004377</td>\n",
       "      <td>0.015769</td>\n",
       "      <td>0.008184</td>\n",
       "      <td>0.056135</td>\n",
       "      <td>0.004404</td>\n",
       "      <td>-0.000027</td>\n",
       "      <td>OperCashFlowToMarketCap_Change_66</td>\n",
       "    </tr>\n",
       "  </tbody>\n",
       "</table>\n",
       "<p>456 rows × 13 columns</p>\n",
       "</div>"
      ],
      "text/plain": [
       "           Date  Factor_Q1  Factor_Q2  Factor_Q3  Factor_Q4  Factor_Q5  \\\n",
       "0    2005-02-01  -0.238804  -0.167792  -0.121682  -0.082391  -0.018199   \n",
       "1    2005-03-01  -0.238804  -0.167792  -0.121682  -0.082391  -0.018199   \n",
       "2    2005-04-01  -3.982844  -1.154890   0.057727   1.447256   3.829073   \n",
       "3    2005-04-29  -1.772963  -0.294469   0.902213   2.288168   3.790824   \n",
       "4    2005-06-01  -0.238804  -0.167792  -0.121682  -0.082391  -0.018199   \n",
       "..          ...        ...        ...        ...        ...        ...   \n",
       "451  2023-09-01  -0.025277  -0.006232  -0.002051   0.000607   0.006659   \n",
       "452  2023-09-29  -0.013225  -0.001381   0.001849   0.004868   0.019690   \n",
       "453  2023-11-01  -0.004120   0.002228   0.005348   0.011851   0.038026   \n",
       "454  2023-12-01  -0.017099  -0.003023   0.000153   0.003316   0.016579   \n",
       "455  2023-12-29  -0.036460  -0.007993  -0.004328  -0.001057   0.011870   \n",
       "\n",
       "     Log_Return_Q1  Log_Return_Q2  Log_Return_Q3  Log_Return_Q4  \\\n",
       "0         0.031642       0.010321      -0.000042       0.026990   \n",
       "1        -0.039783      -0.034819      -0.034888      -0.023540   \n",
       "2        -0.007111      -0.013162      -0.015170      -0.035782   \n",
       "3         0.060334       0.073816       0.034209       0.086809   \n",
       "4        -0.018143      -0.003745      -0.006286      -0.007655   \n",
       "..             ...            ...            ...            ...   \n",
       "451      -0.029729      -0.045873      -0.069451      -0.038060   \n",
       "452      -0.052471      -0.006385       0.001813      -0.020584   \n",
       "453       0.063683       0.082388       0.076499       0.100449   \n",
       "454       0.056196       0.055020       0.035580       0.046132   \n",
       "455       0.004377       0.015769       0.008184       0.056135   \n",
       "\n",
       "     Log_Return_Q5  FM_Return                                Factor  \n",
       "0         0.037901  -0.006258  SUV_Std_err_last_resid_8_cum_5_weeks  \n",
       "1        -0.018477  -0.021306  SUV_Std_err_last_resid_8_cum_5_weeks  \n",
       "2        -0.013125   0.006014  SUV_Std_err_last_resid_8_cum_5_weeks  \n",
       "3         0.041302   0.019032  SUV_Std_err_last_resid_8_cum_5_weeks  \n",
       "4        -0.009064  -0.009079  SUV_Std_err_last_resid_8_cum_5_weeks  \n",
       "..             ...        ...                                   ...  \n",
       "451      -0.047868   0.018138     OperCashFlowToMarketCap_Change_66  \n",
       "452      -0.015335  -0.037136     OperCashFlowToMarketCap_Change_66  \n",
       "453       0.099414  -0.035731     OperCashFlowToMarketCap_Change_66  \n",
       "454       0.039151   0.017045     OperCashFlowToMarketCap_Change_66  \n",
       "455       0.004404  -0.000027     OperCashFlowToMarketCap_Change_66  \n",
       "\n",
       "[456 rows x 13 columns]"
      ]
     },
     "execution_count": 4,
     "metadata": {},
     "output_type": "execute_result"
    }
   ],
   "source": [
    "# Assuming a CSV file named 'data.csv' exists with columns: 'ID', 'Name', 'Score'\n",
    "df_csv = pd.read_csv('quantile_returns.csv')\n",
    "df_csv"
   ]
  },
  {
   "cell_type": "code",
   "execution_count": 5,
   "metadata": {},
   "outputs": [
    {
     "name": "stdout",
     "output_type": "stream",
     "text": [
      "Names Column:\n",
      " 0      Alice\n",
      "1        Bob\n",
      "2    Charlie\n",
      "3      Daisy\n",
      "Name: Name, dtype: object\n",
      "Row at index 1:\n",
      " Name            Bob\n",
      "Age              30\n",
      "City    Los Angeles\n",
      "Name: 1, dtype: object\n",
      "DataFrame after modifying Age:\n",
      "       Name  Age         City\n",
      "0    Alice   26     New York\n",
      "1      Bob   31  Los Angeles\n",
      "2  Charlie   36      Chicago\n",
      "3    Daisy   29      Houston\n"
     ]
    }
   ],
   "source": [
    "# Accessing a specific column\n",
    "names = df[\"Name\"]\n",
    "print(\"Names Column:\\n\", names)\n",
    "\n",
    "# Accessing a specific row by index\n",
    "row_1 = df.iloc[1]\n",
    "print(\"Row at index 1:\\n\", row_1)\n",
    "\n",
    "# Modifying a column\n",
    "df[\"Age\"] = df[\"Age\"] + 1\n",
    "print(\"DataFrame after modifying Age:\\n\", df)\n"
   ]
  },
  {
   "cell_type": "code",
   "execution_count": 6,
   "metadata": {},
   "outputs": [
    {
     "name": "stdout",
     "output_type": "stream",
     "text": [
      "Rows where Age > 30:\n",
      "       Name  Age         City\n",
      "1      Bob   31  Los Angeles\n",
      "2  Charlie   36      Chicago\n",
      "Rows where Age > 25 and City is Chicago:\n",
      "       Name  Age     City\n",
      "2  Charlie   36  Chicago\n"
     ]
    }
   ],
   "source": [
    "# Filtering rows where Age is greater than 30\n",
    "df_filtered = df[df[\"Age\"] > 30]\n",
    "print(\"Rows where Age > 30:\\n\", df_filtered)\n",
    "\n",
    "# Filtering rows based on multiple conditions\n",
    "df_filtered_multi = df[(df[\"Age\"] > 25) & (df[\"City\"] == \"Chicago\")]\n",
    "print(\"Rows where Age > 25 and City is Chicago:\\n\", df_filtered_multi)\n"
   ]
  },
  {
   "cell_type": "code",
   "execution_count": 7,
   "metadata": {},
   "outputs": [
    {
     "name": "stdout",
     "output_type": "stream",
     "text": [
      "Average Age per City:\n",
      " City\n",
      "Chicago        36.0\n",
      "Houston        29.0\n",
      "Los Angeles    31.0\n",
      "New York       26.0\n",
      "Name: Age, dtype: float64\n",
      "Total Age per City:\n",
      " City\n",
      "Chicago        36\n",
      "Houston        29\n",
      "Los Angeles    31\n",
      "New York       26\n",
      "Name: Age, dtype: int64\n"
     ]
    }
   ],
   "source": [
    "# Assuming the DataFrame 'df' has a 'City' column\n",
    "df_grouped = df.groupby(\"City\")[\"Age\"].mean()\n",
    "print(\"Average Age per City:\\n\", df_grouped)\n",
    "\n",
    "# Summing up values by group\n",
    "df_grouped_sum = df.groupby(\"City\")[\"Age\"].sum()\n",
    "print(\"Total Age per City:\\n\", df_grouped_sum)\n"
   ]
  },
  {
   "cell_type": "code",
   "execution_count": 8,
   "metadata": {},
   "outputs": [
    {
     "data": {
      "text/plain": [
       "<Axes: >"
      ]
     },
     "execution_count": 8,
     "metadata": {},
     "output_type": "execute_result"
    },
    {
     "data": {
      "image/png": "[encoded data removed]",
      "text/plain": [
       "<Figure size 640x480 with 1 Axes>"
      ]
     },
     "metadata": {},
     "output_type": "display_data"
    }
   ],
   "source": [
    "df_csv.iloc[:, 6:].cumsum().plot()"
   ]
  },
  {
   "cell_type": "code",
   "execution_count": 14,
   "metadata": {},
   "outputs": [
    {
     "data": {
      "image/png": "[encoded data removed]",
      "text/plain": [
       "<Figure size 1000x500 with 1 Axes>"
      ]
     },
     "metadata": {},
     "output_type": "display_data"
    }
   ],
   "source": [
    "import pandas as pd\n",
    "import matplotlib.pyplot as plt\n",
    "\n",
    "# Creating a DataFrame for temperature data\n",
    "data = {\n",
    "    \"Month\": [\"Jan\", \"Feb\", \"Mar\", \"Apr\", \"May\", \"Jun\", \"Jul\", \"Aug\", \"Sep\", \"Oct\", \"Nov\", \"Dec\"],\n",
    "    \"Temperature\": [30, 32, 45, 55, 65, 75, 85, 82, 70, 60, 50, 35]\n",
    "}\n",
    "\n",
    "df = pd.DataFrame(data)\n",
    "\n",
    "# Creating a line plot for temperature changes over months\n",
    "plt.figure(figsize=(10, 5))\n",
    "plt.plot(df[\"Month\"], df[\"Temperature\"], marker=\"o\", linestyle=\"-\", color=\"b\", label=\"Temperature\")\n",
    "\n",
    "plt.title(\"Monthly Temperature\")\n",
    "plt.xlabel(\"Month\")\n",
    "plt.ylabel(\"Temperature (°F)\")\n",
    "plt.legend()\n",
    "plt.grid()\n",
    "plt.xticks(rotation=45)\n",
    "plt.tight_layout()\n",
    "\n",
    "plt.show()\n"
   ]
  },
  {
   "cell_type": "code",
   "execution_count": 15,
   "metadata": {},
   "outputs": [
    {
     "data": {
      "image/png": "[encoded data removed]",
      "text/plain": [
       "<Figure size 800x400 with 1 Axes>"
      ]
     },
     "metadata": {},
     "output_type": "display_data"
    }
   ],
   "source": [
    "# Creating a DataFrame for sales data\n",
    "data = {\n",
    "    \"Product\": [\"A\", \"B\", \"C\", \"D\"],\n",
    "    \"Sales\": [100, 150, 80, 120]\n",
    "}\n",
    "\n",
    "df = pd.DataFrame(data)\n",
    "\n",
    "# Creating a bar plot for product sales\n",
    "plt.figure(figsize=(8, 4))\n",
    "plt.bar(df[\"Product\"], df[\"Sales\"], color=[\"r\", \"g\", \"b\", \"c\"])\n",
    "\n",
    "plt.title(\"Sales by Product\")\n",
    "plt.xlabel(\"Product\")\n",
    "plt.ylabel(\"Sales\")\n",
    "plt.tight_layout()\n",
    "\n",
    "plt.show()\n"
   ]
  },
  {
   "cell_type": "code",
   "execution_count": 16,
   "metadata": {},
   "outputs": [
    {
     "data": {
      "image/png": "[encoded data removed]",
      "text/plain": [
       "<Figure size 800x500 with 1 Axes>"
      ]
     },
     "metadata": {},
     "output_type": "display_data"
    }
   ],
   "source": [
    "# Creating a DataFrame for student scores\n",
    "data = {\n",
    "    \"Math_Score\": [78, 85, 90, 65, 80, 55, 95, 70],\n",
    "    \"Science_Score\": [88, 80, 85, 75, 70, 60, 98, 72]\n",
    "}\n",
    "\n",
    "df = pd.DataFrame(data)\n",
    "\n",
    "# Creating a scatter plot to show the relationship between Math and Science scores\n",
    "plt.figure(figsize=(8, 5))\n",
    "plt.scatter(df[\"Math_Score\"], df[\"Science_Score\"], color=\"m\")\n",
    "\n",
    "plt.title(\"Math vs. Science Scores\")\n",
    "plt.xlabel(\"Math Score\")\n",
    "plt.ylabel(\"Science Score\")\n",
    "plt.tight_layout()\n",
    "\n",
    "plt.show()\n"
   ]
  },
  {
   "cell_type": "code",
   "execution_count": 17,
   "metadata": {},
   "outputs": [
    {
     "data": {
      "image/png": "[encoded data removed]",
      "text/plain": [
       "<Figure size 800x800 with 1 Axes>"
      ]
     },
     "metadata": {},
     "output_type": "display_data"
    }
   ],
   "source": [
    "# Creating a DataFrame for market share data\n",
    "data = {\n",
    "    \"Company\": [\"A\", \"B\", \"C\", \"D\"],\n",
    "    \"Market_Share\": [40, 30, 20, 10]\n",
    "}\n",
    "\n",
    "df = pd.DataFrame(data)\n",
    "\n",
    "# Creating a pie chart to show market share distribution\n",
    "plt.figure(figsize=(8, 8))\n",
    "plt.pie(df[\"Market_Share\"], labels=df[\"Company\"], autopct=\"%1.1f%%\", startangle=140)\n",
    "\n",
    "plt.title(\"Market Share Distribution\")\n",
    "plt.tight_layout()\n",
    "\n",
    "plt.show()\n"
   ]
  },
  {
   "cell_type": "code",
   "execution_count": null,
   "metadata": {},
   "outputs": [],
   "source": []
  },
  {
   "cell_type": "code",
   "execution_count": null,
   "metadata": {},
   "outputs": [],
   "source": []
  },
  {
   "cell_type": "markdown",
   "metadata": {},
   "source": [
    "Comprehensive Analysis"
   ]
  },
  {
   "cell_type": "code",
   "execution_count": 9,
   "metadata": {},
   "outputs": [
    {
     "name": "stderr",
     "output_type": "stream",
     "text": [
      "/tmp/ipykernel_84967/208399428.py:5: DeprecationWarning: DataFrameGroupBy.apply operated on the grouping columns. This behavior is deprecated, and in a future version of pandas the grouping columns will be excluded from the operation. Either pass `include_groups=False` to exclude the groupings or explicitly select the grouping columns after groupby to silence this warning.\n",
      "  return fm_returns.groupby('Factor', as_index=True).apply(lambda x: x.loc[:, captions].cumsum()).reset_index(level=0).reset_index(drop=True)\n"
     ]
    },
    {
     "data": {
      "text/html": [
       "<div>\n",
       "<style scoped>\n",
       "    .dataframe tbody tr th:only-of-type {\n",
       "        vertical-align: middle;\n",
       "    }\n",
       "\n",
       "    .dataframe tbody tr th {\n",
       "        vertical-align: top;\n",
       "    }\n",
       "\n",
       "    .dataframe thead th {\n",
       "        text-align: right;\n",
       "    }\n",
       "</style>\n",
       "<table border=\"1\" class=\"dataframe\">\n",
       "  <thead>\n",
       "    <tr style=\"text-align: right;\">\n",
       "      <th></th>\n",
       "      <th>Factor</th>\n",
       "      <th>Log_Return_Q1</th>\n",
       "      <th>Log_Return_Q2</th>\n",
       "      <th>Log_Return_Q3</th>\n",
       "      <th>Log_Return_Q4</th>\n",
       "      <th>Log_Return_Q5</th>\n",
       "    </tr>\n",
       "  </thead>\n",
       "  <tbody>\n",
       "    <tr>\n",
       "      <th>0</th>\n",
       "      <td>OperCashFlowToMarketCap_Change_66</td>\n",
       "      <td>0.001504</td>\n",
       "      <td>0.026514</td>\n",
       "      <td>0.032556</td>\n",
       "      <td>0.021052</td>\n",
       "      <td>0.027567</td>\n",
       "    </tr>\n",
       "    <tr>\n",
       "      <th>1</th>\n",
       "      <td>OperCashFlowToMarketCap_Change_66</td>\n",
       "      <td>-0.017128</td>\n",
       "      <td>-0.031372</td>\n",
       "      <td>0.007465</td>\n",
       "      <td>-0.011108</td>\n",
       "      <td>0.008614</td>\n",
       "    </tr>\n",
       "    <tr>\n",
       "      <th>2</th>\n",
       "      <td>OperCashFlowToMarketCap_Change_66</td>\n",
       "      <td>-0.017120</td>\n",
       "      <td>-0.052977</td>\n",
       "      <td>-0.033768</td>\n",
       "      <td>-0.018970</td>\n",
       "      <td>-0.005410</td>\n",
       "    </tr>\n",
       "    <tr>\n",
       "      <th>3</th>\n",
       "      <td>OperCashFlowToMarketCap_Change_66</td>\n",
       "      <td>0.000224</td>\n",
       "      <td>0.003365</td>\n",
       "      <td>0.028526</td>\n",
       "      <td>0.057333</td>\n",
       "      <td>0.078782</td>\n",
       "    </tr>\n",
       "    <tr>\n",
       "      <th>4</th>\n",
       "      <td>OperCashFlowToMarketCap_Change_66</td>\n",
       "      <td>-0.002204</td>\n",
       "      <td>-0.018566</td>\n",
       "      <td>0.008287</td>\n",
       "      <td>0.054057</td>\n",
       "      <td>0.080222</td>\n",
       "    </tr>\n",
       "    <tr>\n",
       "      <th>...</th>\n",
       "      <td>...</td>\n",
       "      <td>...</td>\n",
       "      <td>...</td>\n",
       "      <td>...</td>\n",
       "      <td>...</td>\n",
       "      <td>...</td>\n",
       "    </tr>\n",
       "    <tr>\n",
       "      <th>451</th>\n",
       "      <td>SUV_Std_err_last_resid_8_cum_5_weeks</td>\n",
       "      <td>2.259780</td>\n",
       "      <td>1.645461</td>\n",
       "      <td>2.016081</td>\n",
       "      <td>2.033176</td>\n",
       "      <td>1.897974</td>\n",
       "    </tr>\n",
       "    <tr>\n",
       "      <th>452</th>\n",
       "      <td>SUV_Std_err_last_resid_8_cum_5_weeks</td>\n",
       "      <td>2.243241</td>\n",
       "      <td>1.609077</td>\n",
       "      <td>1.990328</td>\n",
       "      <td>2.020629</td>\n",
       "      <td>1.894438</td>\n",
       "    </tr>\n",
       "    <tr>\n",
       "      <th>453</th>\n",
       "      <td>SUV_Std_err_last_resid_8_cum_5_weeks</td>\n",
       "      <td>2.332667</td>\n",
       "      <td>1.692567</td>\n",
       "      <td>2.086010</td>\n",
       "      <td>2.107904</td>\n",
       "      <td>1.959710</td>\n",
       "    </tr>\n",
       "    <tr>\n",
       "      <th>454</th>\n",
       "      <td>SUV_Std_err_last_resid_8_cum_5_weeks</td>\n",
       "      <td>2.365635</td>\n",
       "      <td>1.740466</td>\n",
       "      <td>2.128607</td>\n",
       "      <td>2.159118</td>\n",
       "      <td>2.018271</td>\n",
       "    </tr>\n",
       "    <tr>\n",
       "      <th>455</th>\n",
       "      <td>SUV_Std_err_last_resid_8_cum_5_weeks</td>\n",
       "      <td>2.419697</td>\n",
       "      <td>1.748613</td>\n",
       "      <td>2.129358</td>\n",
       "      <td>2.170705</td>\n",
       "      <td>2.030109</td>\n",
       "    </tr>\n",
       "  </tbody>\n",
       "</table>\n",
       "<p>456 rows × 6 columns</p>\n",
       "</div>"
      ],
      "text/plain": [
       "                                   Factor  Log_Return_Q1  Log_Return_Q2  \\\n",
       "0       OperCashFlowToMarketCap_Change_66       0.001504       0.026514   \n",
       "1       OperCashFlowToMarketCap_Change_66      -0.017128      -0.031372   \n",
       "2       OperCashFlowToMarketCap_Change_66      -0.017120      -0.052977   \n",
       "3       OperCashFlowToMarketCap_Change_66       0.000224       0.003365   \n",
       "4       OperCashFlowToMarketCap_Change_66      -0.002204      -0.018566   \n",
       "..                                    ...            ...            ...   \n",
       "451  SUV_Std_err_last_resid_8_cum_5_weeks       2.259780       1.645461   \n",
       "452  SUV_Std_err_last_resid_8_cum_5_weeks       2.243241       1.609077   \n",
       "453  SUV_Std_err_last_resid_8_cum_5_weeks       2.332667       1.692567   \n",
       "454  SUV_Std_err_last_resid_8_cum_5_weeks       2.365635       1.740466   \n",
       "455  SUV_Std_err_last_resid_8_cum_5_weeks       2.419697       1.748613   \n",
       "\n",
       "     Log_Return_Q3  Log_Return_Q4  Log_Return_Q5  \n",
       "0         0.032556       0.021052       0.027567  \n",
       "1         0.007465      -0.011108       0.008614  \n",
       "2        -0.033768      -0.018970      -0.005410  \n",
       "3         0.028526       0.057333       0.078782  \n",
       "4         0.008287       0.054057       0.080222  \n",
       "..             ...            ...            ...  \n",
       "451       2.016081       2.033176       1.897974  \n",
       "452       1.990328       2.020629       1.894438  \n",
       "453       2.086010       2.107904       1.959710  \n",
       "454       2.128607       2.159118       2.018271  \n",
       "455       2.129358       2.170705       2.030109  \n",
       "\n",
       "[456 rows x 6 columns]"
      ]
     },
     "execution_count": 9,
     "metadata": {},
     "output_type": "execute_result"
    }
   ],
   "source": [
    "def quantile_long_pfolios(fm_returns:pd.DataFrame, bins=5, show_factors=False) -> pd.DataFrame:\n",
    "    '''Calculate cumulative equity for all factors and all quantiles'''\n",
    "    captions = [ f'Log_Return_Q{i}' for i in range(1, bins+1) ] # just for quantile returns\n",
    "    captions = captions + [ f'Factor_Q{i}' for i in range(1, bins + 1) ] if show_factors else captions # show factors as well\n",
    "    return fm_returns.groupby('Factor', as_index=True).apply(lambda x: x.loc[:, captions].cumsum()).reset_index(level=0).reset_index(drop=True)\n",
    "\n",
    "# Long only portfolios for each quantile performance\n",
    "quantile_pfolios = quantile_long_pfolios(df_csv)\n",
    "quantile_pfolios"
   ]
  },
  {
   "cell_type": "code",
   "execution_count": 10,
   "metadata": {},
   "outputs": [
    {
     "name": "stderr",
     "output_type": "stream",
     "text": [
      "/tmp/ipykernel_84967/271707186.py:4: DeprecationWarning: DataFrameGroupBy.apply operated on the grouping columns. This behavior is deprecated, and in a future version of pandas the grouping columns will be excluded from the operation. Either pass `include_groups=False` to exclude the groupings or explicitly select the grouping columns after groupby to silence this warning.\n",
      "  return fm_returns.groupby('Factor', as_index=True).apply(lambda x: x['FM_Return'].cumsum().reset_index(drop=True)).T\n"
     ]
    }
   ],
   "source": [
    "# Calculate cumulative returns for long (quantiles) portfolios\n",
    "def quantile_longshort_pfolios(fm_returns:pd.DataFrame) -> pd.DataFrame:\n",
    "    '''Calculate cumulative returns (equities) for factor-mimicking portfolios'''\n",
    "    return fm_returns.groupby('Factor', as_index=True).apply(lambda x: x['FM_Return'].cumsum().reset_index(drop=True)).T\n",
    "\n",
    "quantile_ls_pfolios = quantile_longshort_pfolios(df_csv)"
   ]
  },
  {
   "cell_type": "code",
   "execution_count": 11,
   "metadata": {},
   "outputs": [
    {
     "data": {
      "text/plain": [
       "array([['2005-02-01'],\n",
       "       ['2005-03-01'],\n",
       "       ['2005-04-01'],\n",
       "       ['2005-04-29'],\n",
       "       ['2005-06-01'],\n",
       "       ['2005-07-01'],\n",
       "       ['2005-08-01'],\n",
       "       ['2005-09-01'],\n",
       "       ['2005-09-30'],\n",
       "       ['2005-11-01'],\n",
       "       ['2005-12-01'],\n",
       "       ['2005-12-30'],\n",
       "       ['2006-02-01'],\n",
       "       ['2006-03-01'],\n",
       "       ['2006-03-31'],\n",
       "       ['2006-05-01'],\n",
       "       ['2006-06-01'],\n",
       "       ['2006-06-30'],\n",
       "       ['2006-08-01'],\n",
       "       ['2006-09-01'],\n",
       "       ['2006-09-29'],\n",
       "       ['2006-11-01'],\n",
       "       ['2006-12-01'],\n",
       "       ['2006-12-29'],\n",
       "       ['2007-02-01'],\n",
       "       ['2007-03-01'],\n",
       "       ['2007-03-30'],\n",
       "       ['2007-05-01'],\n",
       "       ['2007-06-01'],\n",
       "       ['2007-06-29'],\n",
       "       ['2007-08-01'],\n",
       "       ['2007-08-31'],\n",
       "       ['2007-10-01'],\n",
       "       ['2007-11-01'],\n",
       "       ['2007-11-30'],\n",
       "       ['2007-12-31'],\n",
       "       ['2008-02-01'],\n",
       "       ['2008-02-29'],\n",
       "       ['2008-04-01'],\n",
       "       ['2008-05-01'],\n",
       "       ['2008-05-30'],\n",
       "       ['2008-07-01'],\n",
       "       ['2008-08-01'],\n",
       "       ['2008-08-29'],\n",
       "       ['2008-10-01'],\n",
       "       ['2008-10-31'],\n",
       "       ['2008-12-01'],\n",
       "       ['2008-12-31'],\n",
       "       ['2009-01-30'],\n",
       "       ['2009-02-27'],\n",
       "       ['2009-04-01'],\n",
       "       ['2009-05-01'],\n",
       "       ['2009-06-01'],\n",
       "       ['2009-07-01'],\n",
       "       ['2009-07-31'],\n",
       "       ['2009-09-01'],\n",
       "       ['2009-10-01'],\n",
       "       ['2009-10-30'],\n",
       "       ['2009-12-01'],\n",
       "       ['2009-12-31'],\n",
       "       ['2010-02-01'],\n",
       "       ['2010-03-01'],\n",
       "       ['2010-04-01'],\n",
       "       ['2010-04-30'],\n",
       "       ['2010-06-01'],\n",
       "       ['2010-07-01'],\n",
       "       ['2010-07-30'],\n",
       "       ['2010-09-01'],\n",
       "       ['2010-10-01'],\n",
       "       ['2010-11-01'],\n",
       "       ['2010-12-01'],\n",
       "       ['2010-12-31'],\n",
       "       ['2011-02-01'],\n",
       "       ['2011-03-01'],\n",
       "       ['2011-04-01'],\n",
       "       ['2011-04-29'],\n",
       "       ['2011-06-01'],\n",
       "       ['2011-07-01'],\n",
       "       ['2011-08-01'],\n",
       "       ['2011-09-01'],\n",
       "       ['2011-09-30'],\n",
       "       ['2011-11-01'],\n",
       "       ['2011-12-01'],\n",
       "       ['2011-12-30'],\n",
       "       ['2012-02-01'],\n",
       "       ['2012-03-01'],\n",
       "       ['2012-03-30'],\n",
       "       ['2012-05-01'],\n",
       "       ['2012-06-01'],\n",
       "       ['2012-06-29'],\n",
       "       ['2012-08-01'],\n",
       "       ['2012-08-31'],\n",
       "       ['2012-10-01'],\n",
       "       ['2012-11-01'],\n",
       "       ['2012-11-30'],\n",
       "       ['2012-12-31'],\n",
       "       ['2013-02-01'],\n",
       "       ['2013-03-01'],\n",
       "       ['2013-04-01'],\n",
       "       ['2013-05-01'],\n",
       "       ['2013-05-31'],\n",
       "       ['2013-07-01'],\n",
       "       ['2013-08-01'],\n",
       "       ['2013-08-30'],\n",
       "       ['2013-10-01'],\n",
       "       ['2013-11-01'],\n",
       "       ['2013-11-29'],\n",
       "       ['2013-12-31'],\n",
       "       ['2014-01-31'],\n",
       "       ['2014-02-28'],\n",
       "       ['2014-04-01'],\n",
       "       ['2014-05-01'],\n",
       "       ['2014-05-30'],\n",
       "       ['2014-07-01'],\n",
       "       ['2014-08-01'],\n",
       "       ['2014-08-29'],\n",
       "       ['2014-10-01'],\n",
       "       ['2014-10-31'],\n",
       "       ['2014-12-01'],\n",
       "       ['2014-12-31'],\n",
       "       ['2015-01-30'],\n",
       "       ['2015-02-27'],\n",
       "       ['2015-04-01'],\n",
       "       ['2015-05-01'],\n",
       "       ['2015-06-01'],\n",
       "       ['2015-07-01'],\n",
       "       ['2015-07-31'],\n",
       "       ['2015-09-01'],\n",
       "       ['2015-10-01'],\n",
       "       ['2015-10-30'],\n",
       "       ['2015-12-01'],\n",
       "       ['2015-12-31'],\n",
       "       ['2016-02-01'],\n",
       "       ['2016-03-01'],\n",
       "       ['2016-04-01'],\n",
       "       ['2016-04-29'],\n",
       "       ['2016-06-01'],\n",
       "       ['2016-07-01'],\n",
       "       ['2016-08-01'],\n",
       "       ['2016-09-01'],\n",
       "       ['2016-09-30'],\n",
       "       ['2016-11-01'],\n",
       "       ['2016-12-01'],\n",
       "       ['2016-12-30'],\n",
       "       ['2017-02-01'],\n",
       "       ['2017-03-01'],\n",
       "       ['2017-03-31'],\n",
       "       ['2017-05-01'],\n",
       "       ['2017-06-01'],\n",
       "       ['2017-06-30'],\n",
       "       ['2017-08-01'],\n",
       "       ['2017-09-01'],\n",
       "       ['2017-09-29'],\n",
       "       ['2017-11-01'],\n",
       "       ['2017-12-01'],\n",
       "       ['2017-12-29'],\n",
       "       ['2018-02-01'],\n",
       "       ['2018-03-01'],\n",
       "       ['2018-03-30'],\n",
       "       ['2018-05-01'],\n",
       "       ['2018-06-01'],\n",
       "       ['2018-06-29'],\n",
       "       ['2018-08-01'],\n",
       "       ['2018-08-31'],\n",
       "       ['2018-10-01'],\n",
       "       ['2018-11-01'],\n",
       "       ['2018-11-30'],\n",
       "       ['2018-12-31'],\n",
       "       ['2019-02-01'],\n",
       "       ['2019-03-01'],\n",
       "       ['2019-04-01'],\n",
       "       ['2019-05-01'],\n",
       "       ['2019-05-31'],\n",
       "       ['2019-07-01'],\n",
       "       ['2019-08-01'],\n",
       "       ['2019-08-30'],\n",
       "       ['2019-10-01'],\n",
       "       ['2019-11-01'],\n",
       "       ['2019-11-29'],\n",
       "       ['2019-12-31'],\n",
       "       ['2020-01-31'],\n",
       "       ['2020-02-28'],\n",
       "       ['2020-04-01'],\n",
       "       ['2020-05-01'],\n",
       "       ['2020-06-01'],\n",
       "       ['2020-07-01'],\n",
       "       ['2020-07-31'],\n",
       "       ['2020-09-01'],\n",
       "       ['2020-10-01'],\n",
       "       ['2020-10-30'],\n",
       "       ['2020-12-01'],\n",
       "       ['2020-12-31'],\n",
       "       ['2021-02-01'],\n",
       "       ['2021-03-01'],\n",
       "       ['2021-04-01'],\n",
       "       ['2021-04-30'],\n",
       "       ['2021-06-01'],\n",
       "       ['2021-07-01'],\n",
       "       ['2021-07-30'],\n",
       "       ['2021-09-01'],\n",
       "       ['2021-10-01'],\n",
       "       ['2021-11-01'],\n",
       "       ['2021-12-01'],\n",
       "       ['2021-12-31'],\n",
       "       ['2022-02-01'],\n",
       "       ['2022-03-01'],\n",
       "       ['2022-04-01'],\n",
       "       ['2022-04-29'],\n",
       "       ['2022-06-01'],\n",
       "       ['2022-07-01'],\n",
       "       ['2022-08-01'],\n",
       "       ['2022-09-01'],\n",
       "       ['2022-09-30'],\n",
       "       ['2022-11-01'],\n",
       "       ['2022-12-01'],\n",
       "       ['2022-12-30'],\n",
       "       ['2023-02-01'],\n",
       "       ['2023-03-01'],\n",
       "       ['2023-03-31'],\n",
       "       ['2023-05-01'],\n",
       "       ['2023-06-01'],\n",
       "       ['2023-06-30'],\n",
       "       ['2023-08-01'],\n",
       "       ['2023-09-01'],\n",
       "       ['2023-09-29'],\n",
       "       ['2023-11-01'],\n",
       "       ['2023-12-01'],\n",
       "       ['2023-12-29'],\n",
       "       ['2024-02-01'],\n",
       "       ['2024-03-01']], dtype=object)"
      ]
     },
     "execution_count": 11,
     "metadata": {},
     "output_type": "execute_result"
    }
   ],
   "source": [
    "dates = pd.read_csv(\"dates.csv\")\n",
    "dates.values"
   ]
  },
  {
   "cell_type": "code",
   "execution_count": 13,
   "metadata": {},
   "outputs": [
    {
     "name": "stderr",
     "output_type": "stream",
     "text": [
      "[*********************100%%**********************]  1 of 1 completed"
     ]
    },
    {
     "name": "stdout",
     "output_type": "stream",
     "text": [
      "229\n",
      "                                   Factor  Log_Return_Q1  Log_Return_Q2  \\\n",
      "0       OperCashFlowToMarketCap_Change_66       0.001504       0.026514   \n",
      "1       OperCashFlowToMarketCap_Change_66      -0.017128      -0.031372   \n",
      "2       OperCashFlowToMarketCap_Change_66      -0.017120      -0.052977   \n",
      "3       OperCashFlowToMarketCap_Change_66       0.000224       0.003365   \n",
      "4       OperCashFlowToMarketCap_Change_66      -0.002204      -0.018566   \n",
      "..                                    ...            ...            ...   \n",
      "451  SUV_Std_err_last_resid_8_cum_5_weeks       2.259780       1.645461   \n",
      "452  SUV_Std_err_last_resid_8_cum_5_weeks       2.243241       1.609077   \n",
      "453  SUV_Std_err_last_resid_8_cum_5_weeks       2.332667       1.692567   \n",
      "454  SUV_Std_err_last_resid_8_cum_5_weeks       2.365635       1.740466   \n",
      "455  SUV_Std_err_last_resid_8_cum_5_weeks       2.419697       1.748613   \n",
      "\n",
      "     Log_Return_Q3  Log_Return_Q4  Log_Return_Q5  \n",
      "0         0.032556       0.021052       0.027567  \n",
      "1         0.007465      -0.011108       0.008614  \n",
      "2        -0.033768      -0.018970      -0.005410  \n",
      "3         0.028526       0.057333       0.078782  \n",
      "4         0.008287       0.054057       0.080222  \n",
      "..             ...            ...            ...  \n",
      "451       2.016081       2.033176       1.897974  \n",
      "452       1.990328       2.020629       1.894438  \n",
      "453       2.086010       2.107904       1.959710  \n",
      "454       2.128607       2.159118       2.018271  \n",
      "455       2.129358       2.170705       2.030109  \n",
      "\n",
      "[456 rows x 6 columns]\n"
     ]
    },
    {
     "name": "stderr",
     "output_type": "stream",
     "text": [
      "\n",
      "/tmp/ipykernel_84967/4090990561.py:9: FutureWarning: 'BM' is deprecated and will be removed in a future version, please use 'BME' instead.\n",
      "  monthly_cumulative_returns = cumulative_returns.resample('BM').last()\n"
     ]
    },
    {
     "data": {
      "application/vnd.plotly.v1+json": {
       "config": {
        "plotlyServerURL": "https://plot.ly"
       },
       "data": [
        {
         "line": {
          "color": "blue"
         },
         "mode": "lines",
         "name": "OperCashFlowToMarketCap_Change_66 Factor Predictive Stability",
         "type": "scatter",
         "x": [
          "2005-02-01T00:00:00",
          "2005-03-01T00:00:00",
          "2005-04-01T00:00:00",
          "2005-04-29T00:00:00",
          "2005-06-01T00:00:00",
          "2005-07-01T00:00:00",
          "2005-08-01T00:00:00",
          "2005-09-01T00:00:00",
          "2005-09-30T00:00:00",
          "2005-11-01T00:00:00",
          "2005-12-01T00:00:00",
          "2005-12-30T00:00:00",
          "2006-02-01T00:00:00",
          "2006-03-01T00:00:00",
          "2006-03-31T00:00:00",
          "2006-05-01T00:00:00",
          "2006-06-01T00:00:00",
          "2006-06-30T00:00:00",
          "2006-08-01T00:00:00",
          "2006-09-01T00:00:00",
          "2006-09-29T00:00:00",
          "2006-11-01T00:00:00",
          "2006-12-01T00:00:00",
          "2006-12-29T00:00:00",
          "2007-02-01T00:00:00",
          "2007-03-01T00:00:00",
          "2007-03-30T00:00:00",
          "2007-05-01T00:00:00",
          "2007-06-01T00:00:00",
          "2007-06-29T00:00:00",
          "2007-08-01T00:00:00",
          "2007-08-31T00:00:00",
          "2007-10-01T00:00:00",
          "2007-11-01T00:00:00",
          "2007-11-30T00:00:00",
          "2007-12-31T00:00:00",
          "2008-02-01T00:00:00",
          "2008-02-29T00:00:00",
          "2008-04-01T00:00:00",
          "2008-05-01T00:00:00",
          "2008-05-30T00:00:00",
          "2008-07-01T00:00:00",
          "2008-08-01T00:00:00",
          "2008-08-29T00:00:00",
          "2008-10-01T00:00:00",
          "2008-10-31T00:00:00",
          "2008-12-01T00:00:00",
          "2008-12-31T00:00:00",
          "2009-01-30T00:00:00",
          "2009-02-27T00:00:00",
          "2009-04-01T00:00:00",
          "2009-05-01T00:00:00",
          "2009-06-01T00:00:00",
          "2009-07-01T00:00:00",
          "2009-07-31T00:00:00",
          "2009-09-01T00:00:00",
          "2009-10-01T00:00:00",
          "2009-10-30T00:00:00",
          "2009-12-01T00:00:00",
          "2009-12-31T00:00:00",
          "2010-02-01T00:00:00",
          "2010-03-01T00:00:00",
          "2010-04-01T00:00:00",
          "2010-04-30T00:00:00",
          "2010-06-01T00:00:00",
          "2010-07-01T00:00:00",
          "2010-07-30T00:00:00",
          "2010-09-01T00:00:00",
          "2010-10-01T00:00:00",
          "2010-11-01T00:00:00",
          "2010-12-01T00:00:00",
          "2010-12-31T00:00:00",
          "2011-02-01T00:00:00",
          "2011-03-01T00:00:00",
          "2011-04-01T00:00:00",
          "2011-04-29T00:00:00",
          "2011-06-01T00:00:00",
          "2011-07-01T00:00:00",
          "2011-08-01T00:00:00",
          "2011-09-01T00:00:00",
          "2011-09-30T00:00:00",
          "2011-11-01T00:00:00",
          "2011-12-01T00:00:00",
          "2011-12-30T00:00:00",
          "2012-02-01T00:00:00",
          "2012-03-01T00:00:00",
          "2012-03-30T00:00:00",
          "2012-05-01T00:00:00",
          "2012-06-01T00:00:00",
          "2012-06-29T00:00:00",
          "2012-08-01T00:00:00",
          "2012-08-31T00:00:00",
          "2012-10-01T00:00:00",
          "2012-11-01T00:00:00",
          "2012-11-30T00:00:00",
          "2012-12-31T00:00:00",
          "2013-02-01T00:00:00",
          "2013-03-01T00:00:00",
          "2013-04-01T00:00:00",
          "2013-05-01T00:00:00",
          "2013-05-31T00:00:00",
          "2013-07-01T00:00:00",
          "2013-08-01T00:00:00",
          "2013-08-30T00:00:00",
          "2013-10-01T00:00:00",
          "2013-11-01T00:00:00",
          "2013-11-29T00:00:00",
          "2013-12-31T00:00:00",
          "2014-01-31T00:00:00",
          "2014-02-28T00:00:00",
          "2014-04-01T00:00:00",
          "2014-05-01T00:00:00",
          "2014-05-30T00:00:00",
          "2014-07-01T00:00:00",
          "2014-08-01T00:00:00",
          "2014-08-29T00:00:00",
          "2014-10-01T00:00:00",
          "2014-10-31T00:00:00",
          "2014-12-01T00:00:00",
          "2014-12-31T00:00:00",
          "2015-01-30T00:00:00",
          "2015-02-27T00:00:00",
          "2015-04-01T00:00:00",
          "2015-05-01T00:00:00",
          "2015-06-01T00:00:00",
          "2015-07-01T00:00:00",
          "2015-07-31T00:00:00",
          "2015-09-01T00:00:00",
          "2015-10-01T00:00:00",
          "2015-10-30T00:00:00",
          "2015-12-01T00:00:00",
          "2015-12-31T00:00:00",
          "2016-02-01T00:00:00",
          "2016-03-01T00:00:00",
          "2016-04-01T00:00:00",
          "2016-04-29T00:00:00",
          "2016-06-01T00:00:00",
          "2016-07-01T00:00:00",
          "2016-08-01T00:00:00",
          "2016-09-01T00:00:00",
          "2016-09-30T00:00:00",
          "2016-11-01T00:00:00",
          "2016-12-01T00:00:00",
          "2016-12-30T00:00:00",
          "2017-02-01T00:00:00",
          "2017-03-01T00:00:00",
          "2017-03-31T00:00:00",
          "2017-05-01T00:00:00",
          "2017-06-01T00:00:00",
          "2017-06-30T00:00:00",
          "2017-08-01T00:00:00",
          "2017-09-01T00:00:00",
          "2017-09-29T00:00:00",
          "2017-11-01T00:00:00",
          "2017-12-01T00:00:00",
          "2017-12-29T00:00:00",
          "2018-02-01T00:00:00",
          "2018-03-01T00:00:00",
          "2018-03-30T00:00:00",
          "2018-05-01T00:00:00",
          "2018-06-01T00:00:00",
          "2018-06-29T00:00:00",
          "2018-08-01T00:00:00",
          "2018-08-31T00:00:00",
          "2018-10-01T00:00:00",
          "2018-11-01T00:00:00",
          "2018-11-30T00:00:00",
          "2018-12-31T00:00:00",
          "2019-02-01T00:00:00",
          "2019-03-01T00:00:00",
          "2019-04-01T00:00:00",
          "2019-05-01T00:00:00",
          "2019-05-31T00:00:00",
          "2019-07-01T00:00:00",
          "2019-08-01T00:00:00",
          "2019-08-30T00:00:00",
          "2019-10-01T00:00:00",
          "2019-11-01T00:00:00",
          "2019-11-29T00:00:00",
          "2019-12-31T00:00:00",
          "2020-01-31T00:00:00",
          "2020-02-28T00:00:00",
          "2020-04-01T00:00:00",
          "2020-05-01T00:00:00",
          "2020-06-01T00:00:00",
          "2020-07-01T00:00:00",
          "2020-07-31T00:00:00",
          "2020-09-01T00:00:00",
          "2020-10-01T00:00:00",
          "2020-10-30T00:00:00",
          "2020-12-01T00:00:00",
          "2020-12-31T00:00:00",
          "2021-02-01T00:00:00",
          "2021-03-01T00:00:00",
          "2021-04-01T00:00:00",
          "2021-04-30T00:00:00",
          "2021-06-01T00:00:00",
          "2021-07-01T00:00:00",
          "2021-07-30T00:00:00",
          "2021-09-01T00:00:00",
          "2021-10-01T00:00:00",
          "2021-11-01T00:00:00",
          "2021-12-01T00:00:00",
          "2021-12-31T00:00:00",
          "2022-02-01T00:00:00",
          "2022-03-01T00:00:00",
          "2022-04-01T00:00:00",
          "2022-04-29T00:00:00",
          "2022-06-01T00:00:00",
          "2022-07-01T00:00:00",
          "2022-08-01T00:00:00",
          "2022-09-01T00:00:00",
          "2022-09-30T00:00:00",
          "2022-11-01T00:00:00",
          "2022-12-01T00:00:00",
          "2022-12-30T00:00:00",
          "2023-02-01T00:00:00",
          "2023-03-01T00:00:00",
          "2023-03-31T00:00:00",
          "2023-05-01T00:00:00",
          "2023-06-01T00:00:00",
          "2023-06-30T00:00:00",
          "2023-08-01T00:00:00",
          "2023-09-01T00:00:00",
          "2023-09-29T00:00:00",
          "2023-11-01T00:00:00",
          "2023-12-01T00:00:00",
          "2023-12-29T00:00:00",
          "2024-02-01T00:00:00",
          "2024-03-01T00:00:00"
         ],
         "y": [
          0.9739373852465645,
          0.9742578497605499,
          0.9882898314625032,
          0.9214417125466339,
          0.917574853348271,
          0.9155439246995158,
          0.9445125525142926,
          0.9646445318512972,
          0.9465965565882506,
          0.9493499106390034,
          0.9519582887489396,
          0.9335392376710479,
          0.9595547060142339,
          0.9302186496777753,
          0.9090762942618518,
          0.932604470450652,
          0.9608980088469623,
          0.9838901389081466,
          0.9143941531881458,
          0.8743654035259857,
          0.8646399547449634,
          0.8849405658668001,
          0.8569146155614508,
          0.8550175069419357,
          0.8721891110331295,
          0.8670356623776937,
          0.8885817812605274,
          0.8778004714592242,
          0.8756478930836088,
          0.9315530184657645,
          0.8870710591666813,
          0.8901128521360822,
          0.8956787861104578,
          0.9623144875624673,
          1.0166149508224758,
          0.9731842561483547,
          0.9968192851117657,
          0.9921045766613714,
          0.953017898537169,
          0.9481078804693162,
          0.9387125190081537,
          0.9216013792264818,
          0.8869050504732353,
          1.0058360417051821,
          1.068911342909637,
          0.9893685328363964,
          0.9910377360073431,
          1.0723281345145996,
          1.149531019866713,
          1.1227496795425416,
          1.1558612434477549,
          1.163424960075078,
          1.0766190587926012,
          1.1483401174646237,
          1.1531091125005426,
          1.1496036889108248,
          1.180075608186326,
          1.1267281715220145,
          1.0325894742666446,
          1.0613281542055804,
          1.0651725293046908,
          1.0539601976616755,
          1.0667238897161582,
          1.079992092809981,
          1.071480265474704,
          1.0473025308933301,
          1.1177193837473671,
          1.1163419184880718,
          1.1127685537537408,
          1.144954235002388,
          1.1806666381157411,
          1.2056556796445503,
          1.2209056935956937,
          1.2136265800411865,
          1.1722418399808021,
          1.1841891562823015,
          1.1891766840599318,
          1.1746353415481388,
          1.2518691646533584,
          1.293767158770985,
          1.2556900794184107,
          1.3079348785341087,
          1.2955593220017616,
          1.2126567409301903,
          1.1653680237786623,
          1.1653406590891076,
          1.1358635468011125,
          1.1915517847496875,
          1.1867110466268438,
          1.2387087066689217,
          1.183391137014765,
          1.2254035796688594,
          1.2473330038770565,
          1.243393720510908,
          1.2753552453730828,
          1.3401991513729639,
          1.323246783599389,
          1.302951949012721,
          1.3010800664021647,
          1.2745045860653281,
          1.2407989938009865,
          1.2324061970653895,
          1.2118652651982793,
          1.2572702517444316,
          1.269499479690684,
          1.2596384786127681,
          1.2702898469082498,
          1.2373523849661385,
          1.2564405629531092,
          1.241985570952951,
          1.2373566583135882,
          1.248862116921939,
          1.2520861037661846,
          1.2370248257524044,
          1.2335215484752429,
          1.2499553986887828,
          1.256159864457099,
          1.2596301981496436,
          1.264993882076149,
          1.2473825216497723,
          1.2230173964002413,
          1.240251971747995,
          1.2520342020937654,
          1.268239378631342,
          1.3014585696566554,
          1.3117100908650716,
          1.2872639350869322,
          1.3118712888992567,
          1.337792283585714,
          1.3399844390591928,
          1.3121589995807965,
          1.321610621923488,
          1.3090047487146386,
          1.3552227633384677,
          1.3475813688027516,
          1.3469380804978013,
          1.2951204072663907,
          1.2600981370594628,
          1.230836460188259,
          1.2388998609150272,
          1.2585825155879555,
          1.3452299065227609,
          1.3284130389266533,
          1.322862977896979,
          1.3110120009741109,
          1.2925808831795573,
          1.2835984049310856,
          1.2962284427070287,
          1.2685092768857544,
          1.2820738430093799,
          1.3013085031860807,
          1.3190602485328777,
          1.3211531048546985,
          1.323015014502983,
          1.3453954472392098,
          1.338158610121805,
          1.3208909120131815,
          1.3008570055098656,
          1.3123665361110322,
          1.294903392373933,
          1.2675632480866825,
          1.2516960797877137,
          1.268509601126988,
          1.2659768638906852,
          1.2450058713663286,
          1.2202561138559878,
          1.2178829889872376,
          1.172863832728598,
          1.1680108217444722,
          1.1661910431563414,
          1.201746414274553,
          1.2090573901168287,
          1.2024129816428788,
          1.1925406502130036,
          1.2524548997297342,
          1.2238084115792698,
          1.199130699711529,
          1.2094410488610736,
          1.207962931760015,
          1.2006679049880447,
          1.174904337978492,
          1.2067286195114804,
          1.1751401844850928,
          1.1508007943129523,
          1.190671116939181,
          1.1855648988269873,
          1.2815148141694297,
          1.3111619338508003,
          1.350161694056012,
          1.3271687801149077,
          1.3362979640745571,
          1.3578709465297523,
          1.4702705995333631,
          1.4670094332389456,
          1.4424297353099553,
          1.4739451073641294,
          1.4103915645780907,
          1.403019934981332,
          1.4262175261846215,
          1.3893963280973052,
          1.3962618948327734,
          1.4039883398622948,
          1.374853006936153,
          1.326497335558204,
          1.3436547459421202,
          1.3430733806479331,
          1.3370559320819515,
          1.2598259164059207,
          1.3152072978718605,
          1.2613176848759107,
          1.244731328146191,
          1.265047910965713,
          1.236824425666488,
          1.2015462745243453,
          1.2429842029214133,
          1.142036118025345,
          1.1471898249823442,
          1.2179003288929082,
          1.2039566160823176,
          1.2119397873109905,
          1.1999612520144571,
          1.2258821514263025,
          1.204508093216445,
          1.2226465843241283,
          1.185510222945551,
          1.149779112905427,
          1.166824189746102,
          1.166797515360125
         ]
        },
        {
         "line": {
          "color": "green"
         },
         "mode": "lines",
         "name": "OperCashFlowToMarketCap_Change_66 Factor Performance",
         "type": "scatter",
         "x": [
          "2005-02-01T00:00:00",
          "2005-03-01T00:00:00",
          "2005-04-01T00:00:00",
          "2005-04-29T00:00:00",
          "2005-06-01T00:00:00",
          "2005-07-01T00:00:00",
          "2005-08-01T00:00:00",
          "2005-09-01T00:00:00",
          "2005-09-30T00:00:00",
          "2005-11-01T00:00:00",
          "2005-12-01T00:00:00",
          "2005-12-30T00:00:00",
          "2006-02-01T00:00:00",
          "2006-03-01T00:00:00",
          "2006-03-31T00:00:00",
          "2006-05-01T00:00:00",
          "2006-06-01T00:00:00",
          "2006-06-30T00:00:00",
          "2006-08-01T00:00:00",
          "2006-09-01T00:00:00",
          "2006-09-29T00:00:00",
          "2006-11-01T00:00:00",
          "2006-12-01T00:00:00",
          "2006-12-29T00:00:00",
          "2007-02-01T00:00:00",
          "2007-03-01T00:00:00",
          "2007-03-30T00:00:00",
          "2007-05-01T00:00:00",
          "2007-06-01T00:00:00",
          "2007-06-29T00:00:00",
          "2007-08-01T00:00:00",
          "2007-08-31T00:00:00",
          "2007-10-01T00:00:00",
          "2007-11-01T00:00:00",
          "2007-11-30T00:00:00",
          "2007-12-31T00:00:00",
          "2008-02-01T00:00:00",
          "2008-02-29T00:00:00",
          "2008-04-01T00:00:00",
          "2008-05-01T00:00:00",
          "2008-05-30T00:00:00",
          "2008-07-01T00:00:00",
          "2008-08-01T00:00:00",
          "2008-08-29T00:00:00",
          "2008-10-01T00:00:00",
          "2008-10-31T00:00:00",
          "2008-12-01T00:00:00",
          "2008-12-31T00:00:00",
          "2009-01-30T00:00:00",
          "2009-02-27T00:00:00",
          "2009-04-01T00:00:00",
          "2009-05-01T00:00:00",
          "2009-06-01T00:00:00",
          "2009-07-01T00:00:00",
          "2009-07-31T00:00:00",
          "2009-09-01T00:00:00",
          "2009-10-01T00:00:00",
          "2009-10-30T00:00:00",
          "2009-12-01T00:00:00",
          "2009-12-31T00:00:00",
          "2010-02-01T00:00:00",
          "2010-03-01T00:00:00",
          "2010-04-01T00:00:00",
          "2010-04-30T00:00:00",
          "2010-06-01T00:00:00",
          "2010-07-01T00:00:00",
          "2010-07-30T00:00:00",
          "2010-09-01T00:00:00",
          "2010-10-01T00:00:00",
          "2010-11-01T00:00:00",
          "2010-12-01T00:00:00",
          "2010-12-31T00:00:00",
          "2011-02-01T00:00:00",
          "2011-03-01T00:00:00",
          "2011-04-01T00:00:00",
          "2011-04-29T00:00:00",
          "2011-06-01T00:00:00",
          "2011-07-01T00:00:00",
          "2011-08-01T00:00:00",
          "2011-09-01T00:00:00",
          "2011-09-30T00:00:00",
          "2011-11-01T00:00:00",
          "2011-12-01T00:00:00",
          "2011-12-30T00:00:00",
          "2012-02-01T00:00:00",
          "2012-03-01T00:00:00",
          "2012-03-30T00:00:00",
          "2012-05-01T00:00:00",
          "2012-06-01T00:00:00",
          "2012-06-29T00:00:00",
          "2012-08-01T00:00:00",
          "2012-08-31T00:00:00",
          "2012-10-01T00:00:00",
          "2012-11-01T00:00:00",
          "2012-11-30T00:00:00",
          "2012-12-31T00:00:00",
          "2013-02-01T00:00:00",
          "2013-03-01T00:00:00",
          "2013-04-01T00:00:00",
          "2013-05-01T00:00:00",
          "2013-05-31T00:00:00",
          "2013-07-01T00:00:00",
          "2013-08-01T00:00:00",
          "2013-08-30T00:00:00",
          "2013-10-01T00:00:00",
          "2013-11-01T00:00:00",
          "2013-11-29T00:00:00",
          "2013-12-31T00:00:00",
          "2014-01-31T00:00:00",
          "2014-02-28T00:00:00",
          "2014-04-01T00:00:00",
          "2014-05-01T00:00:00",
          "2014-05-30T00:00:00",
          "2014-07-01T00:00:00",
          "2014-08-01T00:00:00",
          "2014-08-29T00:00:00",
          "2014-10-01T00:00:00",
          "2014-10-31T00:00:00",
          "2014-12-01T00:00:00",
          "2014-12-31T00:00:00",
          "2015-01-30T00:00:00",
          "2015-02-27T00:00:00",
          "2015-04-01T00:00:00",
          "2015-05-01T00:00:00",
          "2015-06-01T00:00:00",
          "2015-07-01T00:00:00",
          "2015-07-31T00:00:00",
          "2015-09-01T00:00:00",
          "2015-10-01T00:00:00",
          "2015-10-30T00:00:00",
          "2015-12-01T00:00:00",
          "2015-12-31T00:00:00",
          "2016-02-01T00:00:00",
          "2016-03-01T00:00:00",
          "2016-04-01T00:00:00",
          "2016-04-29T00:00:00",
          "2016-06-01T00:00:00",
          "2016-07-01T00:00:00",
          "2016-08-01T00:00:00",
          "2016-09-01T00:00:00",
          "2016-09-30T00:00:00",
          "2016-11-01T00:00:00",
          "2016-12-01T00:00:00",
          "2016-12-30T00:00:00",
          "2017-02-01T00:00:00",
          "2017-03-01T00:00:00",
          "2017-03-31T00:00:00",
          "2017-05-01T00:00:00",
          "2017-06-01T00:00:00",
          "2017-06-30T00:00:00",
          "2017-08-01T00:00:00",
          "2017-09-01T00:00:00",
          "2017-09-29T00:00:00",
          "2017-11-01T00:00:00",
          "2017-12-01T00:00:00",
          "2017-12-29T00:00:00",
          "2018-02-01T00:00:00",
          "2018-03-01T00:00:00",
          "2018-03-30T00:00:00",
          "2018-05-01T00:00:00",
          "2018-06-01T00:00:00",
          "2018-06-29T00:00:00",
          "2018-08-01T00:00:00",
          "2018-08-31T00:00:00",
          "2018-10-01T00:00:00",
          "2018-11-01T00:00:00",
          "2018-11-30T00:00:00",
          "2018-12-31T00:00:00",
          "2019-02-01T00:00:00",
          "2019-03-01T00:00:00",
          "2019-04-01T00:00:00",
          "2019-05-01T00:00:00",
          "2019-05-31T00:00:00",
          "2019-07-01T00:00:00",
          "2019-08-01T00:00:00",
          "2019-08-30T00:00:00",
          "2019-10-01T00:00:00",
          "2019-11-01T00:00:00",
          "2019-11-29T00:00:00",
          "2019-12-31T00:00:00",
          "2020-01-31T00:00:00",
          "2020-02-28T00:00:00",
          "2020-04-01T00:00:00",
          "2020-05-01T00:00:00",
          "2020-06-01T00:00:00",
          "2020-07-01T00:00:00",
          "2020-07-31T00:00:00",
          "2020-09-01T00:00:00",
          "2020-10-01T00:00:00",
          "2020-10-30T00:00:00",
          "2020-12-01T00:00:00",
          "2020-12-31T00:00:00",
          "2021-02-01T00:00:00",
          "2021-03-01T00:00:00",
          "2021-04-01T00:00:00",
          "2021-04-30T00:00:00",
          "2021-06-01T00:00:00",
          "2021-07-01T00:00:00",
          "2021-07-30T00:00:00",
          "2021-09-01T00:00:00",
          "2021-10-01T00:00:00",
          "2021-11-01T00:00:00",
          "2021-12-01T00:00:00",
          "2021-12-31T00:00:00",
          "2022-02-01T00:00:00",
          "2022-03-01T00:00:00",
          "2022-04-01T00:00:00",
          "2022-04-29T00:00:00",
          "2022-06-01T00:00:00",
          "2022-07-01T00:00:00",
          "2022-08-01T00:00:00",
          "2022-09-01T00:00:00",
          "2022-09-30T00:00:00",
          "2022-11-01T00:00:00",
          "2022-12-01T00:00:00",
          "2022-12-30T00:00:00",
          "2023-02-01T00:00:00",
          "2023-03-01T00:00:00",
          "2023-03-31T00:00:00",
          "2023-05-01T00:00:00",
          "2023-06-01T00:00:00",
          "2023-06-30T00:00:00",
          "2023-08-01T00:00:00",
          "2023-09-01T00:00:00",
          "2023-09-29T00:00:00",
          "2023-11-01T00:00:00",
          "2023-12-01T00:00:00",
          "2023-12-29T00:00:00",
          "2024-02-01T00:00:00",
          "2024-03-01T00:00:00"
         ],
         "y": [
          0.0275666147570387,
          0.008614040127534799,
          -0.005409698752182501,
          0.0787823949252783,
          0.0802215856280538,
          0.1384534460840529,
          0.102457792163474,
          0.1213603913848626,
          0.09982200010932099,
          0.1631707941687399,
          0.1674418849013542,
          0.2380603280159683,
          0.238634748552808,
          0.2468506012643934,
          0.2723808498595282,
          0.2434949514885267,
          0.2154134472398653,
          0.1784707487105889,
          0.27265745121987384,
          0.32326603949243554,
          0.3638855731112721,
          0.36801739193906013,
          0.3937519566713039,
          0.40322502390267734,
          0.36028793580600893,
          0.3762286201564398,
          0.4113018331155535,
          0.4593962766696496,
          0.4395458867303712,
          0.3965953067129815,
          0.4310243286088925,
          0.4842422673080867,
          0.45155748909185395,
          0.39441529215764953,
          0.34654361008626194,
          0.35333958625554784,
          0.27455351094196156,
          0.32526857042327956,
          0.3705899722240922,
          0.3431664650194154,
          0.2207954046511087,
          0.2522946655894482,
          0.3028054929038107,
          0.11828583912315199,
          -0.1239636781618624,
          -0.26118406862430943,
          -0.15861713975308872,
          -0.3310075238310567,
          -0.5392051298842956,
          -0.35339921153780596,
          -0.21520570813415965,
          -0.11394836804436975,
          -0.13179501216576686,
          -0.09817367924591067,
          -0.050416724062420266,
          -0.025425407820061467,
          -0.05048975451467187,
          0.05621247824119413,
          0.11946567333563633,
          0.06580579207624053,
          0.08530799693970553,
          0.17543277490535875,
          0.18622264505763605,
          0.07996754076583666,
          0.04151217993427786,
          0.11792751322916456,
          0.06196865970860526,
          0.12247585365880975,
          0.15109385377006215,
          0.16807109314751034,
          0.20498207867222545,
          0.22781053400554985,
          0.21640339847262974,
          0.22841053611071244,
          0.26717824520132344,
          0.22459750224914585,
          0.23259771082994865,
          0.19377668534602643,
          0.07308074149833953,
          -0.02211648046690777,
          0.06949324635633593,
          0.045883013554061824,
          0.046532403908796725,
          0.18428267293790543,
          0.2638894976925124,
          0.2944927173366663,
          0.2801501337684921,
          0.13282704840958753,
          0.20443830653740563,
          0.17059182569012993,
          0.23175118608167553,
          0.24336031974337513,
          0.23647714172140752,
          0.23982560380410411,
          0.24843811562830542,
          0.2964993864142729,
          0.29955386211098384,
          0.34013118721443164,
          0.3603700151311062,
          0.4455036017596494,
          0.4578614882741309,
          0.5241432194325215,
          0.4846428776767667,
          0.5130026623439798,
          0.5392788681745494,
          0.5771659546397108,
          0.6017652350480416,
          0.5795837377313818,
          0.6103906713120174,
          0.6394779491503512,
          0.6349781774309222,
          0.6433202023517117,
          0.6797646482062594,
          0.6639581782869846,
          0.7037092784036406,
          0.6630517264640207,
          0.690734363016763,
          0.7111799236576899,
          0.7160229186813392,
          0.6958485278581321,
          0.7581581104547103,
          0.7252390189896157,
          0.7478321018454563,
          0.74898706308538,
          0.7266128572258456,
          0.7272565767085458,
          0.6443742654147006,
          0.6408647063131734,
          0.7182131037844882,
          0.7365877379832169,
          0.7354772604498604,
          0.6543559516140538,
          0.6826068110204033,
          0.7174780027599952,
          0.7512508803044122,
          0.7693107599638099,
          0.7880024790961648,
          0.846827783418406,
          0.8724658323456241,
          0.8725472988232694,
          0.8509641517735778,
          0.8859828436629403,
          0.9174131201127045,
          0.9423673427611956,
          0.9974334529785716,
          0.978001780345941,
          0.9862977486690263,
          0.9793135629682149,
          1.0004916781133406,
          1.0272185520598154,
          1.0148911254776556,
          1.0272642318690433,
          1.055083986707843,
          1.087739670212047,
          1.0946907087307298,
          1.1558346129639014,
          1.1150596871984764,
          1.106266618211067,
          1.1049064041144845,
          1.124769644879281,
          1.1248740429288346,
          1.1591135376888597,
          1.1808751459793319,
          1.1985634946722026,
          1.157770960321016,
          1.1894717050534973,
          1.0917074357980625,
          1.2015067107576753,
          1.2449336044411037,
          1.2499924327805683,
          1.2519791174793666,
          1.1729517893127401,
          1.2563423658036255,
          1.2596390611499069,
          1.220342515598862,
          1.2472115103492372,
          1.3276364847507385,
          1.3558713638346034,
          1.3895733526654297,
          1.390387087462638,
          1.3064801984262517,
          1.0402700807835066,
          1.200263192017265,
          1.2960586823217284,
          1.2871901704852917,
          1.3183143288590726,
          1.336120920097195,
          1.2970150665991802,
          1.2573742337482332,
          1.4341138435037248,
          1.4501998515829806,
          1.4520025067621207,
          1.481369444922422,
          1.5263430338179218,
          1.5737804279507843,
          1.606023527723937,
          1.6506696419178057,
          1.6561215157452156,
          1.663596100427563,
          1.64931747109919,
          1.6928959056498003,
          1.6478064808503123,
          1.7277525909505005,
          1.7323119523830486,
          1.663581751142198,
          1.690125362403164,
          1.5919306935783821,
          1.6429071787173255,
          1.5294482731606207,
          1.5991218197911297,
          1.5851622522942426,
          1.4519759442717728,
          1.5532951121642151,
          1.6363716474902692,
          1.5674627860081285,
          1.722924709746406,
          1.679754712730034,
          1.6352168469060069,
          1.6497609502833868,
          1.6125143448979364,
          1.6747080029500048,
          1.702600656022461,
          1.6920065683602754,
          1.6441388647585704,
          1.6288040662941112,
          1.7282177591085863,
          1.767368484227478,
          1.7717724396652221
         ]
        },
        {
         "line": {
          "color": "red",
          "dash": "dash"
         },
         "mode": "lines",
         "name": "S&P 100 Returns",
         "type": "scatter",
         "x": [
          "2005-02-01T00:00:00",
          "2005-03-01T00:00:00",
          "2005-04-01T00:00:00",
          "2005-04-29T00:00:00",
          "2005-06-01T00:00:00",
          "2005-07-01T00:00:00",
          "2005-08-01T00:00:00",
          "2005-09-01T00:00:00",
          "2005-09-30T00:00:00",
          "2005-11-01T00:00:00",
          "2005-12-01T00:00:00",
          "2005-12-30T00:00:00",
          "2006-02-01T00:00:00",
          "2006-03-01T00:00:00",
          "2006-03-31T00:00:00",
          "2006-05-01T00:00:00",
          "2006-06-01T00:00:00",
          "2006-06-30T00:00:00",
          "2006-08-01T00:00:00",
          "2006-09-01T00:00:00",
          "2006-09-29T00:00:00",
          "2006-11-01T00:00:00",
          "2006-12-01T00:00:00",
          "2006-12-29T00:00:00",
          "2007-02-01T00:00:00",
          "2007-03-01T00:00:00",
          "2007-03-30T00:00:00",
          "2007-05-01T00:00:00",
          "2007-06-01T00:00:00",
          "2007-06-29T00:00:00",
          "2007-08-01T00:00:00",
          "2007-08-31T00:00:00",
          "2007-10-01T00:00:00",
          "2007-11-01T00:00:00",
          "2007-11-30T00:00:00",
          "2007-12-31T00:00:00",
          "2008-02-01T00:00:00",
          "2008-02-29T00:00:00",
          "2008-04-01T00:00:00",
          "2008-05-01T00:00:00",
          "2008-05-30T00:00:00",
          "2008-07-01T00:00:00",
          "2008-08-01T00:00:00",
          "2008-08-29T00:00:00",
          "2008-10-01T00:00:00",
          "2008-10-31T00:00:00",
          "2008-12-01T00:00:00",
          "2008-12-31T00:00:00",
          "2009-01-30T00:00:00",
          "2009-02-27T00:00:00",
          "2009-04-01T00:00:00",
          "2009-05-01T00:00:00",
          "2009-06-01T00:00:00",
          "2009-07-01T00:00:00",
          "2009-07-31T00:00:00",
          "2009-09-01T00:00:00",
          "2009-10-01T00:00:00",
          "2009-10-30T00:00:00",
          "2009-12-01T00:00:00",
          "2009-12-31T00:00:00",
          "2010-02-01T00:00:00",
          "2010-03-01T00:00:00",
          "2010-04-01T00:00:00",
          "2010-04-30T00:00:00",
          "2010-06-01T00:00:00",
          "2010-07-01T00:00:00",
          "2010-07-30T00:00:00",
          "2010-09-01T00:00:00",
          "2010-10-01T00:00:00",
          "2010-11-01T00:00:00",
          "2010-12-01T00:00:00",
          "2010-12-31T00:00:00",
          "2011-02-01T00:00:00",
          "2011-03-01T00:00:00",
          "2011-04-01T00:00:00",
          "2011-04-29T00:00:00",
          "2011-06-01T00:00:00",
          "2011-07-01T00:00:00",
          "2011-08-01T00:00:00",
          "2011-09-01T00:00:00",
          "2011-09-30T00:00:00",
          "2011-11-01T00:00:00",
          "2011-12-01T00:00:00",
          "2011-12-30T00:00:00",
          "2012-02-01T00:00:00",
          "2012-03-01T00:00:00",
          "2012-03-30T00:00:00",
          "2012-05-01T00:00:00",
          "2012-06-01T00:00:00",
          "2012-06-29T00:00:00",
          "2012-08-01T00:00:00",
          "2012-08-31T00:00:00",
          "2012-10-01T00:00:00",
          "2012-11-01T00:00:00",
          "2012-11-30T00:00:00",
          "2012-12-31T00:00:00",
          "2013-02-01T00:00:00",
          "2013-03-01T00:00:00",
          "2013-04-01T00:00:00",
          "2013-05-01T00:00:00",
          "2013-05-31T00:00:00",
          "2013-07-01T00:00:00",
          "2013-08-01T00:00:00",
          "2013-08-30T00:00:00",
          "2013-10-01T00:00:00",
          "2013-11-01T00:00:00",
          "2013-11-29T00:00:00",
          "2013-12-31T00:00:00",
          "2014-01-31T00:00:00",
          "2014-02-28T00:00:00",
          "2014-04-01T00:00:00",
          "2014-05-01T00:00:00",
          "2014-05-30T00:00:00",
          "2014-07-01T00:00:00",
          "2014-08-01T00:00:00",
          "2014-08-29T00:00:00",
          "2014-10-01T00:00:00",
          "2014-10-31T00:00:00",
          "2014-12-01T00:00:00",
          "2014-12-31T00:00:00",
          "2015-01-30T00:00:00",
          "2015-02-27T00:00:00",
          "2015-04-01T00:00:00",
          "2015-05-01T00:00:00",
          "2015-06-01T00:00:00",
          "2015-07-01T00:00:00",
          "2015-07-31T00:00:00",
          "2015-09-01T00:00:00",
          "2015-10-01T00:00:00",
          "2015-10-30T00:00:00",
          "2015-12-01T00:00:00",
          "2015-12-31T00:00:00",
          "2016-02-01T00:00:00",
          "2016-03-01T00:00:00",
          "2016-04-01T00:00:00",
          "2016-04-29T00:00:00",
          "2016-06-01T00:00:00",
          "2016-07-01T00:00:00",
          "2016-08-01T00:00:00",
          "2016-09-01T00:00:00",
          "2016-09-30T00:00:00",
          "2016-11-01T00:00:00",
          "2016-12-01T00:00:00",
          "2016-12-30T00:00:00",
          "2017-02-01T00:00:00",
          "2017-03-01T00:00:00",
          "2017-03-31T00:00:00",
          "2017-05-01T00:00:00",
          "2017-06-01T00:00:00",
          "2017-06-30T00:00:00",
          "2017-08-01T00:00:00",
          "2017-09-01T00:00:00",
          "2017-09-29T00:00:00",
          "2017-11-01T00:00:00",
          "2017-12-01T00:00:00",
          "2017-12-29T00:00:00",
          "2018-02-01T00:00:00",
          "2018-03-01T00:00:00",
          "2018-03-30T00:00:00",
          "2018-05-01T00:00:00",
          "2018-06-01T00:00:00",
          "2018-06-29T00:00:00",
          "2018-08-01T00:00:00",
          "2018-08-31T00:00:00",
          "2018-10-01T00:00:00",
          "2018-11-01T00:00:00",
          "2018-11-30T00:00:00",
          "2018-12-31T00:00:00",
          "2019-02-01T00:00:00",
          "2019-03-01T00:00:00",
          "2019-04-01T00:00:00",
          "2019-05-01T00:00:00",
          "2019-05-31T00:00:00",
          "2019-07-01T00:00:00",
          "2019-08-01T00:00:00",
          "2019-08-30T00:00:00",
          "2019-10-01T00:00:00",
          "2019-11-01T00:00:00",
          "2019-11-29T00:00:00",
          "2019-12-31T00:00:00",
          "2020-01-31T00:00:00",
          "2020-02-28T00:00:00",
          "2020-04-01T00:00:00",
          "2020-05-01T00:00:00",
          "2020-06-01T00:00:00",
          "2020-07-01T00:00:00",
          "2020-07-31T00:00:00",
          "2020-09-01T00:00:00",
          "2020-10-01T00:00:00",
          "2020-10-30T00:00:00",
          "2020-12-01T00:00:00",
          "2020-12-31T00:00:00",
          "2021-02-01T00:00:00",
          "2021-03-01T00:00:00",
          "2021-04-01T00:00:00",
          "2021-04-30T00:00:00",
          "2021-06-01T00:00:00",
          "2021-07-01T00:00:00",
          "2021-07-30T00:00:00",
          "2021-09-01T00:00:00",
          "2021-10-01T00:00:00",
          "2021-11-01T00:00:00",
          "2021-12-01T00:00:00",
          "2021-12-31T00:00:00",
          "2022-02-01T00:00:00",
          "2022-03-01T00:00:00",
          "2022-04-01T00:00:00",
          "2022-04-29T00:00:00",
          "2022-06-01T00:00:00",
          "2022-07-01T00:00:00",
          "2022-08-01T00:00:00",
          "2022-09-01T00:00:00",
          "2022-09-30T00:00:00",
          "2022-11-01T00:00:00",
          "2022-12-01T00:00:00",
          "2022-12-30T00:00:00",
          "2023-02-01T00:00:00",
          "2023-03-01T00:00:00",
          "2023-03-31T00:00:00",
          "2023-05-01T00:00:00",
          "2023-06-01T00:00:00",
          "2023-06-30T00:00:00",
          "2023-08-01T00:00:00",
          "2023-09-01T00:00:00",
          "2023-09-29T00:00:00",
          "2023-11-01T00:00:00",
          "2023-12-01T00:00:00",
          "2023-12-29T00:00:00",
          "2024-02-01T00:00:00",
          "2024-03-01T00:00:00"
         ],
         "y": [
          1.010887506174876,
          0.9887434693237912,
          0.9724318364196542,
          0.993466777215838,
          0.982028541541022,
          1.007714101089651,
          0.993094760000128,
          0.9975506121545624,
          0.9796424529272041,
          1.011148652103387,
          1.0031804867033858,
          1.0184493216597006,
          1.021985036664339,
          1.0338458132949682,
          1.0476002367302153,
          1.0226390785740673,
          1.0198133166147938,
          1.0355287693358328,
          1.0578514524924663,
          1.0873120370908205,
          1.1199025422912987,
          1.133962511729738,
          1.1504049394792524,
          1.1600043262382425,
          1.1248390285813614,
          1.134347266213972,
          1.1805923857020186,
          1.212089867562798,
          1.1982422078379964,
          1.1733673110313472,
          1.1905622754842895,
          1.2291131136775448,
          1.242887885586509,
          1.1971734754886076,
          1.1879114549278325,
          1.1237821545597162,
          1.0769199619633794,
          1.0770666655465666,
          1.1205735827954615,
          1.1176833326865248,
          1.0224498222814156,
          1.0272909412453934,
          1.0390724827732518,
          0.9555554150343953,
          0.7978380823039801,
          0.7280278138715218,
          0.7249043517870262,
          0.6269675389861242,
          0.5103498473838672,
          0.5907172807803487,
          0.6638972854765232,
          0.7156387495704453,
          0.720538332644967,
          0.789335694291677,
          0.8202903703865744,
          0.8485765002665171,
          0.8361311816558663,
          0.8934047612098924,
          0.8999425255173261,
          0.8622836827015196,
          0.8841993603833064,
          0.9396425841148508,
          0.9496317037927063,
          0.8581749914145815,
          0.8052642657038882,
          0.873271592687547,
          0.8223946153750394,
          0.9010505621586371,
          0.9362156646449993,
          0.9299115317829254,
          0.9959615531652738,
          1.0192437274657256,
          1.047717713463273,
          1.0422661885553381,
          1.0682616518492505,
          1.0499971213256563,
          1.033096911174419,
          1.0200893036928518,
          0.963837678651648,
          0.8985409491235895,
          0.991480723095862,
          0.9889748379582735,
          1.0045654535576387,
          1.0441372377685672,
          1.0863761331427766,
          1.1200742267429376,
          1.1118775544129247,
          1.0499468466799564,
          1.093406002833638,
          1.11233378523887,
          1.1289780617134733,
          1.1555250067710392,
          1.1291482896262104,
          1.1289471853268953,
          1.12928743390423,
          1.1720938622093735,
          1.183350650935756,
          1.2151318239219362,
          1.2353776396320468,
          1.2555489468568684,
          1.2376560716766818,
          1.2845664386320221,
          1.2518481171299025,
          1.2751075122628095,
          1.3211748008527517,
          1.3500744006208836,
          1.3714840437081937,
          1.32919726783613,
          1.3646998060426934,
          1.3768349958828043,
          1.3862684486014756,
          1.4059401869632353,
          1.4208168039944202,
          1.4131267986827596,
          1.4477313653132942,
          1.4388854800012651,
          1.4552501118508017,
          1.477822454305877,
          1.4692069245063983,
          1.4326818663039347,
          1.487845810795892,
          1.4621475485746982,
          1.4778770103500856,
          1.488537128145525,
          1.4690748178519208,
          1.4939430334490746,
          1.4239892308981243,
          1.4007313299594795,
          1.4892171669132535,
          1.4888934122895527,
          1.4725589125192349,
          1.424127499835223,
          1.4138251430737672,
          1.4742033251900408,
          1.4764900701800856,
          1.4901986586658555,
          1.4907159403176413,
          1.5262986675071906,
          1.5245607579984088,
          1.5231014565168373,
          1.5075325654995468,
          1.5336436331721102,
          1.5566924638539446,
          1.5697495104056274,
          1.6107984915844153,
          1.6103301862449813,
          1.6187074476709218,
          1.6263098667495601,
          1.6308155363566317,
          1.6505040970630875,
          1.6549390185268615,
          1.6716303967159725,
          1.69354305351975,
          1.720412512027372,
          1.7334797987306443,
          1.789578346527741,
          1.7491780779800896,
          1.711449590293815,
          1.7143485055606091,
          1.7383363545890143,
          1.7430270926406495,
          1.781829140844955,
          1.8175356493456227,
          1.8232462495929893,
          1.7549605986794785,
          1.7683952910431338,
          1.673139838579921,
          1.740663526154986,
          1.767055914196412,
          1.7896902248830173,
          1.8316556531834935,
          1.76005995849414,
          1.8257078818163381,
          1.8407241364621152,
          1.8217848883984273,
          1.8393261664856984,
          1.8652262109602193,
          1.9007925944270891,
          1.9314483590595612,
          1.9345913907686438,
          1.8462816236121649,
          1.7371328030888393,
          1.8564903287314771,
          1.894336933028848,
          1.9210348939742525,
          1.974045826038141,
          2.059349060509914,
          2.010356923731968,
          1.9758515682070934,
          2.0713757804950887,
          2.1079143511123153,
          2.101646565852985,
          2.11424131131655,
          2.15412997186071,
          2.2075900146278276,
          2.209545190696308,
          2.2406644156210644,
          2.264304394901023,
          2.297268142896482,
          2.2471328255165908,
          2.317634859083417,
          2.3155402795518603,
          2.3512901247109737,
          2.3037115468883753,
          2.2625183018073187,
          2.3004279076569665,
          2.196342403557151,
          2.192098420047932,
          2.1108800075298593,
          2.1995401560041357,
          2.1519465046857067,
          2.05127480961916,
          2.1194775841959936,
          2.1682757036233715,
          2.1013073031309624,
          2.1620953854233793,
          2.1405298127907493,
          2.1935987065372897,
          2.2140348194937767,
          2.2365536450549612,
          2.295014740489946,
          2.3270861067225788,
          2.3138056451157984,
          2.263299779828489,
          2.247041770189924,
          2.3329230112373276,
          2.3700729035036345,
          2.39318286405723,
          2.4462820872414293
         ]
        }
       ],
       "layout": {
        "height": 400,
        "legend": {
         "orientation": "h",
         "x": 1,
         "xanchor": "right",
         "y": 1.02,
         "yanchor": "bottom"
        },
        "template": {
         "data": {
          "bar": [
           {
            "error_x": {
             "color": "#2a3f5f"
            },
            "error_y": {
             "color": "#2a3f5f"
            },
            "marker": {
             "line": {
              "color": "#E5ECF6",
              "width": 0.5
             },
             "pattern": {
              "fillmode": "overlay",
              "size": 10,
              "solidity": 0.2
             }
            },
            "type": "bar"
           }
          ],
          "barpolar": [
           {
            "marker": {
             "line": {
              "color": "#E5ECF6",
              "width": 0.5
             },
             "pattern": {
              "fillmode": "overlay",
              "size": 10,
              "solidity": 0.2
             }
            },
            "type": "barpolar"
           }
          ],
          "carpet": [
           {
            "aaxis": {
             "endlinecolor": "#2a3f5f",
             "gridcolor": "white",
             "linecolor": "white",
             "minorgridcolor": "white",
             "startlinecolor": "#2a3f5f"
            },
            "baxis": {
             "endlinecolor": "#2a3f5f",
             "gridcolor": "white",
             "linecolor": "white",
             "minorgridcolor": "white",
             "startlinecolor": "#2a3f5f"
            },
            "type": "carpet"
           }
          ],
          "choropleth": [
           {
            "colorbar": {
             "outlinewidth": 0,
             "ticks": ""
            },
            "type": "choropleth"
           }
          ],
          "contour": [
           {
            "colorbar": {
             "outlinewidth": 0,
             "ticks": ""
            },
            "colorscale": [
             [
              0,
              "#0d0887"
             ],
             [
              0.1111111111111111,
              "#46039f"
             ],
             [
              0.2222222222222222,
              "#7201a8"
             ],
             [
              0.3333333333333333,
              "#9c179e"
             ],
             [
              0.4444444444444444,
              "#bd3786"
             ],
             [
              0.5555555555555556,
              "#d8576b"
             ],
             [
              0.6666666666666666,
              "#ed7953"
             ],
             [
              0.7777777777777778,
              "#fb9f3a"
             ],
             [
              0.8888888888888888,
              "#fdca26"
             ],
             [
              1,
              "#f0f921"
             ]
            ],
            "type": "contour"
           }
          ],
          "contourcarpet": [
           {
            "colorbar": {
             "outlinewidth": 0,
             "ticks": ""
            },
            "type": "contourcarpet"
           }
          ],
          "heatmap": [
           {
            "colorbar": {
             "outlinewidth": 0,
             "ticks": ""
            },
            "colorscale": [
             [
              0,
              "#0d0887"
             ],
             [
              0.1111111111111111,
              "#46039f"
             ],
             [
              0.2222222222222222,
              "#7201a8"
             ],
             [
              0.3333333333333333,
              "#9c179e"
             ],
             [
              0.4444444444444444,
              "#bd3786"
             ],
             [
              0.5555555555555556,
              "#d8576b"
             ],
             [
              0.6666666666666666,
              "#ed7953"
             ],
             [
              0.7777777777777778,
              "#fb9f3a"
             ],
             [
              0.8888888888888888,
              "#fdca26"
             ],
             [
              1,
              "#f0f921"
             ]
            ],
            "type": "heatmap"
           }
          ],
          "heatmapgl": [
           {
            "colorbar": {
             "outlinewidth": 0,
             "ticks": ""
            },
            "colorscale": [
             [
              0,
              "#0d0887"
             ],
             [
              0.1111111111111111,
              "#46039f"
             ],
             [
              0.2222222222222222,
              "#7201a8"
             ],
             [
              0.3333333333333333,
              "#9c179e"
             ],
             [
              0.4444444444444444,
              "#bd3786"
             ],
             [
              0.5555555555555556,
              "#d8576b"
             ],
             [
              0.6666666666666666,
              "#ed7953"
             ],
             [
              0.7777777777777778,
              "#fb9f3a"
             ],
             [
              0.8888888888888888,
              "#fdca26"
             ],
             [
              1,
              "#f0f921"
             ]
            ],
            "type": "heatmapgl"
           }
          ],
          "histogram": [
           {
            "marker": {
             "pattern": {
              "fillmode": "overlay",
              "size": 10,
              "solidity": 0.2
             }
            },
            "type": "histogram"
           }
          ],
          "histogram2d": [
           {
            "colorbar": {
             "outlinewidth": 0,
             "ticks": ""
            },
            "colorscale": [
             [
              0,
              "#0d0887"
             ],
             [
              0.1111111111111111,
              "#46039f"
             ],
             [
              0.2222222222222222,
              "#7201a8"
             ],
             [
              0.3333333333333333,
              "#9c179e"
             ],
             [
              0.4444444444444444,
              "#bd3786"
             ],
             [
              0.5555555555555556,
              "#d8576b"
             ],
             [
              0.6666666666666666,
              "#ed7953"
             ],
             [
              0.7777777777777778,
              "#fb9f3a"
             ],
             [
              0.8888888888888888,
              "#fdca26"
             ],
             [
              1,
              "#f0f921"
             ]
            ],
            "type": "histogram2d"
           }
          ],
          "histogram2dcontour": [
           {
            "colorbar": {
             "outlinewidth": 0,
             "ticks": ""
            },
            "colorscale": [
             [
              0,
              "#0d0887"
             ],
             [
              0.1111111111111111,
              "#46039f"
             ],
             [
              0.2222222222222222,
              "#7201a8"
             ],
             [
              0.3333333333333333,
              "#9c179e"
             ],
             [
              0.4444444444444444,
              "#bd3786"
             ],
             [
              0.5555555555555556,
              "#d8576b"
             ],
             [
              0.6666666666666666,
              "#ed7953"
             ],
             [
              0.7777777777777778,
              "#fb9f3a"
             ],
             [
              0.8888888888888888,
              "#fdca26"
             ],
             [
              1,
              "#f0f921"
             ]
            ],
            "type": "histogram2dcontour"
           }
          ],
          "mesh3d": [
           {
            "colorbar": {
             "outlinewidth": 0,
             "ticks": ""
            },
            "type": "mesh3d"
           }
          ],
          "parcoords": [
           {
            "line": {
             "colorbar": {
              "outlinewidth": 0,
              "ticks": ""
             }
            },
            "type": "parcoords"
           }
          ],
          "pie": [
           {
            "automargin": true,
            "type": "pie"
           }
          ],
          "scatter": [
           {
            "fillpattern": {
             "fillmode": "overlay",
             "size": 10,
             "solidity": 0.2
            },
            "type": "scatter"
           }
          ],
          "scatter3d": [
           {
            "line": {
             "colorbar": {
              "outlinewidth": 0,
              "ticks": ""
             }
            },
            "marker": {
             "colorbar": {
              "outlinewidth": 0,
              "ticks": ""
             }
            },
            "type": "scatter3d"
           }
          ],
          "scattercarpet": [
           {
            "marker": {
             "colorbar": {
              "outlinewidth": 0,
              "ticks": ""
             }
            },
            "type": "scattercarpet"
           }
          ],
          "scattergeo": [
           {
            "marker": {
             "colorbar": {
              "outlinewidth": 0,
              "ticks": ""
             }
            },
            "type": "scattergeo"
           }
          ],
          "scattergl": [
           {
            "marker": {
             "colorbar": {
              "outlinewidth": 0,
              "ticks": ""
             }
            },
            "type": "scattergl"
           }
          ],
          "scattermapbox": [
           {
            "marker": {
             "colorbar": {
              "outlinewidth": 0,
              "ticks": ""
             }
            },
            "type": "scattermapbox"
           }
          ],
          "scatterpolar": [
           {
            "marker": {
             "colorbar": {
              "outlinewidth": 0,
              "ticks": ""
             }
            },
            "type": "scatterpolar"
           }
          ],
          "scatterpolargl": [
           {
            "marker": {
             "colorbar": {
              "outlinewidth": 0,
              "ticks": ""
             }
            },
            "type": "scatterpolargl"
           }
          ],
          "scatterternary": [
           {
            "marker": {
             "colorbar": {
              "outlinewidth": 0,
              "ticks": ""
             }
            },
            "type": "scatterternary"
           }
          ],
          "surface": [
           {
            "colorbar": {
             "outlinewidth": 0,
             "ticks": ""
            },
            "colorscale": [
             [
              0,
              "#0d0887"
             ],
             [
              0.1111111111111111,
              "#46039f"
             ],
             [
              0.2222222222222222,
              "#7201a8"
             ],
             [
              0.3333333333333333,
              "#9c179e"
             ],
             [
              0.4444444444444444,
              "#bd3786"
             ],
             [
              0.5555555555555556,
              "#d8576b"
             ],
             [
              0.6666666666666666,
              "#ed7953"
             ],
             [
              0.7777777777777778,
              "#fb9f3a"
             ],
             [
              0.8888888888888888,
              "#fdca26"
             ],
             [
              1,
              "#f0f921"
             ]
            ],
            "type": "surface"
           }
          ],
          "table": [
           {
            "cells": {
             "fill": {
              "color": "#EBF0F8"
             },
             "line": {
              "color": "white"
             }
            },
            "header": {
             "fill": {
              "color": "#C8D4E3"
             },
             "line": {
              "color": "white"
             }
            },
            "type": "table"
           }
          ]
         },
         "layout": {
          "annotationdefaults": {
           "arrowcolor": "#2a3f5f",
           "arrowhead": 0,
           "arrowwidth": 1
          },
          "autotypenumbers": "strict",
          "coloraxis": {
           "colorbar": {
            "outlinewidth": 0,
            "ticks": ""
           }
          },
          "colorscale": {
           "diverging": [
            [
             0,
             "#8e0152"
            ],
            [
             0.1,
             "#c51b7d"
            ],
            [
             0.2,
             "#de77ae"
            ],
            [
             0.3,
             "#f1b6da"
            ],
            [
             0.4,
             "#fde0ef"
            ],
            [
             0.5,
             "#f7f7f7"
            ],
            [
             0.6,
             "#e6f5d0"
            ],
            [
             0.7,
             "#b8e186"
            ],
            [
             0.8,
             "#7fbc41"
            ],
            [
             0.9,
             "#4d9221"
            ],
            [
             1,
             "#276419"
            ]
           ],
           "sequential": [
            [
             0,
             "#0d0887"
            ],
            [
             0.1111111111111111,
             "#46039f"
            ],
            [
             0.2222222222222222,
             "#7201a8"
            ],
            [
             0.3333333333333333,
             "#9c179e"
            ],
            [
             0.4444444444444444,
             "#bd3786"
            ],
            [
             0.5555555555555556,
             "#d8576b"
            ],
            [
             0.6666666666666666,
             "#ed7953"
            ],
            [
             0.7777777777777778,
             "#fb9f3a"
            ],
            [
             0.8888888888888888,
             "#fdca26"
            ],
            [
             1,
             "#f0f921"
            ]
           ],
           "sequentialminus": [
            [
             0,
             "#0d0887"
            ],
            [
             0.1111111111111111,
             "#46039f"
            ],
            [
             0.2222222222222222,
             "#7201a8"
            ],
            [
             0.3333333333333333,
             "#9c179e"
            ],
            [
             0.4444444444444444,
             "#bd3786"
            ],
            [
             0.5555555555555556,
             "#d8576b"
            ],
            [
             0.6666666666666666,
             "#ed7953"
            ],
            [
             0.7777777777777778,
             "#fb9f3a"
            ],
            [
             0.8888888888888888,
             "#fdca26"
            ],
            [
             1,
             "#f0f921"
            ]
           ]
          },
          "colorway": [
           "#636efa",
           "#EF553B",
           "#00cc96",
           "#ab63fa",
           "#FFA15A",
           "#19d3f3",
           "#FF6692",
           "#B6E880",
           "#FF97FF",
           "#FECB52"
          ],
          "font": {
           "color": "#2a3f5f"
          },
          "geo": {
           "bgcolor": "white",
           "lakecolor": "white",
           "landcolor": "#E5ECF6",
           "showlakes": true,
           "showland": true,
           "subunitcolor": "white"
          },
          "hoverlabel": {
           "align": "left"
          },
          "hovermode": "closest",
          "mapbox": {
           "style": "light"
          },
          "paper_bgcolor": "white",
          "plot_bgcolor": "#E5ECF6",
          "polar": {
           "angularaxis": {
            "gridcolor": "white",
            "linecolor": "white",
            "ticks": ""
           },
           "bgcolor": "#E5ECF6",
           "radialaxis": {
            "gridcolor": "white",
            "linecolor": "white",
            "ticks": ""
           }
          },
          "scene": {
           "xaxis": {
            "backgroundcolor": "#E5ECF6",
            "gridcolor": "white",
            "gridwidth": 2,
            "linecolor": "white",
            "showbackground": true,
            "ticks": "",
            "zerolinecolor": "white"
           },
           "yaxis": {
            "backgroundcolor": "#E5ECF6",
            "gridcolor": "white",
            "gridwidth": 2,
            "linecolor": "white",
            "showbackground": true,
            "ticks": "",
            "zerolinecolor": "white"
           },
           "zaxis": {
            "backgroundcolor": "#E5ECF6",
            "gridcolor": "white",
            "gridwidth": 2,
            "linecolor": "white",
            "showbackground": true,
            "ticks": "",
            "zerolinecolor": "white"
           }
          },
          "shapedefaults": {
           "line": {
            "color": "#2a3f5f"
           }
          },
          "ternary": {
           "aaxis": {
            "gridcolor": "white",
            "linecolor": "white",
            "ticks": ""
           },
           "baxis": {
            "gridcolor": "white",
            "linecolor": "white",
            "ticks": ""
           },
           "bgcolor": "#E5ECF6",
           "caxis": {
            "gridcolor": "white",
            "linecolor": "white",
            "ticks": ""
           }
          },
          "title": {
           "x": 0.05
          },
          "xaxis": {
           "automargin": true,
           "gridcolor": "white",
           "linecolor": "white",
           "ticks": "",
           "title": {
            "standoff": 15
           },
           "zerolinecolor": "white",
           "zerolinewidth": 2
          },
          "yaxis": {
           "automargin": true,
           "gridcolor": "white",
           "linecolor": "white",
           "ticks": "",
           "title": {
            "standoff": 15
           },
           "zerolinecolor": "white",
           "zerolinewidth": 2
          }
         }
        },
        "title": {
         "text": "Equity Curve and S&P 100 Returns for OperCashFlowToMarketCap_Change_66"
        },
        "width": 1000,
        "xaxis": {
         "tickformat": "%Y-%m-%d",
         "title": {
          "text": "Date"
         },
         "type": "date"
        },
        "yaxis": {
         "title": {
          "text": "Returns"
         }
        }
       }
      }
     },
     "metadata": {},
     "output_type": "display_data"
    },
    {
     "data": {
      "application/vnd.plotly.v1+json": {
       "config": {
        "plotlyServerURL": "https://plot.ly"
       },
       "data": [
        {
         "line": {
          "color": "blue"
         },
         "mode": "lines",
         "name": "SUV_Std_err_last_resid_8_cum_5_weeks Factor Predictive Stability",
         "type": "scatter",
         "x": [
          "2005-02-01T00:00:00",
          "2005-03-01T00:00:00",
          "2005-04-01T00:00:00",
          "2005-04-29T00:00:00",
          "2005-06-01T00:00:00",
          "2005-07-01T00:00:00",
          "2005-08-01T00:00:00",
          "2005-09-01T00:00:00",
          "2005-09-30T00:00:00",
          "2005-11-01T00:00:00",
          "2005-12-01T00:00:00",
          "2005-12-30T00:00:00",
          "2006-02-01T00:00:00",
          "2006-03-01T00:00:00",
          "2006-03-31T00:00:00",
          "2006-05-01T00:00:00",
          "2006-06-01T00:00:00",
          "2006-06-30T00:00:00",
          "2006-08-01T00:00:00",
          "2006-09-01T00:00:00",
          "2006-09-29T00:00:00",
          "2006-11-01T00:00:00",
          "2006-12-01T00:00:00",
          "2006-12-29T00:00:00",
          "2007-02-01T00:00:00",
          "2007-03-01T00:00:00",
          "2007-03-30T00:00:00",
          "2007-05-01T00:00:00",
          "2007-06-01T00:00:00",
          "2007-06-29T00:00:00",
          "2007-08-01T00:00:00",
          "2007-08-31T00:00:00",
          "2007-10-01T00:00:00",
          "2007-11-01T00:00:00",
          "2007-11-30T00:00:00",
          "2007-12-31T00:00:00",
          "2008-02-01T00:00:00",
          "2008-02-29T00:00:00",
          "2008-04-01T00:00:00",
          "2008-05-01T00:00:00",
          "2008-05-30T00:00:00",
          "2008-07-01T00:00:00",
          "2008-08-01T00:00:00",
          "2008-08-29T00:00:00",
          "2008-10-01T00:00:00",
          "2008-10-31T00:00:00",
          "2008-12-01T00:00:00",
          "2008-12-31T00:00:00",
          "2009-01-30T00:00:00",
          "2009-02-27T00:00:00",
          "2009-04-01T00:00:00",
          "2009-05-01T00:00:00",
          "2009-06-01T00:00:00",
          "2009-07-01T00:00:00",
          "2009-07-31T00:00:00",
          "2009-09-01T00:00:00",
          "2009-10-01T00:00:00",
          "2009-10-30T00:00:00",
          "2009-12-01T00:00:00",
          "2009-12-31T00:00:00",
          "2010-02-01T00:00:00",
          "2010-03-01T00:00:00",
          "2010-04-01T00:00:00",
          "2010-04-30T00:00:00",
          "2010-06-01T00:00:00",
          "2010-07-01T00:00:00",
          "2010-07-30T00:00:00",
          "2010-09-01T00:00:00",
          "2010-10-01T00:00:00",
          "2010-11-01T00:00:00",
          "2010-12-01T00:00:00",
          "2010-12-31T00:00:00",
          "2011-02-01T00:00:00",
          "2011-03-01T00:00:00",
          "2011-04-01T00:00:00",
          "2011-04-29T00:00:00",
          "2011-06-01T00:00:00",
          "2011-07-01T00:00:00",
          "2011-08-01T00:00:00",
          "2011-09-01T00:00:00",
          "2011-09-30T00:00:00",
          "2011-11-01T00:00:00",
          "2011-12-01T00:00:00",
          "2011-12-30T00:00:00",
          "2012-02-01T00:00:00",
          "2012-03-01T00:00:00",
          "2012-03-30T00:00:00",
          "2012-05-01T00:00:00",
          "2012-06-01T00:00:00",
          "2012-06-29T00:00:00",
          "2012-08-01T00:00:00",
          "2012-08-31T00:00:00",
          "2012-10-01T00:00:00",
          "2012-11-01T00:00:00",
          "2012-11-30T00:00:00",
          "2012-12-31T00:00:00",
          "2013-02-01T00:00:00",
          "2013-03-01T00:00:00",
          "2013-04-01T00:00:00",
          "2013-05-01T00:00:00",
          "2013-05-31T00:00:00",
          "2013-07-01T00:00:00",
          "2013-08-01T00:00:00",
          "2013-08-30T00:00:00",
          "2013-10-01T00:00:00",
          "2013-11-01T00:00:00",
          "2013-11-29T00:00:00",
          "2013-12-31T00:00:00",
          "2014-01-31T00:00:00",
          "2014-02-28T00:00:00",
          "2014-04-01T00:00:00",
          "2014-05-01T00:00:00",
          "2014-05-30T00:00:00",
          "2014-07-01T00:00:00",
          "2014-08-01T00:00:00",
          "2014-08-29T00:00:00",
          "2014-10-01T00:00:00",
          "2014-10-31T00:00:00",
          "2014-12-01T00:00:00",
          "2014-12-31T00:00:00",
          "2015-01-30T00:00:00",
          "2015-02-27T00:00:00",
          "2015-04-01T00:00:00",
          "2015-05-01T00:00:00",
          "2015-06-01T00:00:00",
          "2015-07-01T00:00:00",
          "2015-07-31T00:00:00",
          "2015-09-01T00:00:00",
          "2015-10-01T00:00:00",
          "2015-10-30T00:00:00",
          "2015-12-01T00:00:00",
          "2015-12-31T00:00:00",
          "2016-02-01T00:00:00",
          "2016-03-01T00:00:00",
          "2016-04-01T00:00:00",
          "2016-04-29T00:00:00",
          "2016-06-01T00:00:00",
          "2016-07-01T00:00:00",
          "2016-08-01T00:00:00",
          "2016-09-01T00:00:00",
          "2016-09-30T00:00:00",
          "2016-11-01T00:00:00",
          "2016-12-01T00:00:00",
          "2016-12-30T00:00:00",
          "2017-02-01T00:00:00",
          "2017-03-01T00:00:00",
          "2017-03-31T00:00:00",
          "2017-05-01T00:00:00",
          "2017-06-01T00:00:00",
          "2017-06-30T00:00:00",
          "2017-08-01T00:00:00",
          "2017-09-01T00:00:00",
          "2017-09-29T00:00:00",
          "2017-11-01T00:00:00",
          "2017-12-01T00:00:00",
          "2017-12-29T00:00:00",
          "2018-02-01T00:00:00",
          "2018-03-01T00:00:00",
          "2018-03-30T00:00:00",
          "2018-05-01T00:00:00",
          "2018-06-01T00:00:00",
          "2018-06-29T00:00:00",
          "2018-08-01T00:00:00",
          "2018-08-31T00:00:00",
          "2018-10-01T00:00:00",
          "2018-11-01T00:00:00",
          "2018-11-30T00:00:00",
          "2018-12-31T00:00:00",
          "2019-02-01T00:00:00",
          "2019-03-01T00:00:00",
          "2019-04-01T00:00:00",
          "2019-05-01T00:00:00",
          "2019-05-31T00:00:00",
          "2019-07-01T00:00:00",
          "2019-08-01T00:00:00",
          "2019-08-30T00:00:00",
          "2019-10-01T00:00:00",
          "2019-11-01T00:00:00",
          "2019-11-29T00:00:00",
          "2019-12-31T00:00:00",
          "2020-01-31T00:00:00",
          "2020-02-28T00:00:00",
          "2020-04-01T00:00:00",
          "2020-05-01T00:00:00",
          "2020-06-01T00:00:00",
          "2020-07-01T00:00:00",
          "2020-07-31T00:00:00",
          "2020-09-01T00:00:00",
          "2020-10-01T00:00:00",
          "2020-10-30T00:00:00",
          "2020-12-01T00:00:00",
          "2020-12-31T00:00:00",
          "2021-02-01T00:00:00",
          "2021-03-01T00:00:00",
          "2021-04-01T00:00:00",
          "2021-04-30T00:00:00",
          "2021-06-01T00:00:00",
          "2021-07-01T00:00:00",
          "2021-07-30T00:00:00",
          "2021-09-01T00:00:00",
          "2021-10-01T00:00:00",
          "2021-11-01T00:00:00",
          "2021-12-01T00:00:00",
          "2021-12-31T00:00:00",
          "2022-02-01T00:00:00",
          "2022-03-01T00:00:00",
          "2022-04-01T00:00:00",
          "2022-04-29T00:00:00",
          "2022-06-01T00:00:00",
          "2022-07-01T00:00:00",
          "2022-08-01T00:00:00",
          "2022-09-01T00:00:00",
          "2022-09-30T00:00:00",
          "2022-11-01T00:00:00",
          "2022-12-01T00:00:00",
          "2022-12-30T00:00:00",
          "2023-02-01T00:00:00",
          "2023-03-01T00:00:00",
          "2023-03-31T00:00:00",
          "2023-05-01T00:00:00",
          "2023-06-01T00:00:00",
          "2023-06-30T00:00:00",
          "2023-08-01T00:00:00",
          "2023-09-01T00:00:00",
          "2023-09-29T00:00:00",
          "2023-11-01T00:00:00",
          "2023-12-01T00:00:00",
          "2023-12-29T00:00:00",
          "2024-02-01T00:00:00",
          "2024-03-01T00:00:00"
         ],
         "y": [
          0.993741831393159,
          0.9724357704297104,
          0.9784494217076994,
          0.9974817026231926,
          0.9884027838193435,
          1.0504042156754003,
          1.0481509937298574,
          1.0666587198075859,
          1.1029128706785947,
          1.1404076291146223,
          1.1392593252110952,
          1.16078649866432,
          1.1315086978249793,
          1.1380896781031233,
          1.129729400462835,
          1.1104447827656343,
          1.0855982730770506,
          1.0360553659429823,
          1.0913270317172645,
          1.0875123680697454,
          1.092532438955934,
          1.1150902114136463,
          1.1022974746976533,
          1.1205446438460622,
          1.1331542645167711,
          1.1111768394715822,
          1.1259086404399796,
          1.1258263365058863,
          1.1139604117146724,
          1.131995506700644,
          1.135739189783783,
          1.1619026324942188,
          1.2320977715363934,
          1.2187422110226427,
          1.2469698131862959,
          1.2082292455084764,
          1.2068637794696695,
          1.1771640436801956,
          1.2066815313429933,
          1.2120472052397797,
          1.2073766984522232,
          1.2069393620480726,
          1.2357332627789281,
          1.3597883034915905,
          1.3532541051825706,
          1.3183554927229866,
          1.3494115909868125,
          1.4074369904174089,
          1.397024428522681,
          1.3753241127447782,
          1.4020049788578388,
          1.388023262830512,
          1.387526402021485,
          1.392485676589618,
          1.4163121457246657,
          1.4434686478404533,
          1.4720534686168434,
          1.475117092182464,
          1.510018214131132,
          1.5033347493763993,
          1.5015155336163337,
          1.5105428682902804,
          1.51354042271781,
          1.4783401800079083,
          1.483805841602812,
          1.4716526235789555,
          1.4876143224716536,
          1.5021127603124689,
          1.4635913162305092,
          1.4343901966801083,
          1.4244195112178932,
          1.4652150067918943,
          1.4550763796640025,
          1.437811902494178,
          1.446159055947334,
          1.4163212419556808,
          1.4029927369109458,
          1.4239034966462365,
          1.4534159276451617,
          1.4086429741171909,
          1.44918165326286,
          1.436311441612513,
          1.427394494690739,
          1.4573137213405132,
          1.4815296927053356,
          1.489400679777871,
          1.4373134151542803,
          1.401536260062425,
          1.406186646965506,
          1.3753344194227797,
          1.3779832848400406,
          1.3833300060529345,
          1.3671739377704384,
          1.3911555356076712,
          1.383747562381869,
          1.3906182284523714,
          1.3841839337780582,
          1.367848962037607,
          1.3873199252039732,
          1.351400244267262,
          1.3243295417320864,
          1.3263825057814507,
          1.3528767558901864,
          1.3775445411558938,
          1.4030067154283112,
          1.3959725392391367,
          1.3818732145787338,
          1.385500424167119,
          1.418059806864135,
          1.4433358813512112,
          1.4228284295102835,
          1.4509843288971283,
          1.441493995132468,
          1.4317459401915782,
          1.4247015619131758,
          1.4250042035116923,
          1.4295969890814593,
          1.4427567184305774,
          1.4312667769658536,
          1.4426052859656295,
          1.4150856856832994,
          1.4176271293821865,
          1.4410867283085618,
          1.4345207212855118,
          1.4343322626949229,
          1.4816766425159433,
          1.4821723528051483,
          1.4973718191798833,
          1.534454705423623,
          1.5070684002108246,
          1.5157095405452168,
          1.5013741260956104,
          1.4900671289017453,
          1.477145450018802,
          1.4728704921689098,
          1.457965251656713,
          1.424662595246738,
          1.432703737432032,
          1.4446923219830823,
          1.4565786838309338,
          1.444937149450519,
          1.3758951982741183,
          1.3850261940665864,
          1.3966913090120725,
          1.4162410443684021,
          1.4258032510516678,
          1.4321048949382957,
          1.4637935155127186,
          1.4563077443387709,
          1.4585562607005156,
          1.4779256727731656,
          1.5019044565870892,
          1.518346231513077,
          1.4821984013463065,
          1.471885687437544,
          1.4926091848486296,
          1.5580859472654467,
          1.556337523720365,
          1.5416526725940352,
          1.5767690791360933,
          1.556603849249714,
          1.5465985691731319,
          1.5559089416758074,
          1.548040699599222,
          1.5094933252641685,
          1.4680538923999766,
          1.4563813254449447,
          1.4734149587496579,
          1.4832066242560142,
          1.4780843669194756,
          1.496580645776351,
          1.4954093898320262,
          1.4705300094712668,
          1.471751231735237,
          1.4775305803348848,
          1.4755875010011377,
          1.4758364266904707,
          1.4684123305178622,
          1.4524825113705535,
          1.4798686498979012,
          1.4731856321503183,
          1.4414590240066254,
          1.4402543305632505,
          1.4505280327251087,
          1.4876189660146517,
          1.463256174347348,
          1.4307279829952633,
          1.4120597680685432,
          1.3865671171789282,
          1.3850307077006008,
          1.375234347120626,
          1.3672046963472388,
          1.374307752128929,
          1.3475283331075407,
          1.3571168987164306,
          1.3524649820847967,
          1.389057118044772,
          1.408318014062905,
          1.4088493872285128,
          1.3953486552332384,
          1.400851344278994,
          1.4076502600106493,
          1.4155184737979474,
          1.384854300938608,
          1.332166876354895,
          1.3241521939141534,
          1.2625171449213688,
          1.2691040620190512,
          1.2477646796097321,
          1.3063299032967994,
          1.2844625019196036,
          1.267966167735057,
          1.219412623724199,
          1.251931738489426,
          1.2385216269502484,
          1.2248182668141654,
          1.2232977965405774,
          1.2997978269091561,
          1.2860667944888513,
          1.3297520043188413,
          1.320944940840504,
          1.3398275415980696,
          1.3522519355853555,
          1.3618057234614716,
          1.3488026626444507,
          1.3729577258977477,
          1.3473638763387106,
          1.389587866650833
         ]
        },
        {
         "line": {
          "color": "green"
         },
         "mode": "lines",
         "name": "SUV_Std_err_last_resid_8_cum_5_weeks Factor Performance",
         "type": "scatter",
         "x": [
          "2005-02-01T00:00:00",
          "2005-03-01T00:00:00",
          "2005-04-01T00:00:00",
          "2005-04-29T00:00:00",
          "2005-06-01T00:00:00",
          "2005-07-01T00:00:00",
          "2005-08-01T00:00:00",
          "2005-09-01T00:00:00",
          "2005-09-30T00:00:00",
          "2005-11-01T00:00:00",
          "2005-12-01T00:00:00",
          "2005-12-30T00:00:00",
          "2006-02-01T00:00:00",
          "2006-03-01T00:00:00",
          "2006-03-31T00:00:00",
          "2006-05-01T00:00:00",
          "2006-06-01T00:00:00",
          "2006-06-30T00:00:00",
          "2006-08-01T00:00:00",
          "2006-09-01T00:00:00",
          "2006-09-29T00:00:00",
          "2006-11-01T00:00:00",
          "2006-12-01T00:00:00",
          "2006-12-29T00:00:00",
          "2007-02-01T00:00:00",
          "2007-03-01T00:00:00",
          "2007-03-30T00:00:00",
          "2007-05-01T00:00:00",
          "2007-06-01T00:00:00",
          "2007-06-29T00:00:00",
          "2007-08-01T00:00:00",
          "2007-08-31T00:00:00",
          "2007-10-01T00:00:00",
          "2007-11-01T00:00:00",
          "2007-11-30T00:00:00",
          "2007-12-31T00:00:00",
          "2008-02-01T00:00:00",
          "2008-02-29T00:00:00",
          "2008-04-01T00:00:00",
          "2008-05-01T00:00:00",
          "2008-05-30T00:00:00",
          "2008-07-01T00:00:00",
          "2008-08-01T00:00:00",
          "2008-08-29T00:00:00",
          "2008-10-01T00:00:00",
          "2008-10-31T00:00:00",
          "2008-12-01T00:00:00",
          "2008-12-31T00:00:00",
          "2009-01-30T00:00:00",
          "2009-02-27T00:00:00",
          "2009-04-01T00:00:00",
          "2009-05-01T00:00:00",
          "2009-06-01T00:00:00",
          "2009-07-01T00:00:00",
          "2009-07-31T00:00:00",
          "2009-09-01T00:00:00",
          "2009-10-01T00:00:00",
          "2009-10-30T00:00:00",
          "2009-12-01T00:00:00",
          "2009-12-31T00:00:00",
          "2010-02-01T00:00:00",
          "2010-03-01T00:00:00",
          "2010-04-01T00:00:00",
          "2010-04-30T00:00:00",
          "2010-06-01T00:00:00",
          "2010-07-01T00:00:00",
          "2010-07-30T00:00:00",
          "2010-09-01T00:00:00",
          "2010-10-01T00:00:00",
          "2010-11-01T00:00:00",
          "2010-12-01T00:00:00",
          "2010-12-31T00:00:00",
          "2011-02-01T00:00:00",
          "2011-03-01T00:00:00",
          "2011-04-01T00:00:00",
          "2011-04-29T00:00:00",
          "2011-06-01T00:00:00",
          "2011-07-01T00:00:00",
          "2011-08-01T00:00:00",
          "2011-09-01T00:00:00",
          "2011-09-30T00:00:00",
          "2011-11-01T00:00:00",
          "2011-12-01T00:00:00",
          "2011-12-30T00:00:00",
          "2012-02-01T00:00:00",
          "2012-03-01T00:00:00",
          "2012-03-30T00:00:00",
          "2012-05-01T00:00:00",
          "2012-06-01T00:00:00",
          "2012-06-29T00:00:00",
          "2012-08-01T00:00:00",
          "2012-08-31T00:00:00",
          "2012-10-01T00:00:00",
          "2012-11-01T00:00:00",
          "2012-11-30T00:00:00",
          "2012-12-31T00:00:00",
          "2013-02-01T00:00:00",
          "2013-03-01T00:00:00",
          "2013-04-01T00:00:00",
          "2013-05-01T00:00:00",
          "2013-05-31T00:00:00",
          "2013-07-01T00:00:00",
          "2013-08-01T00:00:00",
          "2013-08-30T00:00:00",
          "2013-10-01T00:00:00",
          "2013-11-01T00:00:00",
          "2013-11-29T00:00:00",
          "2013-12-31T00:00:00",
          "2014-01-31T00:00:00",
          "2014-02-28T00:00:00",
          "2014-04-01T00:00:00",
          "2014-05-01T00:00:00",
          "2014-05-30T00:00:00",
          "2014-07-01T00:00:00",
          "2014-08-01T00:00:00",
          "2014-08-29T00:00:00",
          "2014-10-01T00:00:00",
          "2014-10-31T00:00:00",
          "2014-12-01T00:00:00",
          "2014-12-31T00:00:00",
          "2015-01-30T00:00:00",
          "2015-02-27T00:00:00",
          "2015-04-01T00:00:00",
          "2015-05-01T00:00:00",
          "2015-06-01T00:00:00",
          "2015-07-01T00:00:00",
          "2015-07-31T00:00:00",
          "2015-09-01T00:00:00",
          "2015-10-01T00:00:00",
          "2015-10-30T00:00:00",
          "2015-12-01T00:00:00",
          "2015-12-31T00:00:00",
          "2016-02-01T00:00:00",
          "2016-03-01T00:00:00",
          "2016-04-01T00:00:00",
          "2016-04-29T00:00:00",
          "2016-06-01T00:00:00",
          "2016-07-01T00:00:00",
          "2016-08-01T00:00:00",
          "2016-09-01T00:00:00",
          "2016-09-30T00:00:00",
          "2016-11-01T00:00:00",
          "2016-12-01T00:00:00",
          "2016-12-30T00:00:00",
          "2017-02-01T00:00:00",
          "2017-03-01T00:00:00",
          "2017-03-31T00:00:00",
          "2017-05-01T00:00:00",
          "2017-06-01T00:00:00",
          "2017-06-30T00:00:00",
          "2017-08-01T00:00:00",
          "2017-09-01T00:00:00",
          "2017-09-29T00:00:00",
          "2017-11-01T00:00:00",
          "2017-12-01T00:00:00",
          "2017-12-29T00:00:00",
          "2018-02-01T00:00:00",
          "2018-03-01T00:00:00",
          "2018-03-30T00:00:00",
          "2018-05-01T00:00:00",
          "2018-06-01T00:00:00",
          "2018-06-29T00:00:00",
          "2018-08-01T00:00:00",
          "2018-08-31T00:00:00",
          "2018-10-01T00:00:00",
          "2018-11-01T00:00:00",
          "2018-11-30T00:00:00",
          "2018-12-31T00:00:00",
          "2019-02-01T00:00:00",
          "2019-03-01T00:00:00",
          "2019-04-01T00:00:00",
          "2019-05-01T00:00:00",
          "2019-05-31T00:00:00",
          "2019-07-01T00:00:00",
          "2019-08-01T00:00:00",
          "2019-08-30T00:00:00",
          "2019-10-01T00:00:00",
          "2019-11-01T00:00:00",
          "2019-11-29T00:00:00",
          "2019-12-31T00:00:00",
          "2020-01-31T00:00:00",
          "2020-02-28T00:00:00",
          "2020-04-01T00:00:00",
          "2020-05-01T00:00:00",
          "2020-06-01T00:00:00",
          "2020-07-01T00:00:00",
          "2020-07-31T00:00:00",
          "2020-09-01T00:00:00",
          "2020-10-01T00:00:00",
          "2020-10-30T00:00:00",
          "2020-12-01T00:00:00",
          "2020-12-31T00:00:00",
          "2021-02-01T00:00:00",
          "2021-03-01T00:00:00",
          "2021-04-01T00:00:00",
          "2021-04-30T00:00:00",
          "2021-06-01T00:00:00",
          "2021-07-01T00:00:00",
          "2021-07-30T00:00:00",
          "2021-09-01T00:00:00",
          "2021-10-01T00:00:00",
          "2021-11-01T00:00:00",
          "2021-12-01T00:00:00",
          "2021-12-31T00:00:00",
          "2022-02-01T00:00:00",
          "2022-03-01T00:00:00",
          "2022-04-01T00:00:00",
          "2022-04-29T00:00:00",
          "2022-06-01T00:00:00",
          "2022-07-01T00:00:00",
          "2022-08-01T00:00:00",
          "2022-09-01T00:00:00",
          "2022-09-30T00:00:00",
          "2022-11-01T00:00:00",
          "2022-12-01T00:00:00",
          "2022-12-30T00:00:00",
          "2023-02-01T00:00:00",
          "2023-03-01T00:00:00",
          "2023-03-31T00:00:00",
          "2023-05-01T00:00:00",
          "2023-06-01T00:00:00",
          "2023-06-30T00:00:00",
          "2023-08-01T00:00:00",
          "2023-09-01T00:00:00",
          "2023-09-29T00:00:00",
          "2023-11-01T00:00:00",
          "2023-12-01T00:00:00",
          "2023-12-29T00:00:00",
          "2024-02-01T00:00:00",
          "2024-03-01T00:00:00"
         ],
         "y": [
          0.0379006566448518,
          0.019424019261203202,
          0.006299130244136902,
          0.04760071895569411,
          0.03853708703321901,
          0.04680758916509841,
          0.03726696622633391,
          0.06233634389908651,
          0.03526435638821251,
          0.0968882374652408,
          0.0807453896148704,
          0.110549902819024,
          0.14442400613599501,
          0.1436689234167624,
          0.1509228410933108,
          0.1442320186763118,
          0.1487598313829949,
          0.15487619850694628,
          0.18269270365166487,
          0.21711346829786998,
          0.24720524598694277,
          0.2603113420463314,
          0.2720585094525987,
          0.3039102545887385,
          0.2629808223094499,
          0.28212370132241094,
          0.324326360547021,
          0.3744761033625684,
          0.3692322835848888,
          0.3456333164820746,
          0.360385120719728,
          0.3866627501331814,
          0.35921932079873603,
          0.36880537894220594,
          0.32451666509977134,
          0.26919581924511693,
          0.21341547603977853,
          0.2661276772080263,
          0.30201211966544544,
          0.3050396638523126,
          0.21643506605283475,
          0.19926069388047396,
          0.20015046569972905,
          0.00952708019135215,
          -0.12590510621053164,
          -0.2711974030973524,
          -0.1893273362289245,
          -0.3120127044806034,
          -0.4741911534210804,
          -0.3007942669244521,
          -0.2272729385106464,
          -0.1417447137746474,
          -0.1489802479833456,
          -0.07891571327294071,
          -0.07983821195665401,
          -0.06811452747602881,
          -0.07461113291577481,
          0.01047233814777268,
          0.00813173473134088,
          -0.008640348362542119,
          0.02677775561575268,
          0.08059322896384097,
          0.09096191550311176,
          0.02110806807152077,
          -0.016340097127570834,
          0.04669349146388387,
          0.019804496943558073,
          0.07474940914882987,
          0.12386598856936276,
          0.18010970092814757,
          0.20081386110658236,
          0.22364480812176626,
          0.22043438125796105,
          0.25441767128962783,
          0.28297211878109024,
          0.2677391206831484,
          0.29470333813057215,
          0.24111124724796035,
          0.16426521451634155,
          0.12730447566126565,
          0.16125628167492234,
          0.20174358179504293,
          0.21504031192310533,
          0.2818980706204857,
          0.3170898867454168,
          0.34263307933000814,
          0.36760182416877313,
          0.28936106596076705,
          0.3681092550769334,
          0.3833069822516523,
          0.40767293385340386,
          0.43939677587500103,
          0.46444340891702995,
          0.45485996949169816,
          0.46885426451610085,
          0.5387374199819228,
          0.5483780055724676,
          0.5936567576017484,
          0.6173096368800568,
          0.6763333835796994,
          0.7008494655037398,
          0.7709453273832535,
          0.7332674380249968,
          0.7628478061925019,
          0.7854895160069351,
          0.8060089567925424,
          0.8448182950416845,
          0.8200368120085029,
          0.8471424715804592,
          0.8526755963343525,
          0.8575626412816587,
          0.8716770659149005,
          0.900736109633385,
          0.8829373792038243,
          0.928430855838641,
          0.9063233638096252,
          0.9498363675809317,
          0.9676819984385656,
          0.9743053688539776,
          0.9444688462578188,
          1.025442269357319,
          0.9967779383537482,
          1.0193175500890728,
          1.0299314883574961,
          1.0198203412710012,
          1.0208505286690646,
          0.9300221616558372,
          0.9344420029587863,
          0.9970404315015527,
          1.0207374878109097,
          0.9969199325758266,
          0.9548720651514255,
          0.9807231551437442,
          1.0495330532186165,
          1.066663902636313,
          1.0866681642501212,
          1.0988345437109805,
          1.133576971842958,
          1.1314246436360644,
          1.1353136426698869,
          1.1183881043410533,
          1.176912940231332,
          1.2077063540121038,
          1.2336703379358915,
          1.2758102153541129,
          1.2638347441225286,
          1.2683816084915536,
          1.2843931862245468,
          1.284376887934411,
          1.2990582097280365,
          1.297483747387391,
          1.3060464329656032,
          1.324416721822738,
          1.3668987700075184,
          1.3877171523553697,
          1.432033570477083,
          1.344032627264718,
          1.317526973721277,
          1.329190262488498,
          1.3535064397752807,
          1.3642159121811772,
          1.406078020408157,
          1.4311163825821465,
          1.4511611717941746,
          1.413376957864086,
          1.4420624942351141,
          1.353207721157616,
          1.4237131474962437,
          1.4555790173617333,
          1.474569247710406,
          1.4762793356470139,
          1.3979072850178165,
          1.4868592806680228,
          1.4862711317114559,
          1.477642040200518,
          1.4756363523605969,
          1.5383443163107993,
          1.5572466611468845,
          1.5900232280250348,
          1.5719403438201756,
          1.4975901793523754,
          1.3037512336398156,
          1.44358268232943,
          1.5055208415854306,
          1.5121800355489423,
          1.5543932378955132,
          1.6637500204595816,
          1.6329021574424045,
          1.6046950017170278,
          1.7294644748635168,
          1.7573428804004974,
          1.7516210276980517,
          1.8022855521409125,
          1.8581289167817918,
          1.879440793397654,
          1.8947117161034173,
          1.8896379233534824,
          1.877711781671321,
          1.8995064881663324,
          1.8875763118113233,
          1.9251935514149854,
          1.8712168581118116,
          1.934551637545523,
          1.9260298256722124,
          1.8853288633545258,
          1.9376170443588852,
          1.8728383445076033,
          1.8801543091171082,
          1.8286357277440066,
          1.8619300787988835,
          1.8343232424030407,
          1.7340527375875192,
          1.8464008384140673,
          1.8964797257565518,
          1.855059480306046,
          1.9457469947039878,
          1.909796079986917,
          1.9078788338632773,
          1.9226235727778844,
          1.8943775853238893,
          1.9444305762257472,
          1.978700895353346,
          1.9579003249020044,
          1.8979739082371014,
          1.8944380216908216,
          1.9597096235368907,
          2.0182714387194003,
          2.030109495232116
         ]
        },
        {
         "line": {
          "color": "red",
          "dash": "dash"
         },
         "mode": "lines",
         "name": "S&P 100 Returns",
         "type": "scatter",
         "x": [
          "2005-02-01T00:00:00",
          "2005-03-01T00:00:00",
          "2005-04-01T00:00:00",
          "2005-04-29T00:00:00",
          "2005-06-01T00:00:00",
          "2005-07-01T00:00:00",
          "2005-08-01T00:00:00",
          "2005-09-01T00:00:00",
          "2005-09-30T00:00:00",
          "2005-11-01T00:00:00",
          "2005-12-01T00:00:00",
          "2005-12-30T00:00:00",
          "2006-02-01T00:00:00",
          "2006-03-01T00:00:00",
          "2006-03-31T00:00:00",
          "2006-05-01T00:00:00",
          "2006-06-01T00:00:00",
          "2006-06-30T00:00:00",
          "2006-08-01T00:00:00",
          "2006-09-01T00:00:00",
          "2006-09-29T00:00:00",
          "2006-11-01T00:00:00",
          "2006-12-01T00:00:00",
          "2006-12-29T00:00:00",
          "2007-02-01T00:00:00",
          "2007-03-01T00:00:00",
          "2007-03-30T00:00:00",
          "2007-05-01T00:00:00",
          "2007-06-01T00:00:00",
          "2007-06-29T00:00:00",
          "2007-08-01T00:00:00",
          "2007-08-31T00:00:00",
          "2007-10-01T00:00:00",
          "2007-11-01T00:00:00",
          "2007-11-30T00:00:00",
          "2007-12-31T00:00:00",
          "2008-02-01T00:00:00",
          "2008-02-29T00:00:00",
          "2008-04-01T00:00:00",
          "2008-05-01T00:00:00",
          "2008-05-30T00:00:00",
          "2008-07-01T00:00:00",
          "2008-08-01T00:00:00",
          "2008-08-29T00:00:00",
          "2008-10-01T00:00:00",
          "2008-10-31T00:00:00",
          "2008-12-01T00:00:00",
          "2008-12-31T00:00:00",
          "2009-01-30T00:00:00",
          "2009-02-27T00:00:00",
          "2009-04-01T00:00:00",
          "2009-05-01T00:00:00",
          "2009-06-01T00:00:00",
          "2009-07-01T00:00:00",
          "2009-07-31T00:00:00",
          "2009-09-01T00:00:00",
          "2009-10-01T00:00:00",
          "2009-10-30T00:00:00",
          "2009-12-01T00:00:00",
          "2009-12-31T00:00:00",
          "2010-02-01T00:00:00",
          "2010-03-01T00:00:00",
          "2010-04-01T00:00:00",
          "2010-04-30T00:00:00",
          "2010-06-01T00:00:00",
          "2010-07-01T00:00:00",
          "2010-07-30T00:00:00",
          "2010-09-01T00:00:00",
          "2010-10-01T00:00:00",
          "2010-11-01T00:00:00",
          "2010-12-01T00:00:00",
          "2010-12-31T00:00:00",
          "2011-02-01T00:00:00",
          "2011-03-01T00:00:00",
          "2011-04-01T00:00:00",
          "2011-04-29T00:00:00",
          "2011-06-01T00:00:00",
          "2011-07-01T00:00:00",
          "2011-08-01T00:00:00",
          "2011-09-01T00:00:00",
          "2011-09-30T00:00:00",
          "2011-11-01T00:00:00",
          "2011-12-01T00:00:00",
          "2011-12-30T00:00:00",
          "2012-02-01T00:00:00",
          "2012-03-01T00:00:00",
          "2012-03-30T00:00:00",
          "2012-05-01T00:00:00",
          "2012-06-01T00:00:00",
          "2012-06-29T00:00:00",
          "2012-08-01T00:00:00",
          "2012-08-31T00:00:00",
          "2012-10-01T00:00:00",
          "2012-11-01T00:00:00",
          "2012-11-30T00:00:00",
          "2012-12-31T00:00:00",
          "2013-02-01T00:00:00",
          "2013-03-01T00:00:00",
          "2013-04-01T00:00:00",
          "2013-05-01T00:00:00",
          "2013-05-31T00:00:00",
          "2013-07-01T00:00:00",
          "2013-08-01T00:00:00",
          "2013-08-30T00:00:00",
          "2013-10-01T00:00:00",
          "2013-11-01T00:00:00",
          "2013-11-29T00:00:00",
          "2013-12-31T00:00:00",
          "2014-01-31T00:00:00",
          "2014-02-28T00:00:00",
          "2014-04-01T00:00:00",
          "2014-05-01T00:00:00",
          "2014-05-30T00:00:00",
          "2014-07-01T00:00:00",
          "2014-08-01T00:00:00",
          "2014-08-29T00:00:00",
          "2014-10-01T00:00:00",
          "2014-10-31T00:00:00",
          "2014-12-01T00:00:00",
          "2014-12-31T00:00:00",
          "2015-01-30T00:00:00",
          "2015-02-27T00:00:00",
          "2015-04-01T00:00:00",
          "2015-05-01T00:00:00",
          "2015-06-01T00:00:00",
          "2015-07-01T00:00:00",
          "2015-07-31T00:00:00",
          "2015-09-01T00:00:00",
          "2015-10-01T00:00:00",
          "2015-10-30T00:00:00",
          "2015-12-01T00:00:00",
          "2015-12-31T00:00:00",
          "2016-02-01T00:00:00",
          "2016-03-01T00:00:00",
          "2016-04-01T00:00:00",
          "2016-04-29T00:00:00",
          "2016-06-01T00:00:00",
          "2016-07-01T00:00:00",
          "2016-08-01T00:00:00",
          "2016-09-01T00:00:00",
          "2016-09-30T00:00:00",
          "2016-11-01T00:00:00",
          "2016-12-01T00:00:00",
          "2016-12-30T00:00:00",
          "2017-02-01T00:00:00",
          "2017-03-01T00:00:00",
          "2017-03-31T00:00:00",
          "2017-05-01T00:00:00",
          "2017-06-01T00:00:00",
          "2017-06-30T00:00:00",
          "2017-08-01T00:00:00",
          "2017-09-01T00:00:00",
          "2017-09-29T00:00:00",
          "2017-11-01T00:00:00",
          "2017-12-01T00:00:00",
          "2017-12-29T00:00:00",
          "2018-02-01T00:00:00",
          "2018-03-01T00:00:00",
          "2018-03-30T00:00:00",
          "2018-05-01T00:00:00",
          "2018-06-01T00:00:00",
          "2018-06-29T00:00:00",
          "2018-08-01T00:00:00",
          "2018-08-31T00:00:00",
          "2018-10-01T00:00:00",
          "2018-11-01T00:00:00",
          "2018-11-30T00:00:00",
          "2018-12-31T00:00:00",
          "2019-02-01T00:00:00",
          "2019-03-01T00:00:00",
          "2019-04-01T00:00:00",
          "2019-05-01T00:00:00",
          "2019-05-31T00:00:00",
          "2019-07-01T00:00:00",
          "2019-08-01T00:00:00",
          "2019-08-30T00:00:00",
          "2019-10-01T00:00:00",
          "2019-11-01T00:00:00",
          "2019-11-29T00:00:00",
          "2019-12-31T00:00:00",
          "2020-01-31T00:00:00",
          "2020-02-28T00:00:00",
          "2020-04-01T00:00:00",
          "2020-05-01T00:00:00",
          "2020-06-01T00:00:00",
          "2020-07-01T00:00:00",
          "2020-07-31T00:00:00",
          "2020-09-01T00:00:00",
          "2020-10-01T00:00:00",
          "2020-10-30T00:00:00",
          "2020-12-01T00:00:00",
          "2020-12-31T00:00:00",
          "2021-02-01T00:00:00",
          "2021-03-01T00:00:00",
          "2021-04-01T00:00:00",
          "2021-04-30T00:00:00",
          "2021-06-01T00:00:00",
          "2021-07-01T00:00:00",
          "2021-07-30T00:00:00",
          "2021-09-01T00:00:00",
          "2021-10-01T00:00:00",
          "2021-11-01T00:00:00",
          "2021-12-01T00:00:00",
          "2021-12-31T00:00:00",
          "2022-02-01T00:00:00",
          "2022-03-01T00:00:00",
          "2022-04-01T00:00:00",
          "2022-04-29T00:00:00",
          "2022-06-01T00:00:00",
          "2022-07-01T00:00:00",
          "2022-08-01T00:00:00",
          "2022-09-01T00:00:00",
          "2022-09-30T00:00:00",
          "2022-11-01T00:00:00",
          "2022-12-01T00:00:00",
          "2022-12-30T00:00:00",
          "2023-02-01T00:00:00",
          "2023-03-01T00:00:00",
          "2023-03-31T00:00:00",
          "2023-05-01T00:00:00",
          "2023-06-01T00:00:00",
          "2023-06-30T00:00:00",
          "2023-08-01T00:00:00",
          "2023-09-01T00:00:00",
          "2023-09-29T00:00:00",
          "2023-11-01T00:00:00",
          "2023-12-01T00:00:00",
          "2023-12-29T00:00:00",
          "2024-02-01T00:00:00",
          "2024-03-01T00:00:00"
         ],
         "y": [
          1.010887506174876,
          0.9887434693237912,
          0.9724318364196542,
          0.993466777215838,
          0.982028541541022,
          1.007714101089651,
          0.993094760000128,
          0.9975506121545624,
          0.9796424529272041,
          1.011148652103387,
          1.0031804867033858,
          1.0184493216597006,
          1.021985036664339,
          1.0338458132949682,
          1.0476002367302153,
          1.0226390785740673,
          1.0198133166147938,
          1.0355287693358328,
          1.0578514524924663,
          1.0873120370908205,
          1.1199025422912987,
          1.133962511729738,
          1.1504049394792524,
          1.1600043262382425,
          1.1248390285813614,
          1.134347266213972,
          1.1805923857020186,
          1.212089867562798,
          1.1982422078379964,
          1.1733673110313472,
          1.1905622754842895,
          1.2291131136775448,
          1.242887885586509,
          1.1971734754886076,
          1.1879114549278325,
          1.1237821545597162,
          1.0769199619633794,
          1.0770666655465666,
          1.1205735827954615,
          1.1176833326865248,
          1.0224498222814156,
          1.0272909412453934,
          1.0390724827732518,
          0.9555554150343953,
          0.7978380823039801,
          0.7280278138715218,
          0.7249043517870262,
          0.6269675389861242,
          0.5103498473838672,
          0.5907172807803487,
          0.6638972854765232,
          0.7156387495704453,
          0.720538332644967,
          0.789335694291677,
          0.8202903703865744,
          0.8485765002665171,
          0.8361311816558663,
          0.8934047612098924,
          0.8999425255173261,
          0.8622836827015196,
          0.8841993603833064,
          0.9396425841148508,
          0.9496317037927063,
          0.8581749914145815,
          0.8052642657038882,
          0.873271592687547,
          0.8223946153750394,
          0.9010505621586371,
          0.9362156646449993,
          0.9299115317829254,
          0.9959615531652738,
          1.0192437274657256,
          1.047717713463273,
          1.0422661885553381,
          1.0682616518492505,
          1.0499971213256563,
          1.033096911174419,
          1.0200893036928518,
          0.963837678651648,
          0.8985409491235895,
          0.991480723095862,
          0.9889748379582735,
          1.0045654535576387,
          1.0441372377685672,
          1.0863761331427766,
          1.1200742267429376,
          1.1118775544129247,
          1.0499468466799564,
          1.093406002833638,
          1.11233378523887,
          1.1289780617134733,
          1.1555250067710392,
          1.1291482896262104,
          1.1289471853268953,
          1.12928743390423,
          1.1720938622093735,
          1.183350650935756,
          1.2151318239219362,
          1.2353776396320468,
          1.2555489468568684,
          1.2376560716766818,
          1.2845664386320221,
          1.2518481171299025,
          1.2751075122628095,
          1.3211748008527517,
          1.3500744006208836,
          1.3714840437081937,
          1.32919726783613,
          1.3646998060426934,
          1.3768349958828043,
          1.3862684486014756,
          1.4059401869632353,
          1.4208168039944202,
          1.4131267986827596,
          1.4477313653132942,
          1.4388854800012651,
          1.4552501118508017,
          1.477822454305877,
          1.4692069245063983,
          1.4326818663039347,
          1.487845810795892,
          1.4621475485746982,
          1.4778770103500856,
          1.488537128145525,
          1.4690748178519208,
          1.4939430334490746,
          1.4239892308981243,
          1.4007313299594795,
          1.4892171669132535,
          1.4888934122895527,
          1.4725589125192349,
          1.424127499835223,
          1.4138251430737672,
          1.4742033251900408,
          1.4764900701800856,
          1.4901986586658555,
          1.4907159403176413,
          1.5262986675071906,
          1.5245607579984088,
          1.5231014565168373,
          1.5075325654995468,
          1.5336436331721102,
          1.5566924638539446,
          1.5697495104056274,
          1.6107984915844153,
          1.6103301862449813,
          1.6187074476709218,
          1.6263098667495601,
          1.6308155363566317,
          1.6505040970630875,
          1.6549390185268615,
          1.6716303967159725,
          1.69354305351975,
          1.720412512027372,
          1.7334797987306443,
          1.789578346527741,
          1.7491780779800896,
          1.711449590293815,
          1.7143485055606091,
          1.7383363545890143,
          1.7430270926406495,
          1.781829140844955,
          1.8175356493456227,
          1.8232462495929893,
          1.7549605986794785,
          1.7683952910431338,
          1.673139838579921,
          1.740663526154986,
          1.767055914196412,
          1.7896902248830173,
          1.8316556531834935,
          1.76005995849414,
          1.8257078818163381,
          1.8407241364621152,
          1.8217848883984273,
          1.8393261664856984,
          1.8652262109602193,
          1.9007925944270891,
          1.9314483590595612,
          1.9345913907686438,
          1.8462816236121649,
          1.7371328030888393,
          1.8564903287314771,
          1.894336933028848,
          1.9210348939742525,
          1.974045826038141,
          2.059349060509914,
          2.010356923731968,
          1.9758515682070934,
          2.0713757804950887,
          2.1079143511123153,
          2.101646565852985,
          2.11424131131655,
          2.15412997186071,
          2.2075900146278276,
          2.209545190696308,
          2.2406644156210644,
          2.264304394901023,
          2.297268142896482,
          2.2471328255165908,
          2.317634859083417,
          2.3155402795518603,
          2.3512901247109737,
          2.3037115468883753,
          2.2625183018073187,
          2.3004279076569665,
          2.196342403557151,
          2.192098420047932,
          2.1108800075298593,
          2.1995401560041357,
          2.1519465046857067,
          2.05127480961916,
          2.1194775841959936,
          2.1682757036233715,
          2.1013073031309624,
          2.1620953854233793,
          2.1405298127907493,
          2.1935987065372897,
          2.2140348194937767,
          2.2365536450549612,
          2.295014740489946,
          2.3270861067225788,
          2.3138056451157984,
          2.263299779828489,
          2.247041770189924,
          2.3329230112373276,
          2.3700729035036345,
          2.39318286405723,
          2.4462820872414293
         ]
        }
       ],
       "layout": {
        "height": 400,
        "legend": {
         "orientation": "h",
         "x": 1,
         "xanchor": "right",
         "y": 1.02,
         "yanchor": "bottom"
        },
        "template": {
         "data": {
          "bar": [
           {
            "error_x": {
             "color": "#2a3f5f"
            },
            "error_y": {
             "color": "#2a3f5f"
            },
            "marker": {
             "line": {
              "color": "#E5ECF6",
              "width": 0.5
             },
             "pattern": {
              "fillmode": "overlay",
              "size": 10,
              "solidity": 0.2
             }
            },
            "type": "bar"
           }
          ],
          "barpolar": [
           {
            "marker": {
             "line": {
              "color": "#E5ECF6",
              "width": 0.5
             },
             "pattern": {
              "fillmode": "overlay",
              "size": 10,
              "solidity": 0.2
             }
            },
            "type": "barpolar"
           }
          ],
          "carpet": [
           {
            "aaxis": {
             "endlinecolor": "#2a3f5f",
             "gridcolor": "white",
             "linecolor": "white",
             "minorgridcolor": "white",
             "startlinecolor": "#2a3f5f"
            },
            "baxis": {
             "endlinecolor": "#2a3f5f",
             "gridcolor": "white",
             "linecolor": "white",
             "minorgridcolor": "white",
             "startlinecolor": "#2a3f5f"
            },
            "type": "carpet"
           }
          ],
          "choropleth": [
           {
            "colorbar": {
             "outlinewidth": 0,
             "ticks": ""
            },
            "type": "choropleth"
           }
          ],
          "contour": [
           {
            "colorbar": {
             "outlinewidth": 0,
             "ticks": ""
            },
            "colorscale": [
             [
              0,
              "#0d0887"
             ],
             [
              0.1111111111111111,
              "#46039f"
             ],
             [
              0.2222222222222222,
              "#7201a8"
             ],
             [
              0.3333333333333333,
              "#9c179e"
             ],
             [
              0.4444444444444444,
              "#bd3786"
             ],
             [
              0.5555555555555556,
              "#d8576b"
             ],
             [
              0.6666666666666666,
              "#ed7953"
             ],
             [
              0.7777777777777778,
              "#fb9f3a"
             ],
             [
              0.8888888888888888,
              "#fdca26"
             ],
             [
              1,
              "#f0f921"
             ]
            ],
            "type": "contour"
           }
          ],
          "contourcarpet": [
           {
            "colorbar": {
             "outlinewidth": 0,
             "ticks": ""
            },
            "type": "contourcarpet"
           }
          ],
          "heatmap": [
           {
            "colorbar": {
             "outlinewidth": 0,
             "ticks": ""
            },
            "colorscale": [
             [
              0,
              "#0d0887"
             ],
             [
              0.1111111111111111,
              "#46039f"
             ],
             [
              0.2222222222222222,
              "#7201a8"
             ],
             [
              0.3333333333333333,
              "#9c179e"
             ],
             [
              0.4444444444444444,
              "#bd3786"
             ],
             [
              0.5555555555555556,
              "#d8576b"
             ],
             [
              0.6666666666666666,
              "#ed7953"
             ],
             [
              0.7777777777777778,
              "#fb9f3a"
             ],
             [
              0.8888888888888888,
              "#fdca26"
             ],
             [
              1,
              "#f0f921"
             ]
            ],
            "type": "heatmap"
           }
          ],
          "heatmapgl": [
           {
            "colorbar": {
             "outlinewidth": 0,
             "ticks": ""
            },
            "colorscale": [
             [
              0,
              "#0d0887"
             ],
             [
              0.1111111111111111,
              "#46039f"
             ],
             [
              0.2222222222222222,
              "#7201a8"
             ],
             [
              0.3333333333333333,
              "#9c179e"
             ],
             [
              0.4444444444444444,
              "#bd3786"
             ],
             [
              0.5555555555555556,
              "#d8576b"
             ],
             [
              0.6666666666666666,
              "#ed7953"
             ],
             [
              0.7777777777777778,
              "#fb9f3a"
             ],
             [
              0.8888888888888888,
              "#fdca26"
             ],
             [
              1,
              "#f0f921"
             ]
            ],
            "type": "heatmapgl"
           }
          ],
          "histogram": [
           {
            "marker": {
             "pattern": {
              "fillmode": "overlay",
              "size": 10,
              "solidity": 0.2
             }
            },
            "type": "histogram"
           }
          ],
          "histogram2d": [
           {
            "colorbar": {
             "outlinewidth": 0,
             "ticks": ""
            },
            "colorscale": [
             [
              0,
              "#0d0887"
             ],
             [
              0.1111111111111111,
              "#46039f"
             ],
             [
              0.2222222222222222,
              "#7201a8"
             ],
             [
              0.3333333333333333,
              "#9c179e"
             ],
             [
              0.4444444444444444,
              "#bd3786"
             ],
             [
              0.5555555555555556,
              "#d8576b"
             ],
             [
              0.6666666666666666,
              "#ed7953"
             ],
             [
              0.7777777777777778,
              "#fb9f3a"
             ],
             [
              0.8888888888888888,
              "#fdca26"
             ],
             [
              1,
              "#f0f921"
             ]
            ],
            "type": "histogram2d"
           }
          ],
          "histogram2dcontour": [
           {
            "colorbar": {
             "outlinewidth": 0,
             "ticks": ""
            },
            "colorscale": [
             [
              0,
              "#0d0887"
             ],
             [
              0.1111111111111111,
              "#46039f"
             ],
             [
              0.2222222222222222,
              "#7201a8"
             ],
             [
              0.3333333333333333,
              "#9c179e"
             ],
             [
              0.4444444444444444,
              "#bd3786"
             ],
             [
              0.5555555555555556,
              "#d8576b"
             ],
             [
              0.6666666666666666,
              "#ed7953"
             ],
             [
              0.7777777777777778,
              "#fb9f3a"
             ],
             [
              0.8888888888888888,
              "#fdca26"
             ],
             [
              1,
              "#f0f921"
             ]
            ],
            "type": "histogram2dcontour"
           }
          ],
          "mesh3d": [
           {
            "colorbar": {
             "outlinewidth": 0,
             "ticks": ""
            },
            "type": "mesh3d"
           }
          ],
          "parcoords": [
           {
            "line": {
             "colorbar": {
              "outlinewidth": 0,
              "ticks": ""
             }
            },
            "type": "parcoords"
           }
          ],
          "pie": [
           {
            "automargin": true,
            "type": "pie"
           }
          ],
          "scatter": [
           {
            "fillpattern": {
             "fillmode": "overlay",
             "size": 10,
             "solidity": 0.2
            },
            "type": "scatter"
           }
          ],
          "scatter3d": [
           {
            "line": {
             "colorbar": {
              "outlinewidth": 0,
              "ticks": ""
             }
            },
            "marker": {
             "colorbar": {
              "outlinewidth": 0,
              "ticks": ""
             }
            },
            "type": "scatter3d"
           }
          ],
          "scattercarpet": [
           {
            "marker": {
             "colorbar": {
              "outlinewidth": 0,
              "ticks": ""
             }
            },
            "type": "scattercarpet"
           }
          ],
          "scattergeo": [
           {
            "marker": {
             "colorbar": {
              "outlinewidth": 0,
              "ticks": ""
             }
            },
            "type": "scattergeo"
           }
          ],
          "scattergl": [
           {
            "marker": {
             "colorbar": {
              "outlinewidth": 0,
              "ticks": ""
             }
            },
            "type": "scattergl"
           }
          ],
          "scattermapbox": [
           {
            "marker": {
             "colorbar": {
              "outlinewidth": 0,
              "ticks": ""
             }
            },
            "type": "scattermapbox"
           }
          ],
          "scatterpolar": [
           {
            "marker": {
             "colorbar": {
              "outlinewidth": 0,
              "ticks": ""
             }
            },
            "type": "scatterpolar"
           }
          ],
          "scatterpolargl": [
           {
            "marker": {
             "colorbar": {
              "outlinewidth": 0,
              "ticks": ""
             }
            },
            "type": "scatterpolargl"
           }
          ],
          "scatterternary": [
           {
            "marker": {
             "colorbar": {
              "outlinewidth": 0,
              "ticks": ""
             }
            },
            "type": "scatterternary"
           }
          ],
          "surface": [
           {
            "colorbar": {
             "outlinewidth": 0,
             "ticks": ""
            },
            "colorscale": [
             [
              0,
              "#0d0887"
             ],
             [
              0.1111111111111111,
              "#46039f"
             ],
             [
              0.2222222222222222,
              "#7201a8"
             ],
             [
              0.3333333333333333,
              "#9c179e"
             ],
             [
              0.4444444444444444,
              "#bd3786"
             ],
             [
              0.5555555555555556,
              "#d8576b"
             ],
             [
              0.6666666666666666,
              "#ed7953"
             ],
             [
              0.7777777777777778,
              "#fb9f3a"
             ],
             [
              0.8888888888888888,
              "#fdca26"
             ],
             [
              1,
              "#f0f921"
             ]
            ],
            "type": "surface"
           }
          ],
          "table": [
           {
            "cells": {
             "fill": {
              "color": "#EBF0F8"
             },
             "line": {
              "color": "white"
             }
            },
            "header": {
             "fill": {
              "color": "#C8D4E3"
             },
             "line": {
              "color": "white"
             }
            },
            "type": "table"
           }
          ]
         },
         "layout": {
          "annotationdefaults": {
           "arrowcolor": "#2a3f5f",
           "arrowhead": 0,
           "arrowwidth": 1
          },
          "autotypenumbers": "strict",
          "coloraxis": {
           "colorbar": {
            "outlinewidth": 0,
            "ticks": ""
           }
          },
          "colorscale": {
           "diverging": [
            [
             0,
             "#8e0152"
            ],
            [
             0.1,
             "#c51b7d"
            ],
            [
             0.2,
             "#de77ae"
            ],
            [
             0.3,
             "#f1b6da"
            ],
            [
             0.4,
             "#fde0ef"
            ],
            [
             0.5,
             "#f7f7f7"
            ],
            [
             0.6,
             "#e6f5d0"
            ],
            [
             0.7,
             "#b8e186"
            ],
            [
             0.8,
             "#7fbc41"
            ],
            [
             0.9,
             "#4d9221"
            ],
            [
             1,
             "#276419"
            ]
           ],
           "sequential": [
            [
             0,
             "#0d0887"
            ],
            [
             0.1111111111111111,
             "#46039f"
            ],
            [
             0.2222222222222222,
             "#7201a8"
            ],
            [
             0.3333333333333333,
             "#9c179e"
            ],
            [
             0.4444444444444444,
             "#bd3786"
            ],
            [
             0.5555555555555556,
             "#d8576b"
            ],
            [
             0.6666666666666666,
             "#ed7953"
            ],
            [
             0.7777777777777778,
             "#fb9f3a"
            ],
            [
             0.8888888888888888,
             "#fdca26"
            ],
            [
             1,
             "#f0f921"
            ]
           ],
           "sequentialminus": [
            [
             0,
             "#0d0887"
            ],
            [
             0.1111111111111111,
             "#46039f"
            ],
            [
             0.2222222222222222,
             "#7201a8"
            ],
            [
             0.3333333333333333,
             "#9c179e"
            ],
            [
             0.4444444444444444,
             "#bd3786"
            ],
            [
             0.5555555555555556,
             "#d8576b"
            ],
            [
             0.6666666666666666,
             "#ed7953"
            ],
            [
             0.7777777777777778,
             "#fb9f3a"
            ],
            [
             0.8888888888888888,
             "#fdca26"
            ],
            [
             1,
             "#f0f921"
            ]
           ]
          },
          "colorway": [
           "#636efa",
           "#EF553B",
           "#00cc96",
           "#ab63fa",
           "#FFA15A",
           "#19d3f3",
           "#FF6692",
           "#B6E880",
           "#FF97FF",
           "#FECB52"
          ],
          "font": {
           "color": "#2a3f5f"
          },
          "geo": {
           "bgcolor": "white",
           "lakecolor": "white",
           "landcolor": "#E5ECF6",
           "showlakes": true,
           "showland": true,
           "subunitcolor": "white"
          },
          "hoverlabel": {
           "align": "left"
          },
          "hovermode": "closest",
          "mapbox": {
           "style": "light"
          },
          "paper_bgcolor": "white",
          "plot_bgcolor": "#E5ECF6",
          "polar": {
           "angularaxis": {
            "gridcolor": "white",
            "linecolor": "white",
            "ticks": ""
           },
           "bgcolor": "#E5ECF6",
           "radialaxis": {
            "gridcolor": "white",
            "linecolor": "white",
            "ticks": ""
           }
          },
          "scene": {
           "xaxis": {
            "backgroundcolor": "#E5ECF6",
            "gridcolor": "white",
            "gridwidth": 2,
            "linecolor": "white",
            "showbackground": true,
            "ticks": "",
            "zerolinecolor": "white"
           },
           "yaxis": {
            "backgroundcolor": "#E5ECF6",
            "gridcolor": "white",
            "gridwidth": 2,
            "linecolor": "white",
            "showbackground": true,
            "ticks": "",
            "zerolinecolor": "white"
           },
           "zaxis": {
            "backgroundcolor": "#E5ECF6",
            "gridcolor": "white",
            "gridwidth": 2,
            "linecolor": "white",
            "showbackground": true,
            "ticks": "",
            "zerolinecolor": "white"
           }
          },
          "shapedefaults": {
           "line": {
            "color": "#2a3f5f"
           }
          },
          "ternary": {
           "aaxis": {
            "gridcolor": "white",
            "linecolor": "white",
            "ticks": ""
           },
           "baxis": {
            "gridcolor": "white",
            "linecolor": "white",
            "ticks": ""
           },
           "bgcolor": "#E5ECF6",
           "caxis": {
            "gridcolor": "white",
            "linecolor": "white",
            "ticks": ""
           }
          },
          "title": {
           "x": 0.05
          },
          "xaxis": {
           "automargin": true,
           "gridcolor": "white",
           "linecolor": "white",
           "ticks": "",
           "title": {
            "standoff": 15
           },
           "zerolinecolor": "white",
           "zerolinewidth": 2
          },
          "yaxis": {
           "automargin": true,
           "gridcolor": "white",
           "linecolor": "white",
           "ticks": "",
           "title": {
            "standoff": 15
           },
           "zerolinecolor": "white",
           "zerolinewidth": 2
          }
         }
        },
        "title": {
         "text": "Equity Curve and S&P 100 Returns for SUV_Std_err_last_resid_8_cum_5_weeks"
        },
        "width": 1000,
        "xaxis": {
         "tickformat": "%Y-%m-%d",
         "title": {
          "text": "Date"
         },
         "type": "date"
        },
        "yaxis": {
         "title": {
          "text": "Returns"
         }
        }
       }
      }
     },
     "metadata": {},
     "output_type": "display_data"
    }
   ],
   "source": [
    "import plotly.graph_objects as go\n",
    "import pandas as pd\n",
    "import numpy as np\n",
    "import yfinance as yf\n",
    "\n",
    "def downsample_to_month_end(cumulative_returns):\n",
    "    # Assuming cumulative_returns index is already a DatetimeIndex\n",
    "    # 'BM' stands for 'business month end', which will resample the data to each business month end\n",
    "    monthly_cumulative_returns = cumulative_returns.resample('BM').last()\n",
    "    return monthly_cumulative_returns\n",
    "\n",
    "\n",
    "def fetch_sp100_cumulative_returns(start_date, end_date):\n",
    "    # Fetch historical data for S&P 100 Index\n",
    "    sp100_data = yf.download('^OEX', start=start_date, end=end_date)\n",
    "    \n",
    "    # Calculate logarithmic daily returns\n",
    "    log_daily_returns = np.log(sp100_data['Adj Close'] / sp100_data['Adj Close'].shift(1))\n",
    "    \n",
    "    # Fill missing values (like at the start) with zeros\n",
    "    log_daily_returns = log_daily_returns.fillna(0)\n",
    "    \n",
    "    # Calculate cumulative logarithmic returns by summing the log daily returns\n",
    "    cumulative_log_returns = log_daily_returns.cumsum()\n",
    "    \n",
    "    return cumulative_log_returns + 1\n",
    "\n",
    "def plot_ls_pfolios_plotly(performance_factors, quantile_pfolios_insample, dates):\n",
    "    # Convert date strings to datetime objects\n",
    "    date_times = pd.to_datetime(dates)\n",
    "    \n",
    "    # Assuming the start and end dates can be inferred from the dates array\n",
    "    start_date = dates[0]\n",
    "    end_date = dates[-1]\n",
    "    \n",
    "    # Fetch S&P 100 returns\n",
    "    sp100_cum_returns = fetch_sp100_cumulative_returns(start_date, end_date)\n",
    "    monthly_sp100_cumulative_returns = downsample_to_month_end(sp100_cum_returns)\n",
    "    monthly_sp100_cumulative_returns.to_csv(\"sp100.csv\")\n",
    "\n",
    "    print(len(monthly_sp100_cumulative_returns))\n",
    "    print(quantile_pfolios_insample)\n",
    "    # Iterate through each factor and create a separate plot\n",
    "    for column in performance_factors.columns:\n",
    "        # Create a new figure for each factor\n",
    "        fig = go.Figure()\n",
    "\n",
    "        # Add trace for the equity curve, use date_times for the x-axis\n",
    "        fig.add_trace(go.Scatter(x=date_times, y=performance_factors[column] + 1, name=f\"{column} Factor Predictive Stability\", mode='lines', line=dict(color='blue')))\n",
    "        \n",
    "        # Add trace for Log_Return_Q5\n",
    "        fig.add_trace(go.Scatter(x=date_times, y=quantile_pfolios_insample[quantile_pfolios_insample[\"Factor\"]==column]['Log_Return_Q5'], name=f\"{column} Factor Performance\", mode='lines', line=dict(color='green')))\n",
    "        \n",
    "        # Add S&P 100 returns to the plot\n",
    "        fig.add_trace(go.Scatter(x=date_times, y=monthly_sp100_cumulative_returns.values, name='S&P 100 Returns', mode='lines', line=dict(color='red', dash='dash')))\n",
    "        \n",
    "        # Update layout for each figure\n",
    "        fig.update_layout(\n",
    "            height=400, width=1000,\n",
    "            title_text=f'Equity Curve and S&P 100 Returns for {column}',\n",
    "            xaxis_title='Date',\n",
    "            yaxis_title='Returns',\n",
    "            xaxis=dict(type='date', tickformat='%Y-%m-%d'),\n",
    "            legend=dict(orientation=\"h\", yanchor=\"bottom\", y=1.02, xanchor=\"right\", x=1)\n",
    "        )\n",
    "        \n",
    "        fig.show()\n",
    "\n",
    "plot_ls_pfolios_plotly(quantile_ls_pfolios, quantile_pfolios, pd.to_datetime(dates.values.squeeze()))\n"
   ]
  },
  {
   "cell_type": "code",
   "execution_count": 42,
   "metadata": {},
   "outputs": [
    {
     "data": {
      "text/plain": [
       "DatetimeIndex(['2005-02-01', '2005-03-01', '2005-04-01', '2005-04-29',\n",
       "               '2005-06-01', '2005-07-01', '2005-08-01', '2005-09-01',\n",
       "               '2005-09-30', '2005-11-01',\n",
       "               ...\n",
       "               '2023-06-01', '2023-06-30', '2023-08-01', '2023-09-01',\n",
       "               '2023-09-29', '2023-11-01', '2023-12-01', '2023-12-29',\n",
       "               '2024-02-01', '2024-03-01'],\n",
       "              dtype='datetime64[ns]', length=230, freq=None)"
      ]
     },
     "execution_count": 42,
     "metadata": {},
     "output_type": "execute_result"
    }
   ],
   "source": [
    "pd.to_datetime(dates.values.squeeze())"
   ]
  },
  {
   "cell_type": "code",
   "execution_count": null,
   "metadata": {},
   "outputs": [],
   "source": []
  }
 ],
 "metadata": {
  "kernelspec": {
   "display_name": ".venv",
   "language": "python",
   "name": "python3"
  },
  "language_info": {
   "codemirror_mode": {
    "name": "ipython",
    "version": 3
   },
   "file_extension": ".py",
   "mimetype": "text/x-python",
   "name": "python",
   "nbconvert_exporter": "python",
   "pygments_lexer": "ipython3",
   "version": "3.10.12"
  }
 },
 "nbformat": 4,
 "nbformat_minor": 2
}
